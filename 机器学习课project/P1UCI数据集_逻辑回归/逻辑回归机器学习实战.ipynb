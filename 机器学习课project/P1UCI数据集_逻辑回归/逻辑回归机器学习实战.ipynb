{
 "cells": [
  {
   "cell_type": "markdown",
   "metadata": {},
   "source": [
    "# LogRegres.py"
   ]
  },
  {
   "cell_type": "markdown",
   "metadata": {},
   "source": [
    "没用：线性拟合的梯度下降代码 https://www.jianshu.com/p/c7e642877b0e"
   ]
  },
  {
   "cell_type": "code",
   "execution_count": 2,
   "metadata": {
    "ExecuteTime": {
     "end_time": "2020-06-08T08:32:42.974920Z",
     "start_time": "2020-06-08T08:32:42.832301Z"
    }
   },
   "outputs": [
    {
     "name": "stdout",
     "output_type": "stream",
     "text": [
      "optimal: [[0.51583286]\n",
      " [0.96992163]]\n",
      "error function: 405.9849624932405\n"
     ]
    }
   ],
   "source": [
    "import numpy as np\n",
    "\n",
    "# Size of the points dataset.\n",
    "m = 20\n",
    "\n",
    "# Points x-coordinate and dummy value (x0, x1).\n",
    "X0 = np.ones((m, 1))\n",
    "X1 = np.arange(1, m+1).reshape(m, 1)\n",
    "X = np.hstack((X0, X1))\n",
    "\n",
    "# Points y-coordinate\n",
    "y = np.array([\n",
    "    3, 4, 5, 5, 2, 4, 7, 8, 11, 8, 12,\n",
    "    11, 13, 13, 16, 17, 18, 17, 19, 21\n",
    "]).reshape(m, 1)\n",
    "\n",
    "# The Learning Rate alpha.\n",
    "alpha = 0.01\n",
    "\n",
    "def error_function(theta, X, y):\n",
    "    '''Error function J definition.'''\n",
    "    diff = np.dot(X, theta) - y\n",
    "    return (1./2*m) * np.dot(np.transpose(diff), diff)\n",
    "\n",
    "def gradient_function(theta, X, y):\n",
    "    '''Gradient of the function J definition.'''\n",
    "    diff = np.dot(X, theta) - y\n",
    "    return (1./m) * np.dot(np.transpose(X), diff)\n",
    "\n",
    "def gradient_descent(X, y, alpha):\n",
    "    '''Perform gradient descent.'''\n",
    "    theta = np.array([1, 1]).reshape(2, 1)\n",
    "    gradient = gradient_function(theta, X, y)\n",
    "    while not np.all(np.absolute(gradient) <= 1e-5):\n",
    "        theta = theta - alpha * gradient\n",
    "        gradient = gradient_function(theta, X, y)\n",
    "    return theta\n",
    "\n",
    "optimal = gradient_descent(X, y, alpha)\n",
    "print('optimal:', optimal)\n",
    "print('error function:', error_function(optimal, X, y)[0,0])"
   ]
  },
  {
   "cell_type": "markdown",
   "metadata": {},
   "source": [
    "正片:"
   ]
  },
  {
   "cell_type": "code",
   "execution_count": 1,
   "metadata": {
    "ExecuteTime": {
     "end_time": "2020-06-08T07:03:09.986884Z",
     "start_time": "2020-06-08T07:03:09.506169Z"
    }
   },
   "outputs": [
    {
     "data": {
      "text/plain": [
       "<Figure size 640x480 with 1 Axes>"
      ]
     },
     "metadata": {},
     "output_type": "display_data"
    }
   ],
   "source": [
    "# -*- coding:UTF-8 -*-\n",
    "import matplotlib.pyplot as plt\n",
    "import numpy as np\n",
    "\n",
    "\"\"\"\n",
    "函数说明:梯度上升算法测试函数\n",
    "\n",
    "求函数f(x) = -x^2 + 4x的极大值\n",
    "\n",
    "Parameters:\n",
    "    无\n",
    "Returns:\n",
    "    无\n",
    "Author:\n",
    "    Jack Cui\n",
    "Blog:\n",
    "    http://blog.csdn.net/c406495762\n",
    "Zhihu:\n",
    "    https://www.zhihu.com/people/Jack--Cui/\n",
    "Modify:\n",
    "    2017-08-28\n",
    "\"\"\"\n",
    "def Gradient_Ascent_test():\n",
    "    def f_prime(x_old):                                    #f(x)的导数\n",
    "        return -2 * x_old + 4\n",
    "    x_old = -1                                            #初始值，给一个小于x_new的值\n",
    "    x_new = 0                                            #梯度上升算法初始值，即从(0,0)开始\n",
    "    alpha = 0.01                                        #步长，也就是学习速率，控制更新的幅度\n",
    "    presision = 0.00000001                                #精度，也就是更新阈值\n",
    "    while abs(x_new - x_old) > presision:\n",
    "        x_old = x_new\n",
    "        x_new = x_old + alpha * f_prime(x_old)            #上面提到的公式\n",
    "    print(x_new)                                        #打印最终求解的极值近似值\n"
   ]
  },
  {
   "cell_type": "code",
   "execution_count": null,
   "metadata": {},
   "outputs": [],
   "source": [
    "\"\"\"\n",
    "函数说明:加载数据\n",
    "\n",
    "Parameters:\n",
    "    无\n",
    "Returns:\n",
    "    dataMat - 数据列表\n",
    "    labelMat - 标签列表\n",
    "Author:\n",
    "    Jack Cui\n",
    "Blog:\n",
    "    http://blog.csdn.net/c406495762\n",
    "Zhihu:\n",
    "    https://www.zhihu.com/people/Jack--Cui/\n",
    "Modify:\n",
    "    2017-08-28\n",
    "\"\"\"\n",
    "def loadDataSet():\n",
    "    dataMat = []                                                        #创建数据列表\n",
    "    labelMat = []                                                        #创建标签列表\n",
    "    fr = open('testSet.txt')                                            #打开文件    \n",
    "    for line in fr.readlines():                                            #逐行读取\n",
    "        lineArr = line.strip().split()                                    #去回车，放入列表\n",
    "        dataMat.append([1.0, float(lineArr[0]), float(lineArr[1])])        #添加数据\n",
    "        labelMat.append(int(lineArr[2]))                                #添加标签\n",
    "    fr.close()                                                            #关闭文件\n",
    "    return dataMat, labelMat                                            #返回\n"
   ]
  },
  {
   "cell_type": "code",
   "execution_count": null,
   "metadata": {},
   "outputs": [],
   "source": [
    "\n",
    "\"\"\"\n",
    "函数说明:sigmoid函数\n",
    "\n",
    "Parameters:\n",
    "    inX - 数据\n",
    "Returns:\n",
    "    sigmoid函数\n",
    "Author:\n",
    "    Jack Cui\n",
    "Blog:\n",
    "    http://blog.csdn.net/c406495762\n",
    "Zhihu:\n",
    "    https://www.zhihu.com/people/Jack--Cui/\n",
    "Modify:\n",
    "    2017-08-28\n",
    "\"\"\"\n",
    "def sigmoid(inX):\n",
    "    return 1.0 / (1 + np.exp(-inX))\n"
   ]
  },
  {
   "cell_type": "code",
   "execution_count": null,
   "metadata": {},
   "outputs": [],
   "source": [
    "\n",
    "\n",
    "\"\"\"\n",
    "函数说明:梯度上升算法\n",
    "\n",
    "Parameters:\n",
    "    dataMatIn - 数据集\n",
    "    classLabels - 数据标签\n",
    "Returns:\n",
    "    weights.getA() - 求得的权重数组(最优参数)\n",
    "Author:\n",
    "    Jack Cui\n",
    "Blog:\n",
    "    http://blog.csdn.net/c406495762\n",
    "Zhihu:\n",
    "    https://www.zhihu.com/people/Jack--Cui/\n",
    "Modify:\n",
    "    2017-08-28\n",
    "\"\"\"\n",
    "def gradAscent(dataMatIn, classLabels):\n",
    "    dataMatrix = np.mat(dataMatIn)                                        #转换成numpy的mat\n",
    "    labelMat = np.mat(classLabels).transpose()                            #转换成numpy的mat,并进行转置\n",
    "    m, n = np.shape(dataMatrix)                                            #返回dataMatrix的大小。m为行数,n为列数。\n",
    "    alpha = 0.001                                                        #移动步长,也就是学习速率,控制更新的幅度。\n",
    "    maxCycles = 500                                                        #最大迭代次数\n",
    "    weights = np.ones((n,1))\n",
    "    for k in range(maxCycles):\n",
    "        h = sigmoid(dataMatrix * weights)                                #梯度上升矢量化公式\n",
    "        error = labelMat - h\n",
    "        weights = weights + alpha * dataMatrix.transpose() * error\n",
    "    return weights.getA()                                                #将矩阵转换为数组，返回权重数组\n"
   ]
  },
  {
   "cell_type": "code",
   "execution_count": null,
   "metadata": {},
   "outputs": [],
   "source": [
    "\n",
    "\"\"\"\n",
    "函数说明:绘制数据集\n",
    "\n",
    "Parameters:\n",
    "    无\n",
    "Returns:\n",
    "    无\n",
    "Author:\n",
    "    Jack Cui\n",
    "Blog:\n",
    "    http://blog.csdn.net/c406495762\n",
    "Zhihu:\n",
    "    https://www.zhihu.com/people/Jack--Cui/\n",
    "Modify:\n",
    "    2017-08-30\n",
    "\"\"\"\n",
    "def plotDataSet():\n",
    "    dataMat, labelMat = loadDataSet()                                    #加载数据集\n",
    "    dataArr = np.array(dataMat)                                            #转换成numpy的array数组\n",
    "    n = np.shape(dataMat)[0]                                            #数据个数\n",
    "    xcord1 = []; ycord1 = []                                            #正样本\n",
    "    xcord2 = []; ycord2 = []                                            #负样本\n",
    "    for i in range(n):                                                    #根据数据集标签进行分类\n",
    "        if int(labelMat[i]) == 1:\n",
    "            xcord1.append(dataArr[i,1]); ycord1.append(dataArr[i,2])    #1为正样本\n",
    "        else:\n",
    "            xcord2.append(dataArr[i,1]); ycord2.append(dataArr[i,2])    #0为负样本\n",
    "    fig = plt.figure()\n",
    "    ax = fig.add_subplot(111)                                            #添加subplot\n",
    "    ax.scatter(xcord1, ycord1, s = 20, c = 'red', marker = 's',alpha=.5)#绘制正样本\n",
    "    ax.scatter(xcord2, ycord2, s = 20, c = 'green',alpha=.5)            #绘制负样本\n",
    "    plt.title('DataSet')                                                #绘制title\n",
    "    plt.xlabel('X1'); plt.ylabel('X2')                                    #绘制label\n",
    "    plt.show()                                                            #显示\n"
   ]
  },
  {
   "cell_type": "code",
   "execution_count": null,
   "metadata": {},
   "outputs": [],
   "source": [
    "\n",
    "\"\"\"\n",
    "函数说明:绘制数据集\n",
    "\n",
    "Parameters:\n",
    "    weights - 权重参数数组\n",
    "Returns:\n",
    "    无\n",
    "Author:\n",
    "    Jack Cui\n",
    "Blog:\n",
    "    http://blog.csdn.net/c406495762\n",
    "Zhihu:\n",
    "    https://www.zhihu.com/people/Jack--Cui/\n",
    "Modify:\n",
    "    2017-08-30\n",
    "\"\"\"\n",
    "def plotBestFit(weights):\n",
    "    dataMat, labelMat = loadDataSet()                                    #加载数据集\n",
    "    dataArr = np.array(dataMat)                                            #转换成numpy的array数组\n",
    "    n = np.shape(dataMat)[0]                                            #数据个数\n",
    "    xcord1 = []; ycord1 = []                                            #正样本\n",
    "    xcord2 = []; ycord2 = []                                            #负样本\n",
    "    for i in range(n):                                                    #根据数据集标签进行分类\n",
    "        if int(labelMat[i]) == 1:\n",
    "            xcord1.append(dataArr[i,1]); ycord1.append(dataArr[i,2])    #1为正样本\n",
    "        else:\n",
    "            xcord2.append(dataArr[i,1]); ycord2.append(dataArr[i,2])    #0为负样本\n",
    "    fig = plt.figure()\n",
    "    ax = fig.add_subplot(111)                                            #添加subplot\n",
    "    ax.scatter(xcord1, ycord1, s = 20, c = 'red', marker = 's',alpha=.5)#绘制正样本\n",
    "    ax.scatter(xcord2, ycord2, s = 20, c = 'green',alpha=.5)            #绘制负样本\n",
    "    x = np.arange(-3.0, 3.0, 0.1)\n",
    "    y = (-weights[0] - weights[1] * x) / weights[2]\n",
    "    ax.plot(x, y)\n",
    "    plt.title('BestFit')                                                #绘制title\n",
    "    plt.xlabel('X1'); plt.ylabel('X2')                                    #绘制label\n",
    "    plt.show()        \n",
    "\n",
    "if __name__ == '__main__':\n",
    "    dataMat, labelMat = loadDataSet()    \n",
    "    weights = gradAscent(dataMat, labelMat)\n",
    "    plotBestFit(weights)"
   ]
  }
 ],
 "metadata": {
  "kernelspec": {
   "display_name": "Python [conda env:root] *",
   "language": "python",
   "name": "conda-root-py"
  },
  "language_info": {
   "codemirror_mode": {
    "name": "ipython",
    "version": 3
   },
   "file_extension": ".py",
   "mimetype": "text/x-python",
   "name": "python",
   "nbconvert_exporter": "python",
   "pygments_lexer": "ipython3",
   "version": "3.7.0"
  },
  "latex_envs": {
   "LaTeX_envs_menu_present": true,
   "autoclose": false,
   "autocomplete": true,
   "bibliofile": "biblio.bib",
   "cite_by": "apalike",
   "current_citInitial": 1,
   "eqLabelWithNumbers": true,
   "eqNumInitial": 1,
   "hotkeys": {
    "equation": "Ctrl-E",
    "itemize": "Ctrl-I"
   },
   "labels_anchors": false,
   "latex_user_defs": false,
   "report_style_numbering": false,
   "user_envs_cfg": false
  },
  "nbTranslate": {
   "displayLangs": [
    "*"
   ],
   "hotkey": "alt-t",
   "langInMainMenu": true,
   "sourceLang": "en",
   "targetLang": "fr",
   "useGoogleTranslate": true
  },
  "toc": {
   "base_numbering": 1,
   "nav_menu": {},
   "number_sections": true,
   "sideBar": true,
   "skip_h1_title": false,
   "title_cell": "Table of Contents",
   "title_sidebar": "Contents",
   "toc_cell": false,
   "toc_position": {},
   "toc_section_display": true,
   "toc_window_display": false
  },
  "varInspector": {
   "cols": {
    "lenName": 16,
    "lenType": 16,
    "lenVar": 40
   },
   "kernels_config": {
    "python": {
     "delete_cmd_postfix": "",
     "delete_cmd_prefix": "del ",
     "library": "var_list.py",
     "varRefreshCmd": "print(var_dic_list())"
    },
    "r": {
     "delete_cmd_postfix": ") ",
     "delete_cmd_prefix": "rm(",
     "library": "var_list.r",
     "varRefreshCmd": "cat(var_dic_list()) "
    }
   },
   "types_to_exclude": [
    "module",
    "function",
    "builtin_function_or_method",
    "instance",
    "_Feature"
   ],
   "window_display": false
  }
 },
 "nbformat": 4,
 "nbformat_minor": 2
}
