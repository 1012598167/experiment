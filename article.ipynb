{
 "cells": [
  {
   "cell_type": "code",
   "execution_count": 15,
   "metadata": {
    "ExecuteTime": {
     "end_time": "2020-04-09T16:02:27.804442Z",
     "start_time": "2020-04-09T16:02:27.798460Z"
    }
   },
   "outputs": [
    {
     "data": {
      "text/plain": [
       "[2]"
      ]
     },
     "execution_count": 15,
     "metadata": {},
     "output_type": "execute_result"
    }
   ],
   "source": [
    "a=[1,2,1]\n",
    "while 1 in a:\n",
    "    a.remove(1)\n",
    "a"
   ]
  },
  {
   "cell_type": "code",
   "execution_count": 17,
   "metadata": {
    "ExecuteTime": {
     "end_time": "2020-04-09T16:05:54.740100Z",
     "start_time": "2020-04-09T16:05:54.734116Z"
    }
   },
   "outputs": [
    {
     "data": {
      "text/plain": [
       "'4442342444'"
      ]
     },
     "execution_count": 17,
     "metadata": {},
     "output_type": "execute_result"
    }
   ],
   "source": [
    "'123421'.replace('1','444')"
   ]
  },
  {
   "cell_type": "code",
   "execution_count": 18,
   "metadata": {
    "ExecuteTime": {
     "end_time": "2020-04-09T16:06:27.167522Z",
     "start_time": "2020-04-09T16:06:25.983169Z"
    }
   },
   "outputs": [
    {
     "data": {
      "text/plain": [
       "'\\n问题:\\n1、你家孩子在写记叙文的时候有没有出现什么问题？\\n2、如果有问题，这些问题属于哪方面的？\\n（1）    语言不通顺？\\n（2）    无事可记\\n（3）    磨磨蹭蹭不肯动笔\\n（4）    详略不得当\\n（5）    字数太少\\n（6）    废话太多\\n（7）    总觉得题目不是自己想写的\\n（8）    错别字太多，用词不当等\\n（9）    其他问题：比如字比较丑一点，圈画涂抹过多等……\\n对于写作没有问题的家长，只要注意让孩子练笔的频率，保持阅读量，写作能力就不会下降的。但是接下来的一些方法可以一起探讨一下。\\n对于有问题的，我们先来分析一下问题的根源。\\n其中属于属于心理因素的有哪些，属于技能层面的问题有哪些？技能问题属于写作技巧层面的有哪些，属于和阅读量有关系的有哪些？\\n \\n一、关于心理因素指导建议\\n如果孩子不愿意写作文要怎么办？\\n1、家长可以和孩子一起说作文，通过和爸爸妈妈的交流，将要写的素材找到，让孩子谈谈这件事情，对于孩子忽略的亮点需要加强引导。事实上，现在口语表达也已经成为语文教学的一个重点，以往语文教得都是要么阅读要么写作，比较严重的忽略了孩子的口头表达能力，除了课堂上回答问题有一点口头表达，对孩子的口语能力并没有深入的引导和挖掘，所以，口头作文好了，动笔自然也就水到渠成了。\\n2、很多时候，孩子不爱写，也是因为没有人认真看。这一点各位爸爸妈妈同意吗？甚至爸爸妈妈都没有认真地称为孩子第一个读者，没有及时让孩子从作文中找到被欣赏的成就感，然后倒了学校，老师一打击，结果孩子对写作就跟不感兴趣了。做孩子的第一个读者，从孩子第一篇作文开始，即使从我们的角度觉得还有诸多的不足，但是总是有两点的，第一篇作文出来，本身就要给孩子一个大大的赞赏，因为孩子居然会写文章了，甚至建议家长将孩子的第一篇作文拍照留念，或者复印保存，让孩子看着自己的成长足迹。\\n让孩子知道写文章是一件非常厉害的事情，让他第一次就得到足够的支持和肯定，并且要十分关注老师讲评作文之后，孩子的反应，因为有可能被老师批，可是老师的批评是针对所有孩子的，也不会考虑每个孩子的具体感受，为避免打击孩子的信心，家长需要知道学校老师是如何评价孩子的作文的，然后对孩子进行正向的引导，比如，老师说孩子的作文太短了，妈妈可以跟孩子说，的确是有一点短，但是第一次能写成这样就很棒，妈妈很满意。我们第二次一定会比第一次更长一些。我们可以多跟平时看的那些童话故事学习学习。\\n3、还要为孩子找到读者，找更多的读者，也许会成就一个未来的作家。比如沪江的大语文，有一个专门的爱写作专区，家长们完全给孩子盖一个楼，无论是日记还是作文，都给孩子发表过来，最好引导孩子自己发表，当孩子看见其他人的评价和点赞，一定会激发写作意愿和写作兴趣。当然，找到一群爱写作的朋友，甚至成为写作论坛的意见领袖，成为拥有很多小粉丝的写作小明星，这更应该成为爸爸妈妈鼓励孩子做的事情。做好了这件事情直接可以激发孩子写作的积极性。爸爸妈妈只需要做好一个读者和观众就可以。\\n二、关于写作技巧方面：\\n（1）    如何安排详略\\n我们一起来看一下下面一个小朋友的例文：\\n                          第一次炒菜\\n     在日常生活中，我们入到过很多第一次，第一次煮饭，第一次扫地，第一次洗衣服，第一次用电脑，等等。但我最记得的是我第一次炒菜。\\n\\u3000  星期六那天，我在家闷闷不乐的，爷爷从田里回来，爷爷茶都没喝就走进厨房里炒菜，我非常伤心，从那时候起我就决定我要学炒菜，吃完饭后过了好几小时，爷爷又去田里干活，我就拿起铲子，洗干净锅，我就开始炒菜了，过了好久，我终于炒完了，爷爷也从田里会来了，我高兴的说：“爷爷，弟弟，快来尝尝我煮的菜。\"爷爷说：”好的。“我高兴地问：”爷爷，好不好吃啊?“爷爷说：”好吃。”当我吃的时候，我几乎要吐出来。我伤心得跑进房间里哭了起来，爷爷走进来说：“孙女，别难过，失败乃成之母啊!”我擦干眼泪说:“嗯。”第二次还是不行，第三次还是不行，第四次终于成功了。我非常高兴。\\n    我知道没有失败哪有成功啊，现在，我无论做什么事都没有放弃过!\\n    针对这个小文章，大家是否可以谈谈详略方面的看法。\\n    这个小作者应该说从第一次炒菜中的得出的感悟还是不错的，开始不会炒菜，经过几次尝试终于成功，由此他认识到没有失败就没有成功，后来做什么事情都没有放弃过。但是从记叙的角度来看，还有很大提升的空间。\\n    针对这个问题，我的建议就是一定要知道哪里需要多写，哪里要少写点。这篇文章就是因为小作者的详略不得当，所以这篇文章不能算作很成功。要记叙第一次炒菜的经历，而且是希望通过做菜失败最终成功来得出一个生活中的道理。那么重点应该放在记叙什么上面呢？没错，就是要放在做菜的不容易，怎么失败了，是忘记放盐，还是盐放多了，还是菜炒焦了，还是切菜差点切到手，这些才能凸显是第一次做菜，要详细记叙第一次做菜的失败过程，然后略写后面做菜成功的过程，突出做菜的不容易，然后由做菜引申到做事，这样才比较水到渠成。全文362字，写做菜的只有63个字，这就叫做详略不得当。\\n所以，小朋友和家长一定要牢记哦，要把事情经过写具体，并做到重点突出。在记叙文六个方面的内容中，起因、经过和结果，是构成事情最主要的环节。为了把事情写得清楚、明白，在记叙中一定要写好事情的起因、经过和结果，特别要把事情的经过写具体，给人留下完整而深刻的印象。要写炒菜，那么炒菜的过程就要详写，要写第一次给妈妈洗脚，那么给妈妈洗脚的过程就要详写，要写一件快乐的事情，那么那件快乐的事情是怎样的就是要详细的。\\n一件事都有发生、发展和结果的过程，按照事情发展的顺序记叙，文章的条理就会清楚明白。确定记叙的顺序以后，安排好段落，低年级的孩子3-4段左右即可。\\n \\n ===================互动环节====================\\n\\n\\n月：请问老师，现在一二年级就要开始鼓励写作文了吗？我们现在还写的比较简单，写日记的时候一般她都是按记叙文的六要素，叙述清楚完整就可以了，也没有给她有其他要求。\\n老师：一年级一般是单图看图说话，二年级是多图看图说话，不过这也是记叙一个事情了。不过如果是作文，鼓励在沟通中慢慢讲解6要素，尤其是经过，如果6个觉得太多，可以从事情的起因、经过、结果开始说，可以不用这么理论的讲解，可以举例：宝贝，今天最快乐的事情是什么呀？哦，是一起做蛋糕，那么我们是怎么做蛋糕的呀，孩子就会讲讲过程了，能用三五句话即可。\\n\\n\\n砚泽：  四年级的孩子需要每天日记吗，或者布置命题作文？\\n老师：我非常鼓励孩子写日记，如果孩子不排斥，写日记是一个非常好的习惯，\\n\\n\\n\\n一年级-源：我的孩子写作没有太大问题，但是书写速度非常慢，该怎么办？\\n \\n老师：书写速度慢通过训练是可以解决的，比如多写些生词，尽快改善后可以避免后面孩子考试时间来不及的问题，从现在开始每天让孩子写15分钟左右的字，甚至不用管意思，就是做到流畅的书写，有些孩子到了高中还有写字速度慢的问题，结果每次大考都会受影响，这也不是很大的问题，现在开始练习练习到二年级就应该有明显改观了，孩子刚开始写字，有时候速度慢也是有的。'"
      ]
     },
     "execution_count": 18,
     "metadata": {},
     "output_type": "execute_result"
    }
   ],
   "source": [
    "import requests\n",
    "import pandas as pd\n",
    "from scrapy.selector import Selector\n",
    "s = requests.session()\n",
    "r = s.get('https://xiaoxue.hujiang.com/zuowen/yi/p344806/')\n",
    "# print(r.text)\n",
    "selector = Selector(r)\n",
    "next_url = selector.xpath(\"//div[@id='article']/p//text()\").extract()\n",
    "content=''\n",
    "for i in next_url:\n",
    "    content+=i.replace('\\r\\n\\t','\\n').replace('\\xa0',' ')\n",
    "content"
   ]
  },
  {
   "cell_type": "code",
   "execution_count": 27,
   "metadata": {
    "ExecuteTime": {
     "end_time": "2020-04-10T04:13:31.127362Z",
     "start_time": "2020-04-10T02:24:51.891871Z"
    }
   },
   "outputs": [],
   "source": [
    "import requests\n",
    "import pandas as pd\n",
    "from scrapy.selector import Selector\n",
    "\n",
    "def get_article_url(url_,list_=[]):\n",
    "    s = requests.session()\n",
    "    r = s.get(url_)\n",
    "    # print(r.text)\n",
    "    selector = Selector(r)\n",
    "    article_url = selector.xpath(\"//li[@class='unit']//a/@href\").extract()\n",
    "    for article in article_url:\n",
    "        list_.append('https://xiaoxue.hujiang.com'+article)\n",
    "    next_page_url=get_next_page_url(url_)\n",
    "    if next_page_url=='No next page':\n",
    "        return list_\n",
    "    else:\n",
    "        return get_article_url(next_page_url,list_)\n",
    "\n",
    "def get_next_page_url(url_):#url_= https://xiaoxue.hujiang.com/zuowen/yi\n",
    "    s = requests.session()\n",
    "    r = s.get(url_)\n",
    "    # print(r.text)\n",
    "    selector = Selector(r)\n",
    "    next_url = selector.xpath(\"//div[@id='split_page']/a[text()='下一页 >']//@href\").extract_first()\n",
    "    if (next_url):\n",
    "        return 'https://xiaoxue.hujiang.com'+next_url\n",
    "    else:\n",
    "        return 'No next page'\n",
    "title=[]\n",
    "content=[]\n",
    "def parse():\n",
    "    start_url = \"https://xiaoxue.hujiang.com/zuowen/\"\n",
    "\n",
    "\n",
    "    for i in ['yi','er','san','four','five','six']:\n",
    "        url = start_url + str(i)\n",
    "        for i in get_article_url(url):\n",
    "            get_title_content(i)\n",
    "    df = {'title': title, 'content': content}\n",
    "    df = pd.DataFrame(df)\n",
    "    df.to_csv(\"./article.csv\", encoding='utf_8_sig')\n",
    "def get_title_content(url_):\n",
    "\n",
    "    title_,content_=get_article_detail(url_)\n",
    "    title.append(title_)\n",
    "    content.append(content_)\n",
    "\n",
    "def get_article_detail(url_):\n",
    "    s = requests.session()\n",
    "    r = s.get(url_)\n",
    "    # print(r.text)\n",
    "    selector = Selector(r)\n",
    "    title = selector.xpath(\"//h1//text()\").extract_first().strip()\n",
    "    next_url = selector.xpath(\"//div[@id='article']/p//text()\").extract()\n",
    "    content=''\n",
    "    for i in next_url:\n",
    "        content+=i.replace('\\r\\n\\t','\\n').replace('\\xa0',' ')\n",
    "    return title,content\n",
    "# content\n",
    "#     title = []\n",
    "#     content = []\n",
    "#     reward = []\n",
    "#     for item in articel_url:\n",
    "#         ArticleUrl = \"https://acm.ecnu.edu.cn/\" + item\n",
    "#         result = articel_detail(ArticleUrl)\n",
    "\n",
    "#         title.append(result[0])\n",
    "#         content.append(result[1])\n",
    "#         reward.append(result[2])\n",
    "#         # print(result)\n",
    "\n",
    "#     df = {'title': title, 'content': content\\}\n",
    "#     df = pd.DataFrame(df)\n",
    "#     df.to_csv(\"./result.csv\", encoding='utf_8_sig')\n",
    "\n",
    "# def articel_detail(url):\n",
    "#     s = requests.session()\n",
    "#     r = s.get(url)\n",
    "#     selector = Selector(r)\n",
    "#     title = selector.xpath(\"//h1[@class='ui header']//text()\").extract()\n",
    "#     # print(title)\n",
    "#     content = selector.xpath(\"//div[@class='passage']/p//text()\").extract()\n",
    "#     # print(content)\n",
    "#     body = \"\"\n",
    "#     for item in content:\n",
    "#         body += item\n",
    "#     # print(body)\n",
    "#     reward = selector.xpath(\"//div[@class='description']/p[3]/b/text()\").extract()\n",
    "#     # print(reward[0])\n",
    "\n",
    "#     return [title[0], body, reward[0]]\n",
    "\n",
    "if __name__ == \"__main__\":\n",
    "    parse()"
   ]
  },
  {
   "cell_type": "code",
   "execution_count": null,
   "metadata": {},
   "outputs": [],
   "source": []
  }
 ],
 "metadata": {
  "kernelspec": {
   "display_name": "Python [conda env:root] *",
   "language": "python",
   "name": "conda-root-py"
  },
  "language_info": {
   "codemirror_mode": {
    "name": "ipython",
    "version": 3
   },
   "file_extension": ".py",
   "mimetype": "text/x-python",
   "name": "python",
   "nbconvert_exporter": "python",
   "pygments_lexer": "ipython3",
   "version": "3.7.0"
  },
  "latex_envs": {
   "LaTeX_envs_menu_present": true,
   "autoclose": false,
   "autocomplete": true,
   "bibliofile": "biblio.bib",
   "cite_by": "apalike",
   "current_citInitial": 1,
   "eqLabelWithNumbers": true,
   "eqNumInitial": 1,
   "hotkeys": {
    "equation": "Ctrl-E",
    "itemize": "Ctrl-I"
   },
   "labels_anchors": false,
   "latex_user_defs": false,
   "report_style_numbering": false,
   "user_envs_cfg": false
  },
  "nbTranslate": {
   "displayLangs": [
    "*"
   ],
   "hotkey": "alt-t",
   "langInMainMenu": true,
   "sourceLang": "en",
   "targetLang": "fr",
   "useGoogleTranslate": true
  },
  "toc": {
   "base_numbering": 1,
   "nav_menu": {},
   "number_sections": true,
   "sideBar": true,
   "skip_h1_title": false,
   "title_cell": "Table of Contents",
   "title_sidebar": "Contents",
   "toc_cell": false,
   "toc_position": {},
   "toc_section_display": true,
   "toc_window_display": false
  },
  "varInspector": {
   "cols": {
    "lenName": 16,
    "lenType": 16,
    "lenVar": 40
   },
   "kernels_config": {
    "python": {
     "delete_cmd_postfix": "",
     "delete_cmd_prefix": "del ",
     "library": "var_list.py",
     "varRefreshCmd": "print(var_dic_list())"
    },
    "r": {
     "delete_cmd_postfix": ") ",
     "delete_cmd_prefix": "rm(",
     "library": "var_list.r",
     "varRefreshCmd": "cat(var_dic_list()) "
    }
   },
   "types_to_exclude": [
    "module",
    "function",
    "builtin_function_or_method",
    "instance",
    "_Feature"
   ],
   "window_display": false
  }
 },
 "nbformat": 4,
 "nbformat_minor": 2
}
