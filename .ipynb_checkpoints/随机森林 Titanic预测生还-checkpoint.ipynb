{
 "cells": [
  {
   "cell_type": "markdown",
   "metadata": {},
   "source": [
    "# 数据清洗及可视化 pandas seaborn\n",
    "使用 Pandas 数据分析工具、Seaborn 统计分析可视化工具\n",
    "\n",
    "实验知识点\n",
    "\n",
    "离群点分析\n",
    "缺失值处理\n",
    "偏态分布数据处理\n"
   ]
  },
  {
   "cell_type": "code",
   "execution_count": 1,
   "metadata": {
    "ExecuteTime": {
     "end_time": "2019-10-31T08:39:59.255415Z",
     "start_time": "2019-10-31T08:39:59.009073Z"
    }
   },
   "outputs": [
    {
     "name": "stderr",
     "output_type": "stream",
     "text": [
      "--16:39:59--  http://labfile.oss.aliyuncs.com:80/courses/1001/train.csv\n",
      "           => `train.csv'\n",
      "Connecting to labfile.oss.aliyuncs.com:80... connected!\n",
      "HTTP request sent, awaiting response... 200 OK\n",
      "Length: 61,194 [text/csv]\n",
      "\n",
      "    0K -> .......... .......... .......... .......... .......... [ 83%]\n",
      "   50K -> .........                                              [100%]\n",
      "\n",
      "16:39:59 (58.36 MB/s) - `train.csv' saved [61194/61194]\n",
      "\n",
      "--16:39:59--  http://#数据来源www.kaggle.com:80/\n",
      "           => `index.html'\n",
      "Connecting to #数据来源www.kaggle.com:80... \n",
      "#数据来源www.kaggle.com: Host not found.\n",
      "\n",
      "FINISHED --16:39:59--\n",
      "Downloaded: 61,194 bytes in 1 files\n"
     ]
    }
   ],
   "source": [
    "!wget -nc http://labfile.oss.aliyuncs.com/courses/1001/train.csv #数据来源www.kaggle.com"
   ]
  }
 ],
 "metadata": {
  "kernelspec": {
   "display_name": "Python [conda env:root] *",
   "language": "python",
   "name": "conda-root-py"
  },
  "language_info": {
   "codemirror_mode": {
    "name": "ipython",
    "version": 3
   },
   "file_extension": ".py",
   "mimetype": "text/x-python",
   "name": "python",
   "nbconvert_exporter": "python",
   "pygments_lexer": "ipython3",
   "version": "3.7.0"
  },
  "latex_envs": {
   "LaTeX_envs_menu_present": true,
   "autoclose": false,
   "autocomplete": true,
   "bibliofile": "biblio.bib",
   "cite_by": "apalike",
   "current_citInitial": 1,
   "eqLabelWithNumbers": true,
   "eqNumInitial": 1,
   "hotkeys": {
    "equation": "Ctrl-E",
    "itemize": "Ctrl-I"
   },
   "labels_anchors": false,
   "latex_user_defs": false,
   "report_style_numbering": false,
   "user_envs_cfg": false
  },
  "nbTranslate": {
   "displayLangs": [
    "*"
   ],
   "hotkey": "alt-t",
   "langInMainMenu": true,
   "sourceLang": "en",
   "targetLang": "fr",
   "useGoogleTranslate": true
  },
  "toc": {
   "base_numbering": 1,
   "nav_menu": {},
   "number_sections": true,
   "sideBar": true,
   "skip_h1_title": false,
   "title_cell": "Table of Contents",
   "title_sidebar": "Contents",
   "toc_cell": false,
   "toc_position": {},
   "toc_section_display": true,
   "toc_window_display": true
  },
  "varInspector": {
   "cols": {
    "lenName": 16,
    "lenType": 16,
    "lenVar": 40
   },
   "kernels_config": {
    "python": {
     "delete_cmd_postfix": "",
     "delete_cmd_prefix": "del ",
     "library": "var_list.py",
     "varRefreshCmd": "print(var_dic_list())"
    },
    "r": {
     "delete_cmd_postfix": ") ",
     "delete_cmd_prefix": "rm(",
     "library": "var_list.r",
     "varRefreshCmd": "cat(var_dic_list()) "
    }
   },
   "position": {
    "height": "144px",
    "left": "17px",
    "right": "20px",
    "top": "714px",
    "width": "350px"
   },
   "types_to_exclude": [
    "module",
    "function",
    "builtin_function_or_method",
    "instance",
    "_Feature"
   ],
   "window_display": true
  }
 },
 "nbformat": 4,
 "nbformat_minor": 2
}
