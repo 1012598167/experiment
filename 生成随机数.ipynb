{
 "cells": [
  {
   "cell_type": "code",
   "execution_count": 4,
   "metadata": {
    "ExecuteTime": {
     "end_time": "2019-10-13T12:41:05.594686Z",
     "start_time": "2019-10-13T12:41:05.584714Z"
    }
   },
   "outputs": [
    {
     "data": {
      "text/plain": [
       "array([-0.9837727 ,  0.69092117, -0.07806787, -2.51444342,  0.72789513,\n",
       "       -0.29005819, -0.53346207, -0.54844957, -0.45413338, -0.11555816,\n",
       "        0.14865585, -0.26971523, -0.24752365,  0.50419721, -1.05441547,\n",
       "       -0.2334642 , -0.26824013,  0.9194424 ,  1.10220225,  0.17117009])"
      ]
     },
     "execution_count": 4,
     "metadata": {},
     "output_type": "execute_result"
    }
   ],
   "source": [
    "from scipy.stats import norm\n",
    "norm.rvs(size=20)"
   ]
  },
  {
   "cell_type": "code",
   "execution_count": 10,
   "metadata": {
    "ExecuteTime": {
     "end_time": "2019-10-13T12:41:43.545262Z",
     "start_time": "2019-10-13T12:41:43.540274Z"
    }
   },
   "outputs": [
    {
     "data": {
      "text/plain": [
       "5.429443139422227"
      ]
     },
     "execution_count": 10,
     "metadata": {},
     "output_type": "execute_result"
    }
   ],
   "source": [
    "random.uniform((0-35)/22, (180-35)/22)"
   ]
  },
  {
   "cell_type": "code",
   "execution_count": 109,
   "metadata": {
    "ExecuteTime": {
     "end_time": "2019-10-13T13:09:42.186722Z",
     "start_time": "2019-10-13T13:09:42.175753Z"
    }
   },
   "outputs": [
    {
     "name": "stdout",
     "output_type": "stream",
     "text": [
      "0\n",
      "180\n",
      "90\n",
      "100\n",
      "0.6318797493064809\n",
      "0.2504075112051554\n",
      "45.07335201692798\n",
      "None\n"
     ]
    }
   ],
   "source": [
    "# 载入包为scipy统计包中的norm\n",
    "from scipy.stats import norm\n",
    "# my example\n",
    "# 因为我要提取的是35747个在[33.76,56.25]的正态随机数\n",
    "# X7 = norm.rvs(size=20)\n",
    "# # 现在提取出来的是在服从N(0,1)分布上的正态随机数\n",
    "# # 我现在要提取服从N((56.25-33.76)/2+33.76,1)的正态随机数\n",
    "# # (统计标准化定义反推回去去做）\n",
    " \n",
    "# X7 = (X7*1)+(56.25-33.76)/2\n",
    "# # 则可以得到你想要的结果\n",
    "# print(X7)\n",
    "\n",
    "# your example\n",
    "import random\n",
    "from scipy.stats import norm\n",
    "def suiji(small,big,a,b):#0,180,35,22\n",
    "    print(small)\n",
    "    print(big)\n",
    "    print(a)\n",
    "    print(b)\n",
    "    print((norm.cdf((big-a)/b)-norm.cdf((small-a)/b)))\n",
    "    X1 = random.uniform((small-a)/b, (big-a)/b)/(norm.cdf((big-a)/b)-norm.cdf((small-a)/b))\n",
    "    X1 = norm.pdf(X1)\n",
    "    #X1 = X1*a+small\n",
    "    print(X1)\n",
    "    print(small+(big-small)*X1)\n",
    "print(suiji(0,180,90,100))\n",
    "# (0-35)/22是正态化处理，要知道在这里面它如何变幻\n",
    " \n",
    "# 之后帮你做了做，图像在上面自己看吧"
   ]
  },
  {
   "cell_type": "code",
   "execution_count": 42,
   "metadata": {
    "ExecuteTime": {
     "end_time": "2019-10-14T16:02:14.545681Z",
     "start_time": "2019-10-14T16:02:14.533356Z"
    }
   },
   "outputs": [
    {
     "data": {
      "text/plain": [
       "array([3.24132015, 1.73047477, 2.76053207, 3.03677417, 3.3253809 ,\n",
       "       2.83696142, 2.98836681, 2.20307431, 3.45804395, 3.50958283,\n",
       "       3.38910449, 2.31915388, 2.7143277 , 2.95579654, 3.41460776,\n",
       "       2.09003427, 2.82184726, 3.0317967 , 4.37299022, 3.49909218,\n",
       "       3.96019566, 2.62740144, 3.27593829, 2.2276714 , 2.63823945,\n",
       "       3.97801014, 2.54333413, 3.43339787, 2.8284207 , 2.22355716,\n",
       "       2.59177281, 3.66691858, 3.05073732, 3.09489074, 2.66119629,\n",
       "       2.9623522 , 2.73780761, 3.17115076, 3.49867374, 2.28059278,\n",
       "       2.27097744, 2.34307659, 3.17147112, 2.54103169, 1.00097144,\n",
       "       2.95211351, 2.88497244, 2.6411378 , 1.78976821, 2.71425067,\n",
       "       2.73611722, 2.31598553, 3.59271296, 3.005567  , 3.20232228,\n",
       "       2.77696307, 2.6273477 , 3.21155083, 3.10327649, 3.05230331,\n",
       "       2.71898628, 2.94120066, 3.96316205, 2.67059633, 2.85975977,\n",
       "       3.18925106, 1.98679534, 2.48816115, 3.71129246, 4.23134721,\n",
       "       2.31503403, 3.18357738, 3.27541757, 1.17871439, 2.39723508,\n",
       "       2.41698438, 1.92742353, 1.72294725, 3.17909563, 4.04692282,\n",
       "       2.37368427, 3.79418737, 3.47587231, 2.72211055, 4.5026604 ,\n",
       "       1.82147766, 4.00679854, 2.4228143 , 1.8962095 , 2.59158557,\n",
       "       2.88363669, 2.68182123, 2.28125402, 2.93945357, 2.62712859,\n",
       "       4.31601134, 2.34950566, 4.08885525, 2.77171266, 3.42657177])"
      ]
     },
     "execution_count": 42,
     "metadata": {},
     "output_type": "execute_result"
    }
   ],
   "source": [
    "import scipy.stats as stats\n",
    "lower, upper = 1,5\n",
    "mu, sigma = 3, 0.7\n",
    "X = stats.truncnorm(\n",
    "(lower - mu) / sigma, (upper - mu) / sigma, loc=mu, scale=sigma)\n",
    "N = stats.norm(loc=mu, scale=sigma)\n",
    "N.rvs(round(100))"
   ]
  },
  {
   "cell_type": "code",
   "execution_count": 65,
   "metadata": {
    "ExecuteTime": {
     "end_time": "2019-10-14T16:05:13.209500Z",
     "start_time": "2019-10-14T16:05:13.194589Z"
    }
   },
   "outputs": [
    {
     "name": "stdout",
     "output_type": "stream",
     "text": [
      "1.06\n",
      "1.06\n"
     ]
    },
    {
     "data": {
      "text/plain": [
       "1"
      ]
     },
     "execution_count": 65,
     "metadata": {},
     "output_type": "execute_result"
    }
   ],
   "source": [
    "def change_mu(username,lower,upper):#lucky值用来调整（或说决定）正态分布的期望\n",
    "    \n",
    "    #print(username)\n",
    "    lucky=3\n",
    "    return lower+float(lucky)/200*(upper-lower)\n",
    "#最小，最大，期望，标准差 生成近似在某区间内正态的整数值\n",
    "def get_norm(username,lower, upper, sigma=0.7):\n",
    "    username=1\n",
    "    mu=change_mu(username,lower,upper)\n",
    "    print(mu)\n",
    "    import scipy.stats as stats\n",
    "    x=lower-1\n",
    "    while not ((x>=lower) & (x<=upper)):#由于正态分布其实是朝着无穷延伸的 所以难免有越界的地方 去了就是\n",
    "\n",
    "        X = stats.truncnorm(\n",
    "        (lower - mu) / sigma, (upper - mu) / sigma, loc=mu, scale=sigma)\n",
    "        N = stats.norm(loc=mu, scale=sigma)\n",
    "        x=int(N.rvs(1)[0])\n",
    "    return(x)\n",
    "print(change_mu(3,1,5))\n",
    "get_norm=get_norm(3,1, 5,0.7)\n",
    "get_norm"
   ]
  },
  {
   "cell_type": "code",
   "execution_count": 2,
   "metadata": {
    "ExecuteTime": {
     "end_time": "2019-10-14T15:46:51.266555Z",
     "start_time": "2019-10-14T15:46:51.262566Z"
    }
   },
   "outputs": [
    {
     "name": "stdout",
     "output_type": "stream",
     "text": [
      "1.06\n"
     ]
    }
   ],
   "source": [
    "def change_mu(username,lower,upper):#lucky值用来调整（或说决定）正态分布的期望\n",
    "    lucky=3\n",
    "    return lower+3/200*(upper-lower)\n",
    "print(change_mu(3,1,5))"
   ]
  },
  {
   "cell_type": "code",
   "execution_count": 133,
   "metadata": {
    "ExecuteTime": {
     "end_time": "2019-10-14T15:41:31.145319Z",
     "start_time": "2019-10-14T15:41:31.126371Z"
    }
   },
   "outputs": [
    {
     "name": "stdout",
     "output_type": "stream",
     "text": [
      "[ 1.29596922  0.99490066  1.77271191  0.66022989  1.45528711  2.53106031\n",
      "  1.42750066  0.86427403  0.4322694   1.41282213  1.2642559   0.95981678\n",
      "  1.49274901  0.55105874  0.85187354  2.01338208  0.53483494  1.19185156\n",
      "  1.17004499  0.47084939  2.11897331  0.87583518 -0.11839156 -0.73562385\n",
      "  0.45259546  1.92385672  1.82053965  0.91744419  1.85817581  0.35008509\n",
      "  0.38283679  0.46526664  2.45919224  0.57225804  1.4521146  -0.00491192\n",
      "  1.83230769  1.90149179  1.6639069   1.92494693  0.2157146  -0.23914004\n",
      "  2.62836988  0.18256627  0.77256156  0.41229804  1.81090644  0.14498032\n",
      "  1.17939392  0.28205345  1.19320243  0.55491893  2.94926683  1.73279026\n",
      "  2.07802236 -0.61093993  1.33982824  2.18627256  1.02877734  1.73322766\n",
      "  0.89412016  1.37833329  1.28476165  1.61520442  0.9162075   0.21266559\n",
      "  1.00647806  0.99232134  0.42690594  1.46126679  1.09790305  1.62929621\n",
      "  0.58579052  0.74164595  1.30216597  2.1899563   1.5633678   0.96223364\n",
      "  1.51592844  0.61940339  0.07337548  0.55163311  2.10887311  2.05417812\n",
      "  1.26549161  0.47617958  1.80205991  1.04236882  1.39506554  0.28512876\n",
      "  0.71216272  2.4556209   0.16854606  2.22417324  1.34134592  1.19520753\n",
      "  0.81979451  0.26293069  0.72467715  1.16334912]\n"
     ]
    }
   ],
   "source": [
    "print(np.array([ 1.29596922,  0.99490066,  1.77271191,  0.66022989,  1.45528711,\n",
    "        2.53106031,  1.42750066,  0.86427403,  0.4322694 ,  1.41282213,\n",
    "        1.2642559 ,  0.95981678,  1.49274901,  0.55105874,  0.85187354,\n",
    "        2.01338208,  0.53483494,  1.19185156,  1.17004499,  0.47084939,\n",
    "        2.11897331,  0.87583518, -0.11839156, -0.73562385,  0.45259546,\n",
    "        1.92385672,  1.82053965,  0.91744419,  1.85817581,  0.35008509,\n",
    "        0.38283679,  0.46526664,  2.45919224,  0.57225804,  1.4521146 ,\n",
    "       -0.00491192,  1.83230769,  1.90149179,  1.6639069 ,  1.92494693,\n",
    "        0.2157146 , -0.23914004,  2.62836988,  0.18256627,  0.77256156,\n",
    "        0.41229804,  1.81090644,  0.14498032,  1.17939392,  0.28205345,\n",
    "        1.19320243,  0.55491893,  2.94926683,  1.73279026,  2.07802236,\n",
    "       -0.61093993,  1.33982824,  2.18627256,  1.02877734,  1.73322766,\n",
    "        0.89412016,  1.37833329,  1.28476165,  1.61520442,  0.9162075 ,\n",
    "        0.21266559,  1.00647806,  0.99232134,  0.42690594,  1.46126679,\n",
    "        1.09790305,  1.62929621,  0.58579052,  0.74164595,  1.30216597,\n",
    "        2.1899563 ,  1.5633678 ,  0.96223364,  1.51592844,  0.61940339,\n",
    "        0.07337548,  0.55163311,  2.10887311,  2.05417812,  1.26549161,\n",
    "        0.47617958,  1.80205991,  1.04236882,  1.39506554,  0.28512876,\n",
    "        0.71216272,  2.4556209 ,  0.16854606,  2.22417324,  1.34134592,\n",
    "        1.19520753,  0.81979451,  0.26293069,  0.72467715,  1.16334912]))"
   ]
  }
 ],
 "metadata": {
  "kernelspec": {
   "display_name": "Python [conda env:root] *",
   "language": "python",
   "name": "conda-root-py"
  },
  "language_info": {
   "codemirror_mode": {
    "name": "ipython",
    "version": 3
   },
   "file_extension": ".py",
   "mimetype": "text/x-python",
   "name": "python",
   "nbconvert_exporter": "python",
   "pygments_lexer": "ipython3",
   "version": "3.7.0"
  },
  "latex_envs": {
   "LaTeX_envs_menu_present": true,
   "autoclose": false,
   "autocomplete": true,
   "bibliofile": "biblio.bib",
   "cite_by": "apalike",
   "current_citInitial": 1,
   "eqLabelWithNumbers": true,
   "eqNumInitial": 1,
   "hotkeys": {
    "equation": "Ctrl-E",
    "itemize": "Ctrl-I"
   },
   "labels_anchors": false,
   "latex_user_defs": false,
   "report_style_numbering": false,
   "user_envs_cfg": false
  },
  "nbTranslate": {
   "displayLangs": [
    "*"
   ],
   "hotkey": "alt-t",
   "langInMainMenu": true,
   "sourceLang": "en",
   "targetLang": "fr",
   "useGoogleTranslate": true
  },
  "toc": {
   "base_numbering": 1,
   "nav_menu": {},
   "number_sections": true,
   "sideBar": true,
   "skip_h1_title": false,
   "title_cell": "Table of Contents",
   "title_sidebar": "Contents",
   "toc_cell": false,
   "toc_position": {},
   "toc_section_display": true,
   "toc_window_display": false
  },
  "varInspector": {
   "cols": {
    "lenName": 16,
    "lenType": 16,
    "lenVar": 40
   },
   "kernels_config": {
    "python": {
     "delete_cmd_postfix": "",
     "delete_cmd_prefix": "del ",
     "library": "var_list.py",
     "varRefreshCmd": "print(var_dic_list())"
    },
    "r": {
     "delete_cmd_postfix": ") ",
     "delete_cmd_prefix": "rm(",
     "library": "var_list.r",
     "varRefreshCmd": "cat(var_dic_list()) "
    }
   },
   "types_to_exclude": [
    "module",
    "function",
    "builtin_function_or_method",
    "instance",
    "_Feature"
   ],
   "window_display": false
  }
 },
 "nbformat": 4,
 "nbformat_minor": 2
}
