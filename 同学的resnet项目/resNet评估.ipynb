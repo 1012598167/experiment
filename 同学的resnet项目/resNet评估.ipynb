{
 "cells": [
  {
   "cell_type": "markdown",
   "metadata": {},
   "source": [
    "# 测试集测试"
   ]
  },
  {
   "cell_type": "code",
   "execution_count": 13,
   "metadata": {},
   "outputs": [
    {
     "name": "stdout",
     "output_type": "stream",
     "text": [
      "charming's Accuracy: 0.9104477611940298\n",
      "delicate's Accuracy: 0.9836065573770492\n",
      "nature's Accuracy: 0.971830985915493\n",
      "party's Accuracy: 0.7659574468085106\n",
      "sporting's Accuracy: 0.9634146341463414\n"
     ]
    }
   ],
   "source": [
    "%matplotlib inline\n",
    "import torch\n",
    "import torch.nn as nn\n",
    "import torch.optim as optim\n",
    "from torch.optim import lr_scheduler\n",
    "import numpy as np\n",
    "import torchvision\n",
    "from torchvision import datasets, models, transforms\n",
    "import matplotlib.pyplot as plt\n",
    "import time\n",
    "import os\n",
    "import copy\n",
    "import cv2\n",
    "from datetime import datetime\n",
    "from PIL import Image\n",
    "from PIL import ImageFile\n",
    "ImageFile.LOAD_TRUNCATED_IMAGES = True\n",
    "\n",
    "\n",
    "model = torch.load(\"C:\\\\Users\\\\asus\\\\Desktop\\\\项目1\\\\Adadelta_20200805_131134_model.pth\",map_location=torch.device('cpu'))\n",
    "def predict(path):\n",
    "    device = torch.device(\"cuda\" if torch.cuda.is_available() else \"cpu\")\n",
    "    global model\n",
    "    model = model.to(device)\n",
    "\n",
    "    model.eval()  # 预测模式\n",
    "\n",
    "    # 获取测试图片，并行相应的处理\n",
    "    img = Image.open(path)\n",
    "    transform = transforms.Compose([\n",
    "        transforms.Resize(256),\n",
    "        transforms.CenterCrop(224),\n",
    "        transforms.ToTensor(),\n",
    "        transforms.Normalize([0.485, 0.456, 0.406], [0.229, 0.224, 0.225])\n",
    "    ])\n",
    "\n",
    "    img = img.convert(\"RGB\")  # 如果是标准的RGB格式，则可以不加\n",
    "    img = transform(img)\n",
    "    img = img.unsqueeze(0)\n",
    "    img = img.to(device)\n",
    "\n",
    "    with torch.no_grad():\n",
    "        py = model(img)\n",
    "    #print(py)\n",
    "    _, predicted = torch.max(py, 1)# 获取分类结果\n",
    "    classIndex_ = predicted[0]\n",
    "    \n",
    "    test_dataloader.append((i,int(predicted)))\n",
    "    return classIndex_.item()\n",
    "\n",
    "test_dataloader=[]\n",
    "if __name__ == '__main__':\n",
    "    path = 'C:\\\\Users\\\\asus\\\\Desktop\\\\项目1\\\\test'\n",
    "    dirs = [\"charming\", \"delicate\", \"nature\", \"party\", \"sporting\"]\n",
    "    i = 0\n",
    "    for dir in dirs:\n",
    "        t_path = os.path.join(path, dir)\n",
    "        img_list = os.listdir(t_path)\n",
    "        all = len(img_list)\n",
    "        cor = 0\n",
    "        for img in img_list:\n",
    "            #test_dataloader.append(i,int(predicted))\n",
    "            if predict(os.path.join(t_path, img)) == i:\n",
    "                cor += 1\n",
    "        i += 1\n",
    "        print(dir+\"'s Accuracy: \"+str(float(cor)/all))"
   ]
  },
  {
   "cell_type": "code",
   "execution_count": 14,
   "metadata": {},
   "outputs": [
    {
     "name": "stdout",
     "output_type": "stream",
     "text": [
      "charming's Accuracy: 0.8805970149253731\n",
      "delicate's Accuracy: 1.0\n",
      "nature's Accuracy: 0.971830985915493\n",
      "party's Accuracy: 0.8936170212765957\n",
      "sporting's Accuracy: 0.9878048780487805\n"
     ]
    }
   ],
   "source": [
    "model = torch.load(\"C:\\\\Users\\\\asus\\\\Desktop\\\\项目1\\\\Adam_20200805_152621_model.pth\",map_location=torch.device('cpu'))\n",
    "def predict(path):\n",
    "    device = torch.device(\"cuda\" if torch.cuda.is_available() else \"cpu\")\n",
    "    global model\n",
    "    model = model.to(device)\n",
    "\n",
    "    model.eval()  # 预测模式\n",
    "\n",
    "    # 获取测试图片，并行相应的处理\n",
    "    img = Image.open(path)\n",
    "    transform = transforms.Compose([\n",
    "        transforms.Resize(256),\n",
    "        transforms.CenterCrop(224),\n",
    "        transforms.ToTensor(),\n",
    "        transforms.Normalize([0.485, 0.456, 0.406], [0.229, 0.224, 0.225])\n",
    "    ])\n",
    "\n",
    "    img = img.convert(\"RGB\")  # 如果是标准的RGB格式，则可以不加\n",
    "    img = transform(img)\n",
    "    img = img.unsqueeze(0)\n",
    "    img = img.to(device)\n",
    "\n",
    "    with torch.no_grad():\n",
    "        py = model(img)\n",
    "    #print(py)\n",
    "    _, predicted = torch.max(py, 1)# 获取分类结果\n",
    "    classIndex_ = predicted[0]\n",
    "    \n",
    "    test_dataloader2.append((i,int(predicted)))\n",
    "    return classIndex_.item()\n",
    "\n",
    "test_dataloader2=[]\n",
    "if __name__ == '__main__':\n",
    "    path = 'C:\\\\Users\\\\asus\\\\Desktop\\\\项目1\\\\test'\n",
    "    dirs = [\"charming\", \"delicate\", \"nature\", \"party\", \"sporting\"]\n",
    "    i = 0\n",
    "    for dir in dirs:\n",
    "        t_path = os.path.join(path, dir)\n",
    "        img_list = os.listdir(t_path)\n",
    "        all = len(img_list)\n",
    "        cor = 0\n",
    "        for img in img_list:\n",
    "            #test_dataloader.append(i,int(predicted))\n",
    "            if predict(os.path.join(t_path, img)) == i:\n",
    "                cor += 1\n",
    "        i += 1\n",
    "        print(dir+\"'s Accuracy: \"+str(float(cor)/all))"
   ]
  },
  {
   "cell_type": "code",
   "execution_count": 9,
   "metadata": {},
   "outputs": [
    {
     "name": "stdout",
     "output_type": "stream",
     "text": [
      "charming's Accuracy: 0.9104477611940298\n",
      "delicate's Accuracy: 1.0\n",
      "nature's Accuracy: 0.9859154929577465\n",
      "party's Accuracy: 0.851063829787234\n",
      "sporting's Accuracy: 0.9878048780487805\n"
     ]
    }
   ],
   "source": [
    "model = torch.load(\"C:\\\\Users\\\\asus\\\\Desktop\\\\项目1\\\\Adabound_20200805_151357_model.pth\",map_location=torch.device('cpu'))\n",
    "def predict(path):\n",
    "    device = torch.device(\"cuda\" if torch.cuda.is_available() else \"cpu\")\n",
    "    global model\n",
    "    model = model.to(device)\n",
    "\n",
    "    model.eval()  # 预测模式\n",
    "\n",
    "    # 获取测试图片，并行相应的处理\n",
    "    img = Image.open(path)\n",
    "    transform = transforms.Compose([\n",
    "        transforms.Resize(256),\n",
    "        transforms.CenterCrop(224),\n",
    "        transforms.ToTensor(),\n",
    "        transforms.Normalize([0.485, 0.456, 0.406], [0.229, 0.224, 0.225])\n",
    "    ])\n",
    "\n",
    "    img = img.convert(\"RGB\")  # 如果是标准的RGB格式，则可以不加\n",
    "    img = transform(img)\n",
    "    img = img.unsqueeze(0)\n",
    "    img = img.to(device)\n",
    "\n",
    "    with torch.no_grad():\n",
    "        py = model(img)\n",
    "    #print(py)\n",
    "    _, predicted = torch.max(py, 1)# 获取分类结果\n",
    "    classIndex_ = predicted[0]\n",
    "    \n",
    "    test_dataloader3.append((i,int(predicted)))\n",
    "    return classIndex_.item()\n",
    "\n",
    "test_dataloader3=[]\n",
    "if __name__ == '__main__':\n",
    "    path = 'C:\\\\Users\\\\asus\\\\Desktop\\\\项目1\\\\test'\n",
    "    dirs = [\"charming\", \"delicate\", \"nature\", \"party\", \"sporting\"]\n",
    "    i = 0\n",
    "    for dir in dirs:\n",
    "        t_path = os.path.join(path, dir)\n",
    "        img_list = os.listdir(t_path)\n",
    "        all = len(img_list)\n",
    "        cor = 0\n",
    "        for img in img_list:\n",
    "            #test_dataloader.append(i,int(predicted))\n",
    "            if predict(os.path.join(t_path, img)) == i:\n",
    "                cor += 1\n",
    "        i += 1\n",
    "        print(dir+\"'s Accuracy: \"+str(float(cor)/all))"
   ]
  },
  {
   "cell_type": "markdown",
   "metadata": {},
   "source": [
    "# 混淆矩阵"
   ]
  },
  {
   "cell_type": "code",
   "execution_count": 15,
   "metadata": {},
   "outputs": [],
   "source": [
    "import matplotlib.pyplot as plt\n",
    "import numpy as np\n",
    "# 分类模型测试阶段代码\n",
    "\n",
    "# 创建一个空矩阵存储混淆矩阵\n",
    "conf_matrix = torch.zeros(5,5)\n",
    "for x,y in test_dataloader:\n",
    "    if x!=y:\n",
    "        conf_matrix[x][y]+=1\n",
    "        \n",
    "    else:\n",
    "        conf_matrix[y][x]+=1"
   ]
  },
  {
   "cell_type": "code",
   "execution_count": 16,
   "metadata": {},
   "outputs": [],
   "source": [
    "conf_matrix2 = torch.zeros(5,5)\n",
    "for x,y in test_dataloader2:\n",
    "    if x!=y:\n",
    "        conf_matrix2[x][y]+=1\n",
    "       \n",
    "    else:\n",
    "        conf_matrix2[y][x]+=1"
   ]
  },
  {
   "cell_type": "code",
   "execution_count": 17,
   "metadata": {},
   "outputs": [],
   "source": [
    "conf_matrix3 = torch.zeros(5,5)\n",
    "for x,y in test_dataloader3:\n",
    "    if x!=y:\n",
    "        conf_matrix3[x][y]+=1\n",
    "    else:\n",
    "        conf_matrix3[y][x]+=1"
   ]
  },
  {
   "cell_type": "code",
   "execution_count": 18,
   "metadata": {},
   "outputs": [],
   "source": [
    "# 绘制混淆矩阵\n",
    "def plot_confusion_matrix(cm, classes, normalize=False, title='Confusion matrix', cmap=plt.cm.Oranges):\n",
    "    print(cm)\n",
    "    plt.imshow(cm, interpolation='nearest', cmap=cmap)\n",
    "    plt.title(title)\n",
    "    plt.colorbar()\n",
    "    tick_marks = np.arange(len(classes))\n",
    "    plt.xticks(tick_marks, classes, rotation=90)\n",
    "    plt.yticks(tick_marks, classes)\n",
    "\n",
    "\t# x,y轴长度一致\n",
    "    plt.axis(\"equal\")\n",
    "    # x轴处理一下，如果x轴或者y轴两边有空白的话\n",
    "    ax = plt.gca()  # 获得当前axis\n",
    "    left, right = plt.xlim()  # 获得x轴最大最小值\n",
    "    ax.spines['left'].set_position(('data', left))\n",
    "    ax.spines['right'].set_position(('data', right))\n",
    "    for edge_i in ['top', 'bottom', 'right', 'left']:\n",
    "        ax.spines[edge_i].set_edgecolor(\"white\")\n",
    "\n",
    "\n",
    "    thresh = cm.max() / 2.\n",
    "    for i, j in itertools.product(range(cm.shape[0]), range(cm.shape[1])):\n",
    "        num = '{:.2f}'.format(cm[i, j]) if normalize else int(cm[i, j])\n",
    "        plt.text(j, i, num,\n",
    "                 verticalalignment='center',\n",
    "                 horizontalalignment=\"center\",\n",
    "                 color=\"white\" if num > thresh else \"black\")\n",
    "    plt.setp(ax.get_xticklabels(), rotation=45, ha=\"right\",\n",
    "             rotation_mode=\"anchor\")\n",
    "    #直接显示百分比（缩放比例有问题）\n",
    "    #fmt = 'd'\n",
    "    #thresh = cm.max() / 2.\n",
    "    #for i in range(cm.shape[0]):\n",
    "    #   for j in range(cm.shape[1]):\n",
    "    #       ax.text(i, j, cm[i, j],ha=\"center\", va=\"center\",color=\"white\"  if cm[i, j] > thresh else \"black\")\n",
    "    \n",
    "    plt.tight_layout()\n",
    "    plt.ylabel('True label')\n",
    "    plt.xlabel('Predicted label')\n",
    "    plt.show()"
   ]
  },
  {
   "cell_type": "code",
   "execution_count": 19,
   "metadata": {
    "scrolled": false
   },
   "outputs": [
    {
     "name": "stdout",
     "output_type": "stream",
     "text": [
      "====Adadelta====\n",
      "tensor([[61.,  0.,  0.,  5.,  1.],\n",
      "        [ 1., 60.,  0.,  0.,  0.],\n",
      "        [ 0.,  0., 69.,  0.,  2.],\n",
      "        [ 6.,  2.,  1., 36.,  2.],\n",
      "        [ 1.,  2.,  0.,  0., 79.]])\n"
     ]
    },
    {
     "data": {
      "image/png": "[encoded data removed]",
      "text/plain": [
       "<Figure size 432x288 with 2 Axes>"
      ]
     },
     "metadata": {
      "needs_background": "light"
     },
     "output_type": "display_data"
    },
    {
     "name": "stdout",
     "output_type": "stream",
     "text": [
      "====Adam====\n",
      "tensor([[59.,  0.,  1.,  6.,  1.],\n",
      "        [ 0., 61.,  0.,  0.,  0.],\n",
      "        [ 0.,  0., 69.,  0.,  2.],\n",
      "        [ 1.,  2.,  1., 42.,  1.],\n",
      "        [ 0.,  1.,  0.,  0., 81.]])\n"
     ]
    },
    {
     "data": {
      "image/png": "[encoded data removed]",
      "text/plain": [
       "<Figure size 432x288 with 2 Axes>"
      ]
     },
     "metadata": {
      "needs_background": "light"
     },
     "output_type": "display_data"
    },
    {
     "name": "stdout",
     "output_type": "stream",
     "text": [
      "====Adabound====\n",
      "tensor([[61.,  0.,  0.,  5.,  1.],\n",
      "        [ 0., 61.,  0.,  0.,  0.],\n",
      "        [ 0.,  0., 70.,  0.,  1.],\n",
      "        [ 5.,  0.,  0., 40.,  2.],\n",
      "        [ 0.,  0.,  1.,  0., 81.]])\n"
     ]
    },
    {
     "data": {
      "image/png": "[encoded data removed]",
      "text/plain": [
       "<Figure size 432x288 with 2 Axes>"
      ]
     },
     "metadata": {
      "needs_background": "light"
     },
     "output_type": "display_data"
    }
   ],
   "source": [
    "import itertools\n",
    "print(\"====Adadelta====\")\n",
    "plot_confusion_matrix(conf_matrix, dirs, normalize=False, title='Confusion matrix', cmap=plt.cm.Oranges)\n",
    "print(\"====Adam====\")\n",
    "plot_confusion_matrix(conf_matrix2, dirs, normalize=False, title='Confusion matrix', cmap=plt.cm.Oranges)\n",
    "print(\"====Adabound====\")\n",
    "plot_confusion_matrix(conf_matrix3, dirs, normalize=False, title='Confusion matrix', cmap=plt.cm.Oranges)"
   ]
  },
  {
   "cell_type": "code",
   "execution_count": 20,
   "metadata": {},
   "outputs": [],
   "source": [
    "data=[[61.,  0.,  0.,  5.,  1.],\n",
    "        [ 0., 61.,  0.,  0.,  0.],\n",
    "        [ 0.,  0., 70.,  0.,  1.],\n",
    "        [ 5.,  0.,  0., 40.,  2.],\n",
    "        [ 0.,  0.,  1.,  0., 81.]]"
   ]
  },
  {
   "cell_type": "code",
   "execution_count": 21,
   "metadata": {},
   "outputs": [
    {
     "name": "stdout",
     "output_type": "stream",
     "text": [
      "0.9242424242424242\n",
      "1.0\n",
      "0.9859154929577465\n",
      "0.8888888888888888\n",
      "0.9529411764705882\n"
     ]
    }
   ],
   "source": [
    "for i in range(5):\n",
    "    precision=data[i][i]/(data[0][i]+data[1][i]+data[2][i]+data[3][i]+data[4][i])\n",
    "    print(precision)"
   ]
  },
  {
   "cell_type": "code",
   "execution_count": 22,
   "metadata": {},
   "outputs": [
    {
     "name": "stdout",
     "output_type": "stream",
     "text": [
      "0.9104477611940298\n",
      "1.0\n",
      "0.9859154929577465\n",
      "0.851063829787234\n",
      "0.9878048780487805\n"
     ]
    }
   ],
   "source": [
    "for i in range(5):\n",
    "    recall=data[i][i]/(data[i][0]+data[i][1]+data[i][2]+data[i][3]+data[i][4])\n",
    "    print(recall)"
   ]
  },
  {
   "cell_type": "code",
   "execution_count": null,
   "metadata": {},
   "outputs": [],
   "source": []
  },
  {
   "cell_type": "markdown",
   "metadata": {},
   "source": [
    "# 使用模型"
   ]
  },
  {
   "cell_type": "code",
   "execution_count": 25,
   "metadata": {},
   "outputs": [
    {
     "data": {
      "text/plain": [
       "tensor([[0.1123, 0.0553, 0.7931, 0.0201, 0.0193]])"
      ]
     },
     "execution_count": 25,
     "metadata": {},
     "output_type": "execute_result"
    }
   ],
   "source": [
    "model = torch.load(\"C:\\\\Users\\\\asus\\\\Desktop\\\\项目1\\\\Adadelta_20200805_131134_model.pth\",map_location=torch.device('cpu'))\n",
    "def predict(path):\n",
    "    device = torch.device(\"cuda\" if torch.cuda.is_available() else \"cpu\")\n",
    "    global model\n",
    "    model = model.to(device)\n",
    "\n",
    "    model.eval()  # 预测模式\n",
    "\n",
    "    # 获取测试图片，并行相应的处理\n",
    "    img = Image.open(path)\n",
    "    transform = transforms.Compose([\n",
    "        transforms.Resize(256),\n",
    "        transforms.CenterCrop(224),\n",
    "        transforms.ToTensor(),\n",
    "        transforms.Normalize([0.485, 0.456, 0.406], [0.229, 0.224, 0.225])\n",
    "    ])\n",
    "\n",
    "    img = img.convert(\"RGB\")  # 如果是标准的RGB格式，则可以不加\n",
    "    img = transform(img)\n",
    "    img = img.unsqueeze(0)\n",
    "    img = img.to(device)\n",
    "\n",
    "    with torch.no_grad():\n",
    "        py = model(img)\n",
    "    #print(py)\n",
    "    p = torch.nn.functional.softmax(py, dim=1)\n",
    "    return p\n",
    "\n",
    "\n",
    "\n",
    "predict(\"C:\\\\Users\\\\asus\\\\Desktop\\\\00016.jpg\")"
   ]
  },
  {
   "cell_type": "code",
   "execution_count": 31,
   "metadata": {},
   "outputs": [],
   "source": [
    "from pyecharts import Pie\n",
    "\n",
    "attr = [\"charming\", \"delicate\", \"nature\", \"party\", \"sporting\"]\n",
    "v1 = [0.1123, 0.0553, 0.7931, 0.0201, 0.0193]\n",
    "pie = Pie(\"Proportion\")\n",
    "pie.add(\n",
    "    \"\",\n",
    "    attr,\n",
    "    v1,\n",
    "    radius=[40, 75],\n",
    "    is_label_show=True,\n",
    "    is_more_utils=True,\n",
    "    label_text_color=None,\n",
    "\n",
    "    legend_orient=\"vertical\",\n",
    "\n",
    "    legend_pos=\"right\",\n",
    ")\n",
    "pie.render(path=\"C:\\\\Users\\\\asus\\\\Desktop\\\\Bing1.html\")"
   ]
  },
  {
   "cell_type": "code",
   "execution_count": 16,
   "metadata": {},
   "outputs": [
    {
     "name": "stdout",
     "output_type": "stream",
     "text": [
      "官图中品牌风格组成为：\n",
      "百威\n",
      "drab占比为： 0.2213633808773011\n",
      "dull占比为： 0.023115549702197313\n",
      "fun占比为： 0.320445465145167\n",
      "gentle占比为： 0.050538160919677465\n",
      "glamorous占比为： 0.019108332556788808\n",
      "healthy占比为： 0.1941335710536805\n",
      "rugged占比为： 0.13707613466540353\n",
      "unhealthy占比为： 0.034219416812993585\n",
      "喜力\n",
      "drab占比为： 0.03543642107920796\n",
      "dull占比为： 0.018186718077713705\n",
      "fun占比为： 0.16682157972858805\n",
      "gentle占比为： 0.05003957505999664\n",
      "glamorous占比为： 0.01273405529613741\n",
      "healthy占比为： 0.5683994348092167\n",
      "rugged占比为： 0.07707981077658056\n",
      "unhealthy占比为： 0.07130240693988416\n",
      "UGC图片中品牌风格组成为：\n",
      "百威\n",
      "drab占比为： 0.07052553628295291\n",
      "dull占比为： 0.022868932874783296\n",
      "fun占比为： 0.282510197094353\n",
      "gentle占比为： 0.04956670201678133\n",
      "glamorous占比为： 0.01765279873551644\n",
      "healthy占比为： 0.3941835485213455\n",
      "rugged占比为： 0.10819530644733519\n",
      "unhealthy占比为： 0.05449697832732547\n",
      "喜力\n",
      "drab占比为： 0.07232809076663069\n",
      "dull占比为： 0.02436350808477014\n",
      "fun占比为： 0.30003354510972124\n",
      "gentle占比为： 0.043948741865930174\n",
      "glamorous占比为： 0.015139381216760095\n",
      "healthy占比为： 0.38648782065626414\n",
      "rugged占比为： 0.10544405688772038\n",
      "unhealthy占比为： 0.05225485741863057\n"
     ]
    }
   ],
   "source": [
    "import torch\n",
    "import torch.nn as nn\n",
    "import torch.optim as optim\n",
    "from torch.optim import lr_scheduler\n",
    "import numpy as np\n",
    "import torchvision\n",
    "from torchvision import datasets, models, transforms\n",
    "import matplotlib.pyplot as plt\n",
    "import time\n",
    "import os\n",
    "import copy\n",
    "import cv2\n",
    "from datetime import datetime\n",
    "from PIL import Image\n",
    "from PIL import ImageFile\n",
    "ImageFile.LOAD_TRUNCATED_IMAGES = True\n",
    "\n",
    "\n",
    "model = torch.load(\"C:\\\\Users\\\\asus\\\\Desktop\\\\项目1\\\\Adabound_20200801_110708_model.pth\",map_location=torch.device('cpu'))\n",
    "def predict(path):\n",
    "    device = torch.device(\"cuda\" if torch.cuda.is_available() else \"cpu\")\n",
    "    global model\n",
    "    model = model.to(device)\n",
    "\n",
    "    model.eval()  # 预测模式\n",
    "\n",
    "    # 获取测试图片，并行相应的处理\n",
    "    img = Image.open(path)\n",
    "    transform = transforms.Compose([\n",
    "        transforms.Resize(256),\n",
    "        transforms.CenterCrop(224),\n",
    "        transforms.ToTensor(),\n",
    "        transforms.Normalize([0.485, 0.456, 0.406], [0.229, 0.224, 0.225])\n",
    "    ])\n",
    "\n",
    "    img = img.convert(\"RGB\")  # 如果是标准的RGB格式，则可以不加\n",
    "    img = transform(img)\n",
    "    img = img.unsqueeze(0)\n",
    "    img = img.to(device)\n",
    "\n",
    "    with torch.no_grad():\n",
    "        py = model(img)\n",
    "        p = torch.nn.functional.softmax(py, dim=1)\n",
    "        \n",
    "        #loss = torch.nn.functional.nll_loss(torch.log(p), y)\n",
    "    return p\n",
    "    #_, predicted = torch.max(py, 1)# 获取分类结果\n",
    "    #classIndex_ = predicted[0]\n",
    "    #test_dataloader.append(classIndex_)\n",
    "    \n",
    "    #test_dataloader.append((i,int(predicted)))\n",
    "    #return classIndex_.item()\n",
    "\n",
    "test_dataloader=[0,0,0,0,0,0,0,0]\n",
    "if __name__ == '__main__':\n",
    "    data=[]\n",
    "    path = 'C:\\\\Users\\\\asus\\\\Desktop\\\\项目1\\\\resNet图片风格识别'\n",
    "    hyperdirs=[\"官图\",\"UGC图片\"]\n",
    "    dirs = [\"drab\", \"dull\", \"fun\", \"gentle\", \"glamorous\", \"healthy\", \"rugged\", \"unhealthy\"]\n",
    "    dirs2 = [\"百威\", \"喜力\"]\n",
    "    for hyperdir in hyperdirs:\n",
    "        print(str(hyperdir)+\"中品牌风格组成为：\")\n",
    "        for dir2 in dirs2:\n",
    "            print(dir2)\n",
    "            t_path = os.path.join(path,hyperdir,dir2)\n",
    "            img_list = os.listdir(t_path)\n",
    "            all = len(img_list)\n",
    "            cor = 0\n",
    "            for img in img_list:\n",
    "                #test_dataloader.append(i,int(predicted))\n",
    "                img_attribute=predict(os.path.join(t_path, img)).tolist()\n",
    "                #print(img_attribute)\n",
    "                for t in range(len(dirs)):\n",
    "                    test_dataloader[t]+= img_attribute[0][t]\n",
    "                t=0\n",
    "            #print(test_dataloader)\n",
    "            for ind in range(len(dirs)):\n",
    "                print(dirs[ind]+\"占比为： \"+str(test_dataloader[ind]/all))\n",
    "            data.append([x/all for x in test_dataloader])\n",
    "            test_dataloader=[0,0,0,0,0,0,0,0]"
   ]
  },
  {
   "cell_type": "code",
   "execution_count": 17,
   "metadata": {},
   "outputs": [
    {
     "data": {
      "text/plain": [
       "[[0.2213633808773011,\n",
       "  0.023115549702197313,\n",
       "  0.320445465145167,\n",
       "  0.050538160919677465,\n",
       "  0.019108332556788808,\n",
       "  0.1941335710536805,\n",
       "  0.13707613466540353,\n",
       "  0.034219416812993585],\n",
       " [0.03543642107920796,\n",
       "  0.018186718077713705,\n",
       "  0.16682157972858805,\n",
       "  0.05003957505999664,\n",
       "  0.01273405529613741,\n",
       "  0.5683994348092167,\n",
       "  0.07707981077658056,\n",
       "  0.07130240693988416],\n",
       " [0.07052553628295291,\n",
       "  0.022868932874783296,\n",
       "  0.282510197094353,\n",
       "  0.04956670201678133,\n",
       "  0.01765279873551644,\n",
       "  0.3941835485213455,\n",
       "  0.10819530644733519,\n",
       "  0.05449697832732547],\n",
       " [0.07232809076663069,\n",
       "  0.02436350808477014,\n",
       "  0.30003354510972124,\n",
       "  0.043948741865930174,\n",
       "  0.015139381216760095,\n",
       "  0.38648782065626414,\n",
       "  0.10544405688772038,\n",
       "  0.05225485741863057]]"
      ]
     },
     "execution_count": 17,
     "metadata": {},
     "output_type": "execute_result"
    }
   ],
   "source": [
    "data"
   ]
  },
  {
   "cell_type": "code",
   "execution_count": 18,
   "metadata": {},
   "outputs": [
    {
     "data": {
      "image/png": "[encoded data removed]",
      "text/plain": [
       "<Figure size 432x288 with 1 Axes>"
      ]
     },
     "metadata": {
      "needs_background": "light"
     },
     "output_type": "display_data"
    }
   ],
   "source": [
    "%matplotlib inline\n",
    "import matplotlib.pyplot as plt\n",
    "import numpy as np\n",
    "columns = (\"drab\", \"dull\", \"fun\", \"gentle\", \"glamorous\", \"healthy\", \"rugged\", \"unhealthy\")\n",
    "rows = [\"Official Budweiser\",\"Official Heineken\",\"UGC Budweiser\",\"UGC Heineken\"]\n",
    "\n",
    "values = np.arange(0, 1, 0.2)\n",
    "value_increment = 0.4\n",
    "\n",
    "# Get some pastel shades for the colors\n",
    "colors = plt.cm.BuPu(np.linspace(0, 0.7, len(rows)))\n",
    "n_rows = len(data)\n",
    "\n",
    "index = np.arange(len(columns)) #+ 0.3\n",
    "bar_width = 0.4\n",
    "\n",
    "# Initialize the vertical-offset for the stacked bar chart.\n",
    "y_offset = np.zeros(len(columns))\n",
    "\n",
    "# Plot bars and create text labels for the table\n",
    "cell_text = []\n",
    "for row in range(n_rows):\n",
    "    plt.bar(index, data[row], bar_width, bottom=y_offset, color=colors[row])\n",
    "    y_offset =data[row]\n",
    "    cell_text.append(['%1.3f' % x for x in y_offset])\n",
    "# Reverse colors and text labels to display the last value at the top.\n",
    "colors = colors[::-1]\n",
    "#cell_text.reverse()\n",
    "\n",
    "# Add a table at the bottom of the axes\n",
    "the_table = plt.table(cellText=cell_text,\n",
    "                      rowLabels=rows,\n",
    "                      rowColours=colors,\n",
    "                      colLabels=columns,\n",
    "                      loc='bottom')\n",
    "\n",
    "# Adjust layout to make room for the table:\n",
    "plt.subplots_adjust(left=0.2, bottom=0.2)\n",
    "\n",
    "plt.ylabel(\"Proportion\")\n",
    "plt.yticks([0,0.2,0.4,0.6,0.8,1.0])\n",
    "plt.xticks([])\n",
    "plt.title('Brand style proportion of Budweiser and Heineken')\n",
    "plt.show()"
   ]
  },
  {
   "cell_type": "code",
   "execution_count": 25,
   "metadata": {},
   "outputs": [
    {
     "data": {
      "image/png": "[encoded data removed]",
      "text/plain": [
       "<Figure size 432x288 with 1 Axes>"
      ]
     },
     "metadata": {
      "needs_background": "light"
     },
     "output_type": "display_data"
    },
    {
     "data": {
      "image/png": "[encoded data removed]",
      "text/plain": [
       "<Figure size 432x288 with 1 Axes>"
      ]
     },
     "metadata": {
      "needs_background": "light"
     },
     "output_type": "display_data"
    }
   ],
   "source": [
    "import numpy as np\n",
    "import matplotlib.pyplot as plt\n",
    "import matplotlib.cbook as cbook\n",
    "\n",
    "# Load a numpy record array from yahoo csv data with fields date, open, close,\n",
    "# volume, adj_close from the mpl-data/example directory. The record array\n",
    "# stores the date as an np.datetime64 with a day unit ('D') in the date column.\n",
    "title=[\"Budweiser\",\"Heineken\"]\n",
    "for i in [0,1]:\n",
    "    fig, ax = plt.subplots()\n",
    "    ax.scatter(range(8), data[i],marker=\"D\",c=\"b\",alpha=0.5)\n",
    "    ax.scatter(range(8), data[i+2],marker=\"o\",c=\"g\",alpha=0.5)\n",
    "    ax.set_xlabel('Brand Style', fontsize=15)\n",
    "    ax.set_ylabel('Proportion', fontsize=15)\n",
    "    ax.set_title('Brand style proportion of '+title[i])\n",
    "    plt.legend([\"Official\",\"UGC\"])\n",
    "    ax.grid(True)\n",
    "    fig.tight_layout()\n",
    "\n",
    "    plt.show()"
   ]
  }
 ],
 "metadata": {
  "kernelspec": {
   "display_name": "Python 3",
   "language": "python",
   "name": "python3"
  },
  "language_info": {
   "codemirror_mode": {
    "name": "ipython",
    "version": 3
   },
   "file_extension": ".py",
   "mimetype": "text/x-python",
   "name": "python",
   "nbconvert_exporter": "python",
   "pygments_lexer": "ipython3",
   "version": "3.7.0"
  }
 },
 "nbformat": 4,
 "nbformat_minor": 2
}
