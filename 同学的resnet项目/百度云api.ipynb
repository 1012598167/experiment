{
 "cells": [
  {
   "cell_type": "markdown",
   "metadata": {},
   "source": [
    "### 风格模型"
   ]
  },
  {
   "cell_type": "markdown",
   "metadata": {},
   "source": [
    "1.zyf的数据集"
   ]
  },
  {
   "cell_type": "code",
   "execution_count": 2,
   "metadata": {},
   "outputs": [
    {
     "name": "stdout",
     "output_type": "stream",
     "text": [
      "{'refresh_token': '25.75db3bc85515283bdd29ae8e02985eff.315360000.1911261518.282335-21642173', 'expires_in': 2592000, 'session_key': '9mzdDxUpTt8naDvGkyY6goHiwWJrdYpFlZ3YdQDbQoYRtw7TPVv3ukdQ8fN4Ep73eIbg7XB5yocPIvVQ6YsVDLQAxTWncQ==', 'access_token': '24.41010a26ad61f71df793494e43a0da1d.2592000.1598493518.282335-21642173', 'scope': 'ai_custom_kunkole public brain_all_scope easydl_mgr easydl_retail_mgr ai_custom_retail_image_stitch ai_custom_test_oversea easydl_pro_mgr wise_adapt lebo_resource_base lightservice_public hetu_basic lightcms_map_poi kaidian_kaidian ApsMisTest_Test权限 vis-classify_flower lpq_开放 cop_helloScope ApsMis_fangdi_permission smartapp_snsapi_base iop_autocar oauth_tp_app smartapp_smart_game_openapi oauth_sessionkey smartapp_swanid_verify smartapp_opensource_openapi smartapp_opensource_recapi fake_face_detect_开放Scope vis-ocr_虚拟人物助理 idl-video_虚拟人物助理', 'session_secret': '90a02177537bbe385668e2aea9c26311'}\n"
     ]
    }
   ],
   "source": [
    "import requests \n",
    "\n",
    "# client_id 为官网获取的AK， client_secret 为官网获取的SK \n",
    "#下面的host已经填好了\n",
    "host = 'https://aip.baidubce.com/oauth/2.0/token?grant_type=client_credentials&client_id=w2YOcR3RUMwMEWVjXrOvlIar&client_secret=ytASE19XXQXiRs6gnjf3i9YtGrteEflY'\n",
    "response = requests.get(host)\n",
    "if response:\n",
    "    print(response.json())"
   ]
  },
  {
   "cell_type": "markdown",
   "metadata": {},
   "source": [
    "把access token 复制下来 有效期好像是一个月"
   ]
  },
  {
   "cell_type": "code",
   "execution_count": 10,
   "metadata": {},
   "outputs": [
    {
     "data": {
      "text/plain": [
       "{'log_id': 8733547973977170690,\n",
       " 'results': [{'name': 'competence', 'score': 0.8488037586212158},\n",
       "  {'name': 'ruggedness', 'score': 0.13012132048606873},\n",
       "  {'name': 'Sincerity', 'score': 0.011844418942928314},\n",
       "  {'name': 'sophistication', 'score': 0.009230519644916058}]}"
      ]
     },
     "execution_count": 10,
     "metadata": {},
     "output_type": "execute_result"
    }
   ],
   "source": [
    "import requests\n",
    "import time\n",
    "import hashlib\n",
    "import base64\n",
    "import json\n",
    "\n",
    "request_url = \"https://aip.baidubce.com/rpc/2.0/ai_custom/v1/classification/wreck\"\n",
    "access_token = '24.41010a26ad61f71df793494e43a0da1d.2592000.1598493518.282335-21642173'\n",
    "request_url = request_url + \"?access_token=\" + access_token\n",
    "#request_url\n",
    "\n",
    "with open(\"image.jpg\", 'rb') as f:                         #只需要改这里的图片路径\n",
    "    base64_data = base64.b64encode(f.read())\n",
    "    s = base64_data.decode('UTF8')\n",
    "\n",
    "params = {\"image\": s, \"top_num\": \"5\"}\n",
    "params = json.dumps(params)\n",
    "#params\n",
    "\n",
    "r = requests.post(request_url,params)\n",
    "result=json.loads(r.content)\n",
    "result"
   ]
  },
  {
   "cell_type": "markdown",
   "metadata": {},
   "source": [
    "2.tyl的数据集 含drab 共6分类 "
   ]
  },
  {
   "cell_type": "code",
   "execution_count": 11,
   "metadata": {},
   "outputs": [
    {
     "data": {
      "text/plain": [
       "{'log_id': 6765988714734934898,\n",
       " 'results': [{'name': 'delicate', 'score': 0.5147092938423157},\n",
       "  {'name': 'sporting', 'score': 0.3906955420970917},\n",
       "  {'name': 'drab', 'score': 0.07068820297718048},\n",
       "  {'name': 'nature', 'score': 0.01051409263163805},\n",
       "  {'name': 'party', 'score': 0.008592832833528519},\n",
       "  {'name': 'charming', 'score': 0.004800002556294203}]}"
      ]
     },
     "execution_count": 11,
     "metadata": {},
     "output_type": "execute_result"
    }
   ],
   "source": [
    "import requests\n",
    "import time\n",
    "import hashlib\n",
    "import base64\n",
    "import json\n",
    "\n",
    "request_url = \"https://aip.baidubce.com/rpc/2.0/ai_custom/v1/classification/kunkole\"\n",
    "access_token = '24.41010a26ad61f71df793494e43a0da1d.2592000.1598493518.282335-21642173'\n",
    "request_url = request_url + \"?access_token=\" + access_token\n",
    "#request_url\n",
    "\n",
    "with open(\"image.jpg\", 'rb') as f:\n",
    "    base64_data = base64.b64encode(f.read())\n",
    "    s = base64_data.decode('UTF8')\n",
    "\n",
    "params = {\"image\": s, \"top_num\": \"6\"}\n",
    "params = json.dumps(params)\n",
    "#params\n",
    "\n",
    "r = requests.post(request_url,params)\n",
    "result=json.loads(r.content)\n",
    "result"
   ]
  },
  {
   "cell_type": "code",
   "execution_count": null,
   "metadata": {},
   "outputs": [],
   "source": []
  },
  {
   "cell_type": "markdown",
   "metadata": {},
   "source": [
    "3.tyl的数据集 不含drab 5类"
   ]
  },
  {
   "cell_type": "code",
   "execution_count": 2,
   "metadata": {},
   "outputs": [
    {
     "data": {
      "text/plain": [
       "{'log_id': 2166645617667162644,\n",
       " 'results': [{'name': 'charming', 'score': 0.8015602231025696},\n",
       "  {'name': 'nature', 'score': 0.19118991494178772},\n",
       "  {'name': 'delicate', 'score': 0.0050176167860627174},\n",
       "  {'name': 'party', 'score': 0.0020530754700303078},\n",
       "  {'name': 'sporting', 'score': 0.00017922763072419912}]}"
      ]
     },
     "execution_count": 2,
     "metadata": {},
     "output_type": "execute_result"
    }
   ],
   "source": [
    "import requests\n",
    "import time\n",
    "import hashlib\n",
    "import base64\n",
    "import json\n",
    "\n",
    "request_url = \"https://aip.baidubce.com/rpc/2.0/ai_custom/v1/classification/kaizuka\"\n",
    "access_token = '24.41010a26ad61f71df793494e43a0da1d.2592000.1598493518.282335-21642173'\n",
    "request_url = request_url + \"?access_token=\" + access_token\n",
    "#request_url\n",
    "\n",
    "with open(\"C:\\\\Users\\\\asus\\\\Desktop\\\\项目1\\\\resNet图片风格识别\\\\UGC图片\\\\百加得\\\\23160937_129798167782402_5485211645502291968_n.jpg\", 'rb') as f:\n",
    "    base64_data = base64.b64encode(f.read())\n",
    "    s = base64_data.decode('UTF8')\n",
    "\n",
    "params = {\"image\": s, \"top_num\": \"6\"}\n",
    "params = json.dumps(params)\n",
    "#params\n",
    "\n",
    "r = requests.post(request_url,params)\n",
    "result=json.loads(r.content)\n",
    "result"
   ]
  },
  {
   "cell_type": "markdown",
   "metadata": {},
   "source": [
    "### 物体识别"
   ]
  },
  {
   "cell_type": "code",
   "execution_count": 13,
   "metadata": {},
   "outputs": [
    {
     "name": "stdout",
     "output_type": "stream",
     "text": [
      "{'refresh_token': '25.7ae4fa47fe395935c33cbfb3032e6b5f.315360000.1911261886.282335-21631793', 'expires_in': 2592000, 'session_key': '9mzdXU2CKjbnMT3vnkSXKBnDJU5opRJrvuIxl09T625hDNFgkRHWTtlirbX+mlRaR/EBTN+KMv0hQwTUpzcJbfjjjJtsSA==', 'access_token': '24.f9f4e8e39e021a419ee9e4b97476545d.2592000.1598493886.282335-21631793', 'scope': 'public vis-classify_dishes vis-classify_car brain_all_scope vis-classify_animal vis-classify_plant brain_object_detect brain_realtime_logo brain_dish_detect brain_car_detect brain_animal_classify brain_plant_classify brain_ingredient brain_advanced_general_classify brain_custom_dish brain_poi_recognize brain_vehicle_detect brain_redwine brain_currency brain_vehicle_damage wise_adapt lebo_resource_base lightservice_public hetu_basic lightcms_map_poi kaidian_kaidian ApsMisTest_Test权限 vis-classify_flower lpq_开放 cop_helloScope ApsMis_fangdi_permission smartapp_snsapi_base iop_autocar oauth_tp_app smartapp_smart_game_openapi oauth_sessionkey smartapp_swanid_verify smartapp_opensource_openapi smartapp_opensource_recapi fake_face_detect_开放Scope vis-ocr_虚拟人物助理 idl-video_虚拟人物助理', 'session_secret': '6767d7efe34ec1a6345e1e3abd9cd2a2'}\n"
     ]
    }
   ],
   "source": [
    "import requests \n",
    "\n",
    "# client_id 为官网获取的AK， client_secret 为官网获取的SK\n",
    "host = 'https://aip.baidubce.com/oauth/2.0/token?grant_type=client_credentials&client_id=i4ODFa6gLnnNGBYQQYjZzQTR&client_secret=WI9gnxwzneXbOLi6ROapLVGvzMWZ2Zw3'\n",
    "response = requests.get(host)\n",
    "if response:\n",
    "    print(response.json())"
   ]
  },
  {
   "cell_type": "markdown",
   "metadata": {},
   "source": [
    "物体识别是另一套id和key accesstoken 要换 （一个月内不用）"
   ]
  },
  {
   "cell_type": "code",
   "execution_count": 14,
   "metadata": {},
   "outputs": [],
   "source": [
    "access_token = '24.e020509596107cb684292ecdeaeeefcc.2592000.1598492978.282335-21631793'"
   ]
  },
  {
   "cell_type": "code",
   "execution_count": 17,
   "metadata": {},
   "outputs": [
    {
     "data": {
      "text/plain": [
       "{'log_id': 8232589139495770780,\n",
       " 'result_num': 5,\n",
       " 'result': [{'score': 0.51589, 'root': '交通工具-汽车', 'keyword': '轿车'},\n",
       "  {'score': 0.357487, 'root': '交通工具-汽车', 'keyword': '跑车'},\n",
       "  {'score': 0.238265, 'root': '交通工具-轮船', 'keyword': '游览船'},\n",
       "  {'score': 0.12508, 'root': '商品-鞋子', 'keyword': '鞋'},\n",
       "  {'score': 0.006087, 'root': '商品-玩具', 'keyword': '玩具'}]}"
      ]
     },
     "execution_count": 17,
     "metadata": {},
     "output_type": "execute_result"
    }
   ],
   "source": [
    "request_url = \"https://aip.baidubce.com/rest/2.0/image-classify/v2/advanced_general\"\n",
    "# 二进制方式打开图片文件\n",
    "f = open('image.jpg', 'rb')\n",
    "img = base64.b64encode(f.read())\n",
    "\n",
    "params = {\"image\":img}\n",
    "request_url = request_url + \"?access_token=\" + access_token\n",
    "headers = {'content-type': 'application/x-www-form-urlencoded'}\n",
    "response = requests.post(request_url, data=params, headers=headers)\n",
    "result=json.loads(response.content)\n",
    "result"
   ]
  }
 ],
 "metadata": {
  "kernelspec": {
   "display_name": "Python 3",
   "language": "python",
   "name": "python3"
  },
  "language_info": {
   "codemirror_mode": {
    "name": "ipython",
    "version": 3
   },
   "file_extension": ".py",
   "mimetype": "text/x-python",
   "name": "python",
   "nbconvert_exporter": "python",
   "pygments_lexer": "ipython3",
   "version": "3.7.0"
  }
 },
 "nbformat": 4,
 "nbformat_minor": 2
}
