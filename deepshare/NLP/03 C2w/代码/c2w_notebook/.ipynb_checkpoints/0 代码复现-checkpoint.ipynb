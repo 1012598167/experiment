{
 "cells": [
  {
   "cell_type": "markdown",
   "metadata": {},
   "source": [
    "# Character Embedding: Finding Function in Form: Compositional Character Models for Open Vocabulary Word Representation\n",
    "### 授课老师：Pvop"
   ]
  },
  {
   "cell_type": "markdown",
   "metadata": {},
   "source": [
    "# 1 前言\n",
    "## 1.1课程回顾\n",
    "<img src=\"./imgs/C2W模型.png\"  width=\"700\" height=\"700\" align=\"bottom\" />\n",
    "<img src=\"./imgs/模型结构.png\"  width=\"700\" height=\"700\" align=\"bottom\" />"
   ]
  },
  {
   "cell_type": "markdown",
   "metadata": {},
   "source": [
    "## 1.2 课程内容展示\n",
    "<img src=\"./imgs/代码结构.png\"  width=\"500\" height=\"500\" align=\"bottom\" />"
   ]
  },
  {
   "cell_type": "markdown",
   "metadata": {},
   "source": [
    "# 2 准备工作\n",
    "## 2.1项目环境配置\n",
    "\n",
    "* Python3.5\n",
    "* jupyter notebook\n",
    "* torch           1.4.0\n",
    "* numpy           1.16.2\n",
    "* gensim   3.8.1  \n",
    "* tqdm   4.31.1\n",
    "* pickle\n",
    "* json\n",
    "* nltk\n",
    "* wikiextractor\n",
    "\n",
    "代码运行环境建议使用Pycharm  \n",
    "\n",
    "Pycharm：强大的Python IDE，拥有调试、语法高亮、远程调试、代码跳转等功能"
   ]
  },
  {
   "cell_type": "markdown",
   "metadata": {},
   "source": [
    "## 2.2 数据集下载\n",
    "  \n",
    "Wikipedia英文语料，包含wikipedia里面的所有文章，可以在https://dumps.wikimedia.org/enwiki/latest/ 上下载  \n",
    "wikiextractor: https://github.com/attardi/wikiextractor python WikiExtractor.py -o output -b 1000M enwiki-latest-pages-articles14.xml-p7697595p7744800.bz2 --json  \n",
    "nltk: https://pan.baidu.com/s/1hq7UUFU"
   ]
  },
  {
   "cell_type": "markdown",
   "metadata": {},
   "source": [
    "# 3 项目代码结构（pycharm中演示）"
   ]
  },
  {
   "cell_type": "markdown",
   "metadata": {},
   "source": [
    "# 4 算法模块及细节\n",
    "## 4.1 字符级别数据处理\n",
    "\n",
    "* 1 data_process.ipynb\n",
    "\n",
    "## 4.2 C2W模型构建\n",
    "\n",
    "* 2 textcnn_model.ipynb\n",
    "\n",
    "## 4.3 训练和测试\n",
    "\n",
    "* 3 train_test.ipynb\n",
    "\n"
   ]
  },
  {
   "cell_type": "markdown",
   "metadata": {},
   "source": [
    "# 5 代码梳理及细节回顾  \n",
    "<img src=\"./imgs/C2W代码讲解.png\"  width=\"700\" height=\"700\" align=\"bottom\" />"
   ]
  },
  {
   "cell_type": "markdown",
   "metadata": {},
   "source": [
    "# 6 作业\n",
    "  \n",
    "`【思考题】`C2W模型和词嵌入模型有什么区别和联系，C2W模型能够解决词嵌入模型的那些问题？\n",
    "\n",
    "`【代码实践】`训练自己的字符嵌入的词表示，并使用余弦相似度查看学习到的语法和语义信息。\n",
    "\n",
    "`【总结】`总结C2W模型以及C2W模型的代码实现。\n",
    "\n",
    "\n",
    "---"
   ]
  },
  {
   "cell_type": "code",
   "execution_count": null,
   "metadata": {},
   "outputs": [],
   "source": []
  }
 ],
 "metadata": {
  "kernelspec": {
   "display_name": "Python 3",
   "language": "python",
   "name": "python3"
  },
  "language_info": {
   "codemirror_mode": {
    "name": "ipython",
    "version": 3
   },
   "file_extension": ".py",
   "mimetype": "text/x-python",
   "name": "python",
   "nbconvert_exporter": "python",
   "pygments_lexer": "ipython3",
   "version": "3.7.3"
  }
 },
 "nbformat": 4,
 "nbformat_minor": 2
}
