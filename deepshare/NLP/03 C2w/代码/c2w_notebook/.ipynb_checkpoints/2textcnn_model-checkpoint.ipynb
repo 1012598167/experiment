{
 "cells": [
  {
   "cell_type": "code",
   "execution_count": 1,
   "metadata": {},
   "outputs": [],
   "source": [
    "import torch\n",
    "import torch.nn as nn\n",
    "import numpy as np"
   ]
  },
  {
   "cell_type": "code",
   "execution_count": 8,
   "metadata": {},
   "outputs": [],
   "source": [
    "class C2W(nn.Module):\n",
    "    def __init__(self, config):\n",
    "        super(C2W, self).__init__()\n",
    "        self.char_hidden_size = config.char_hidden_size\n",
    "        self.word_embed_size = config.word_embed_size\n",
    "        self.lm_hidden_size = config.lm_hidden_size\n",
    "        self.character_embedding = nn.Embedding(config.n_chars,config.char_embed_size) # 字符嵌入层\n",
    "        self.sentence_length = config.max_sentence_length\n",
    "        self.char_lstm = nn.LSTM(input_size=config.char_embed_size,hidden_size=config.char_hidden_size,\n",
    "                            bidirectional=True,batch_first=True)  # 字符lstm\n",
    "        self.lm_lstm = nn.LSTM(input_size=self.word_embed_size,hidden_size=config.lm_hidden_size,batch_first=True) # 语言模型lstm\n",
    "        self.fc_1 = nn.Linear(2*config.char_hidden_size,config.word_embed_size) # 线性组合生成词表示\n",
    "        self.fc_2 =nn.Linear(config.lm_hidden_size,config.vocab_size) # 生成类别用于预测\n",
    "\n",
    "    def forward(self, x):\n",
    "        x = torch.Tensor(x).long()\n",
    "        input = self.character_embedding(x)\n",
    "        char_lstm_result = self.char_lstm(input)\n",
    "        word_input = torch.cat([char_lstm_result[0][:,0,0:self.char_hidden_size],\n",
    "                                char_lstm_result[0][:,-1,self.char_hidden_size:]],dim=1)\n",
    "        word_input = self.fc_1(word_input)\n",
    "        word_input = word_input.view([-1,self.sentence_length,self.word_embed_size])\n",
    "        lm_lstm_result = self.lm_lstm(word_input)[0].contiguous()\n",
    "        lm_lstm_result = lm_lstm_result.view([-1,self.lm_hidden_size])\n",
    "        out = self.fc_2(lm_lstm_result)\n",
    "        return out"
   ]
  },
  {
   "cell_type": "code",
   "execution_count": 12,
   "metadata": {},
   "outputs": [],
   "source": [
    "class config:\n",
    "    def __init__(self):\n",
    "        self.n_chars = 64  # 字符的个数\n",
    "        self.char_embed_size = 50 # 字符嵌入大小\n",
    "        self.max_sentence_length = 8 # 最大句子长度\n",
    "        self.char_hidden_size = 50 # 字符lstm的隐藏层神经元个数\n",
    "        self.lm_hidden_size = 150 # 语言模型的隐藏神经元个数\n",
    "        self.word_embed_size = 50 # 生成的词表示大小\n",
    "        config.vocab_size = 1000 # 词表大小"
   ]
  },
  {
   "cell_type": "code",
   "execution_count": 13,
   "metadata": {},
   "outputs": [],
   "source": [
    "config = config()\n",
    "c2w = C2W(config)\n",
    "test = np.zeros([64,16])\n",
    "out = c2w(test)"
   ]
  },
  {
   "cell_type": "code",
   "execution_count": 14,
   "metadata": {},
   "outputs": [
    {
     "data": {
      "text/plain": [
       "tensor([[ 0.0113, -0.0097, -0.0188,  ...,  0.0610, -0.0709,  0.0484],\n",
       "        [ 0.0109, -0.0210, -0.0202,  ...,  0.0619, -0.0764,  0.0469],\n",
       "        [ 0.0114, -0.0279, -0.0207,  ...,  0.0619, -0.0795,  0.0460],\n",
       "        ...,\n",
       "        [ 0.0129, -0.0355, -0.0210,  ...,  0.0609, -0.0832,  0.0447],\n",
       "        [ 0.0131, -0.0361, -0.0210,  ...,  0.0606, -0.0837,  0.0446],\n",
       "        [ 0.0132, -0.0365, -0.0210,  ...,  0.0604, -0.0839,  0.0445]],\n",
       "       grad_fn=<AddmmBackward>)"
      ]
     },
     "execution_count": 14,
     "metadata": {},
     "output_type": "execute_result"
    }
   ],
   "source": [
    "out"
   ]
  },
  {
   "cell_type": "code",
   "execution_count": 15,
   "metadata": {},
   "outputs": [
    {
     "data": {
      "text/plain": [
       "torch.Size([64, 1000])"
      ]
     },
     "execution_count": 15,
     "metadata": {},
     "output_type": "execute_result"
    }
   ],
   "source": [
    "out.size()"
   ]
  },
  {
   "cell_type": "code",
   "execution_count": null,
   "metadata": {},
   "outputs": [],
   "source": []
  }
 ],
 "metadata": {
  "kernelspec": {
   "display_name": "Python 3",
   "language": "python",
   "name": "python3"
  },
  "language_info": {
   "codemirror_mode": {
    "name": "ipython",
    "version": 3
   },
   "file_extension": ".py",
   "mimetype": "text/x-python",
   "name": "python",
   "nbconvert_exporter": "python",
   "pygments_lexer": "ipython3",
   "version": "3.7.3"
  }
 },
 "nbformat": 4,
 "nbformat_minor": 4
}
