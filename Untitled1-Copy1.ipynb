{
 "cells": [
  {
   "cell_type": "code",
   "execution_count": 1,
   "metadata": {
    "ExecuteTime": {
     "end_time": "2019-10-07T06:08:33.972071Z",
     "start_time": "2019-10-07T06:08:33.950040Z"
    }
   },
   "outputs": [],
   "source": [
    "!cd C:/Windows/Fonts/"
   ]
  },
  {
   "cell_type": "code",
   "execution_count": 8,
   "metadata": {
    "ExecuteTime": {
     "end_time": "2019-10-07T06:11:40.941070Z",
     "start_time": "2019-10-07T06:11:40.928970Z"
    }
   },
   "outputs": [],
   "source": [
    "import os\n",
    "os.chdir('C:/Windows/Fonts/')"
   ]
  },
  {
   "cell_type": "code",
   "execution_count": 10,
   "metadata": {
    "ExecuteTime": {
     "end_time": "2019-10-07T06:12:09.465059Z",
     "start_time": "2019-10-07T06:12:09.459041Z"
    }
   },
   "outputs": [
    {
     "data": {
      "text/plain": [
       "'C:\\\\Windows\\\\Fonts'"
      ]
     },
     "execution_count": 10,
     "metadata": {},
     "output_type": "execute_result"
    }
   ],
   "source": [
    "os.getcwd()"
   ]
  },
  {
   "cell_type": "code",
   "execution_count": 9,
   "metadata": {
    "ExecuteTime": {
     "end_time": "2019-10-07T06:11:43.240288Z",
     "start_time": "2019-10-07T06:11:43.194411Z"
    }
   },
   "outputs": [
    {
     "name": "stdout",
     "output_type": "stream",
     "text": [
      " 驱动器 C 中的卷是 OS\n",
      " 卷的序列号是 901F-9214\n",
      "\n",
      " C:\\Windows\\Fonts 的目录\n",
      "\n",
      "2019/03/19  12:44            10,976 8514fix.fon\n",
      "2019/03/19  12:44            10,976 8514fixe.fon\n",
      "2019/03/19  12:44            11,520 8514fixg.fon\n",
      "2019/03/19  12:44            10,976 8514fixr.fon\n",
      "2019/03/19  12:44            11,488 8514fixt.fon\n",
      "2019/03/19  12:44            12,288 8514oem.fon\n",
      "2019/03/19  12:44            13,248 8514oeme.fon\n",
      "2019/03/19  12:44            12,800 8514oemg.fon\n",
      "2019/03/19  12:44            13,200 8514oemr.fon\n",
      "2019/03/19  12:44            12,720 8514oemt.fon\n",
      "2019/03/19  12:44             9,280 8514sys.fon\n",
      "2019/03/19  12:44             9,504 8514syse.fon\n",
      "2019/03/19  12:44             9,856 8514sysg.fon\n",
      "2019/03/19  12:44            10,064 8514sysr.fon\n",
      "2019/03/19  12:44             9,792 8514syst.fon\n",
      "2019/03/19  12:44            12,304 85775.fon\n",
      "2019/03/19  12:44            12,256 85855.fon\n",
      "2019/03/19  12:44            12,336 85f1255.fon\n",
      "2019/03/19  12:44            12,384 85f1256.fon\n",
      "2019/03/19  12:44            10,976 85f1257.fon\n",
      "2019/03/19  12:44            12,288 85f874.fon\n",
      "2019/03/19  12:44            10,224 85s1255.fon\n",
      "2019/03/19  12:44            10,608 85s1256.fon\n",
      "2019/03/19  12:44             9,472 85s1257.fon\n",
      "2019/03/19  12:44            10,240 85s874.fon\n",
      "2017/08/25  16:52            60,656 AGENCYB.TTF\n",
      "2017/08/25  16:52            58,920 AGENCYR.TTF\n",
      "2017/08/25  16:52            76,588 ALGER.TTF\n",
      "2017/08/25  16:52           151,000 ANTQUAB.TTF\n",
      "2017/08/25  16:52           150,416 ANTQUABI.TTF\n",
      "2017/08/25  16:52           149,092 ANTQUAI.TTF\n",
      "2019/03/19  12:44            35,808 app775.fon\n",
      "2019/03/19  12:44            36,672 app850.fon\n",
      "2019/03/19  12:44            36,656 app852.fon\n",
      "2019/03/19  12:44            37,296 app855.fon\n",
      "2019/03/19  12:44            36,672 app857.fon\n",
      "2019/03/19  12:44            37,472 app866.fon\n",
      "2019/03/19  12:44            80,896 app932.fon\n",
      "2019/03/19  12:44            70,000 app936.fon\n",
      "2019/03/19  12:44            80,896 app949.fon\n",
      "2019/03/19  12:44            70,000 app950.fon\n",
      "2019/03/19  12:44         1,036,584 arial.ttf\n",
      "2019/03/19  12:44           980,756 arialbd.ttf\n",
      "2019/03/19  12:44           721,144 arialbi.ttf\n",
      "2019/03/19  12:44           717,428 ariali.ttf\n",
      "2017/08/25  16:52           175,956 ARIALN.TTF\n",
      "2017/08/25  16:52           180,740 ARIALNB.TTF\n",
      "2017/08/25  16:52           180,084 ARIALNBI.TTF\n",
      "2017/08/25  16:52           181,124 ARIALNI.TTF\n",
      "2002/11/18  17:44        23,275,812 ARIALUNI.TTF\n",
      "2019/03/19  12:44           167,592 ariblk.ttf\n",
      "2017/08/25  16:52            45,260 ARLRDBD.TTF\n",
      "2019/03/19  12:44           355,600 bahnschrift.ttf\n",
      "2017/08/25  16:52            54,976 BASKVILL.TTF\n",
      "2017/08/25  16:52            47,644 BAUHS93.TTF\n",
      "2017/08/25  16:52            84,840 BELL.TTF\n",
      "2017/08/25  16:52            82,580 BELLB.TTF\n",
      "2017/08/25  16:52            82,192 BELLI.TTF\n",
      "2017/08/25  16:52            70,656 BERNHC.TTF\n",
      "2017/08/25  16:52           155,528 BKANT.TTF\n",
      "2017/08/25  16:52            74,440 BOD_B.TTF\n",
      "2017/08/25  16:52            85,308 BOD_BI.TTF\n",
      "2017/08/25  16:52            83,816 BOD_BLAI.TTF\n",
      "2017/08/25  16:52            73,616 BOD_BLAR.TTF\n",
      "2017/08/25  16:52            74,092 BOD_CB.TTF\n",
      "2017/08/25  16:52            81,072 BOD_CBI.TTF\n",
      "2017/08/25  16:52            80,536 BOD_CI.TTF\n",
      "2017/08/25  16:52            80,580 BOD_CR.TTF\n",
      "2017/08/25  16:52            89,940 BOD_I.TTF\n",
      "2017/08/25  16:52            91,592 BOD_PSTC.TTF\n",
      "2017/08/25  16:52            77,884 BOD_R.TTF\n",
      "2017/08/25  16:52           160,940 BOOKOS.TTF\n",
      "2017/08/25  16:52           154,576 BOOKOSB.TTF\n",
      "2017/08/25  16:52           162,460 BOOKOSBI.TTF\n",
      "2017/08/25  16:52           161,020 BOOKOSI.TTF\n",
      "2017/08/25  16:52           105,296 BRADHITC.TTF\n",
      "2017/08/25  16:52            40,728 BRITANIC.TTF\n",
      "2017/08/25  16:52            96,880 BRLNSB.TTF\n",
      "2017/08/25  16:52            96,852 BRLNSDB.TTF\n",
      "2017/08/25  16:52            97,284 BRLNSR.TTF\n",
      "2017/08/25  16:52            60,372 BROADW.TTF\n",
      "2017/08/25  16:52            53,456 BRUSHSCI.TTF\n",
      "2019/03/19  12:44            10,992 c8514fix.fon\n",
      "2019/03/19  12:44            13,552 c8514oem.fon\n",
      "2019/03/19  12:44            17,760 c8514sys.fon\n",
      "2019/03/19  12:44         1,648,120 calibri.ttf\n",
      "2019/03/19  12:44         1,613,668 calibrib.ttf\n",
      "2019/03/19  12:44         1,196,672 calibrii.ttf\n",
      "2019/03/19  12:44         1,438,808 calibril.ttf\n",
      "2019/03/19  12:44         1,061,248 calibrili.ttf\n",
      "2019/03/19  12:44         1,159,032 calibriz.ttf\n",
      "2017/08/25  16:52            80,620 CALIFB.TTF\n",
      "2017/08/25  16:52            98,748 CALIFI.TTF\n",
      "2017/08/25  16:52           105,300 CALIFR.TTF\n",
      "2017/08/25  16:52            80,148 CALIST.TTF\n",
      "2017/08/25  16:52            85,080 CALISTB.TTF\n",
      "2017/08/25  16:52            84,960 CALISTBI.TTF\n",
      "2017/08/25  16:52            59,372 CALISTI.TTF\n",
      "2019/03/19  12:44         1,792,664 cambria.ttc\n",
      "2019/03/19  12:44           841,440 cambriab.ttf\n",
      "2019/03/19  12:44           892,620 cambriai.ttf\n",
      "2019/03/19  12:44           856,672 cambriaz.ttf\n",
      "2019/03/19  12:44           219,532 Candara.ttf\n",
      "2019/03/19  12:44           227,604 Candarab.ttf\n",
      "2019/03/19  12:44           227,648 Candarai.ttf\n",
      "2019/03/19  12:44           122,132 Candaral.ttf\n",
      "2019/03/19  12:44           120,996 Candarali.ttf\n",
      "2019/03/19  12:44           229,364 Candaraz.ttf\n",
      "2017/08/25  16:52            48,252 CASTELAR.TTF\n",
      "2017/08/25  16:52           162,380 CENSCBK.TTF\n",
      "2017/08/25  16:52            82,760 CENTAUR.TTF\n",
      "2017/08/25  16:52           165,248 CENTURY.TTF\n",
      "2019/03/19  12:44             7,216 cga40737.fon\n",
      "2019/03/19  12:44             6,352 cga40850.fon\n",
      "2019/03/19  12:44             6,672 cga40852.fon\n",
      "2019/03/19  12:44             6,672 cga40857.fon\n",
      "2019/03/19  12:44             7,232 cga40866.fon\n",
      "2019/03/19  12:44             7,216 cga40869.fon\n",
      "2019/03/19  12:44             6,336 cga40woa.fon\n",
      "2019/03/19  12:44             5,168 cga80737.fon\n",
      "2019/03/19  12:44             4,320 cga80850.fon\n",
      "2019/03/19  12:44             5,200 cga80852.fon\n",
      "2019/03/19  12:44             4,640 cga80857.fon\n",
      "2019/03/19  12:44             5,168 cga80866.fon\n",
      "2019/03/19  12:44             5,168 cga80869.fon\n",
      "2019/03/19  12:44             4,304 cga80woa.fon\n",
      "2017/08/25  16:52            96,452 CHILLER.TTF\n",
      "2017/08/25  16:52            54,952 COLONNA.TTF\n",
      "2019/03/19  12:44           245,600 comic.ttf\n",
      "2019/03/19  12:44           229,408 comicbd.ttf\n",
      "2019/03/19  12:44           226,708 comici.ttf\n",
      "2019/03/19  12:44           224,252 comicz.ttf\n",
      "2019/03/19  12:44           459,180 consola.ttf\n",
      "2019/03/19  12:44           397,896 consolab.ttf\n",
      "2019/03/19  12:44           467,584 consolai.ttf\n",
      "2019/03/19  12:44           407,956 consolaz.ttf\n",
      "2019/03/19  12:44           448,376 constan.ttf\n",
      "2019/03/19  12:44           451,824 constanb.ttf\n",
      "2019/03/19  12:44           448,748 constani.ttf\n",
      "2019/03/19  12:44           455,564 constanz.ttf\n",
      "2017/08/25  16:52            80,388 COOPBL.TTF\n",
      "2017/08/25  16:52            61,552 COPRGTB.TTF\n",
      "2017/08/25  16:52            62,716 COPRGTL.TTF\n",
      "2019/03/19  12:44           277,168 corbel.ttf\n",
      "2019/03/19  12:44           290,908 corbelb.ttf\n",
      "2019/03/19  12:44           284,690 corbeli.ttf\n",
      "2019/03/19  12:44           172,256 corbell.ttf\n",
      "2019/03/19  12:44           169,228 corbelli.ttf\n",
      "2019/03/19  12:44           294,692 corbelz.ttf\n",
      "2019/03/19  12:44            26,432 coue1255.fon\n",
      "2019/03/19  12:44            26,544 coue1256.fon\n",
      "2019/03/19  12:44            23,440 coue1257.fon\n",
      "2019/03/19  12:44            35,888 couf1255.fon\n",
      "2019/03/19  12:44            36,032 couf1256.fon\n",
      "2019/03/19  12:44            31,760 couf1257.fon\n",
      "2019/03/19  12:44           806,504 cour.ttf\n",
      "2019/03/19  12:44           805,244 courbd.ttf\n",
      "2019/03/19  12:44           577,488 courbi.ttf\n",
      "2019/03/19  12:44            23,408 coure.fon\n",
      "2019/03/19  12:44            23,440 couree.fon\n",
      "2019/03/19  12:44            25,024 coureg.fon\n",
      "2019/03/19  12:44            23,440 courer.fon\n",
      "2019/03/19  12:44            25,024 couret.fon\n",
      "2019/03/19  12:44            31,712 courf.fon\n",
      "2019/03/19  12:44            31,776 courfe.fon\n",
      "2019/03/19  12:44            33,344 courfg.fon\n",
      "2019/03/19  12:44            31,808 courfr.fon\n",
      "2019/03/19  12:44            33,360 courft.fon\n",
      "2019/03/19  12:44           667,440 couri.ttf\n",
      "2017/08/25  16:52            69,480 CURLZ___.TTF\n",
      "2019/03/19  12:44             5,600 cvgafix.fon\n",
      "2019/03/19  12:44            12,896 cvgasys.fon\n",
      "2019/03/02  01:35        16,093,132 Deng.ttf\n",
      "2019/03/02  01:35        16,218,920 Dengb.ttf\n",
      "2019/03/02  01:35        15,150,940 Dengl.ttf\n",
      "2019/03/19  12:49                65 desktop.ini\n",
      "2019/03/19  12:44            36,336 dos737.fon\n",
      "2019/03/19  12:44            36,816 dos869.fon\n",
      "2019/03/19  12:44            36,656 dosapp.fon\n",
      "2019/09/20  15:07           179,268 DUBAI-BOLD.TTF\n",
      "2019/09/20  15:07           179,648 DUBAI-LIGHT.TTF\n",
      "2019/09/20  15:07           179,432 DUBAI-MEDIUM.TTF\n",
      "2019/09/20  15:07           181,484 DUBAI-REGULAR.TTF\n",
      "2019/03/19  12:44           907,232 ebrima.ttf\n",
      "2019/03/19  12:44           916,908 ebrimabd.ttf\n",
      "2019/03/19  12:44             9,248 ega40737.fon\n",
      "2019/03/19  12:44             8,384 ega40850.fon\n",
      "2019/03/19  12:44             8,368 ega40852.fon\n",
      "2019/03/19  12:44             8,704 ega40857.fon\n",
      "2019/03/19  12:44             9,232 ega40866.fon\n",
      "2019/03/19  12:44             9,248 ega40869.fon\n",
      "2019/03/19  12:44             8,368 ega40woa.fon\n",
      "2019/03/19  12:44             6,192 ega80737.fon\n",
      "2019/03/19  12:44             5,328 ega80850.fon\n",
      "2019/03/19  12:44             5,344 ega80852.fon\n",
      "2019/03/19  12:44             5,648 ega80857.fon\n",
      "2019/03/19  12:44             5,280 ega80866.fon\n",
      "2019/03/19  12:44             6,192 ega80869.fon\n",
      "2019/03/19  12:44             5,312 ega80woa.fon\n",
      "2017/08/25  16:52            51,652 ELEPHNT.TTF\n",
      "2017/08/25  16:52            54,324 ELEPHNTI.TTF\n",
      "2017/08/25  16:52            49,768 ENGR.TTF\n",
      "2017/08/25  16:52            57,508 ERASBD.TTF\n",
      "2017/08/25  16:52            59,996 ERASDEMI.TTF\n",
      "2017/08/25  16:52            68,656 ERASLGHT.TTF\n",
      "2017/08/25  16:52            60,772 ERASMD.TTF\n",
      "2017/08/25  16:52            45,952 FELIXTI.TTF\n",
      "2017/08/25  16:52            61,776 FORTE.TTF\n",
      "2017/08/25  16:52           152,700 FRABK.TTF\n",
      "2017/08/25  16:52           169,620 FRABKIT.TTF\n",
      "2017/08/25  16:52           142,932 FRADM.TTF\n",
      "2017/08/25  16:52           116,940 FRADMCN.TTF\n",
      "2017/08/25  16:52           135,904 FRADMIT.TTF\n",
      "2017/08/25  16:52           139,400 FRAHV.TTF\n",
      "2017/08/25  16:52           152,700 FRAHVIT.TTF\n",
      "2019/03/19  12:44           133,632 framd.ttf\n",
      "2017/08/25  16:52           132,516 FRAMDCN.TTF\n",
      "2019/03/19  12:44           148,728 framdit.ttf\n",
      "2017/08/25  16:52            69,876 FREESCPT.TTF\n",
      "2017/08/25  16:52            58,580 FRSCRIPT.TTF\n",
      "2017/08/25  16:52            83,580 FTLTLT.TTF\n",
      "2018/07/14  20:09         1,758,480 FZLTCXHJW.TTF\n",
      "2017/08/25  16:52         7,574,196 FZSTK.TTF\n",
      "2017/08/25  16:52         3,241,748 FZYTK.TTF\n",
      "2019/03/19  12:44         1,806,004 Gabriola.ttf\n",
      "2019/03/19  12:44           247,240 gadugi.ttf\n",
      "2019/03/19  12:44           244,912 gadugib.ttf\n",
      "2017/08/25  16:52           198,072 GARA.TTF\n",
      "2017/08/25  16:52           199,772 GARABD.TTF\n",
      "2017/08/25  16:52           189,464 GARAIT.TTF\n",
      "2019/03/19  12:44           219,712 georgia.ttf\n",
      "2019/03/19  12:44           207,476 georgiab.ttf\n",
      "2019/03/19  12:44           208,444 georgiai.ttf\n",
      "2019/03/19  12:44           211,780 georgiaz.ttf\n",
      "2017/08/25  16:52           142,072 GIGI.TTF\n",
      "2017/08/25  16:52            71,496 GILBI___.TTF\n",
      "2017/08/25  16:52            68,304 GILB____.TTF\n",
      "2017/08/25  16:52            60,320 GILC____.TTF\n",
      "2017/08/25  16:52            69,436 GILI____.TTF\n",
      "2017/08/25  16:52            72,408 GILLUBCD.TTF\n",
      "2017/08/25  16:52            73,136 GILSANUB.TTF\n",
      "2017/08/25  16:52            67,416 GIL_____.TTF\n",
      "2017/08/25  16:52            72,676 GLECB.TTF\n",
      "2019/09/20  04:53            26,040 GlobalMonospace.CompositeFont\n",
      "2019/09/20  04:53            26,489 GlobalSansSerif.CompositeFont\n",
      "2019/09/20  04:53            29,779 GlobalSerif.CompositeFont\n",
      "2019/09/20  04:53            43,318 GlobalUserInterface.CompositeFont\n",
      "2017/08/25  16:52            84,668 GLSNECB.TTF\n",
      "2017/08/25  16:52           137,568 GOTHIC.TTF\n",
      "2017/08/25  16:52           129,676 GOTHICB.TTF\n",
      "2017/08/25  16:52           139,084 GOTHICBI.TTF\n",
      "2017/08/25  16:52           148,520 GOTHICI.TTF\n",
      "2017/08/25  16:52            81,376 GOUDOS.TTF\n",
      "2017/08/25  16:52            82,796 GOUDOSB.TTF\n",
      "2017/08/25  16:52            80,280 GOUDOSI.TTF\n",
      "2017/08/25  16:52            55,956 GOUDYSTO.TTF\n",
      "2019/03/19  12:44            11,056 h8514fix.fon\n",
      "2019/03/19  12:44            12,400 h8514oem.fon\n",
      "2019/03/19  12:44            10,032 h8514sys.fon\n",
      "2017/08/25  16:52            56,596 HARLOWSI.TTF\n",
      "2017/08/25  16:52            70,440 HARNGTON.TTF\n",
      "2017/08/25  16:52           108,664 HATTEN.TTF\n",
      "2019/03/19  12:44           572,776 himalaya.ttf\n",
      "2019/03/19  19:43            40,264 holomdl2.ttf\n",
      "2017/08/25  16:52            92,736 HTOWERT.TTF\n",
      "2017/08/25  16:52            74,712 HTOWERTI.TTF\n",
      "2019/03/19  12:44             5,680 hvgafix.fon\n",
      "2019/03/19  12:44             6,512 hvgasys.fon\n",
      "2019/03/19  12:44           206,784 impact.ttf\n",
      "2017/08/25  16:52            60,488 IMPRISHA.TTF\n",
      "2017/08/25  16:52            74,968 INFROMAN.TTF\n",
      "2019/03/19  12:44            41,164 Inkfree.ttf\n",
      "2017/08/25  16:52           132,372 ITCBLKAD.TTF\n",
      "2017/08/25  16:52            64,056 ITCEDSCR.TTF\n",
      "2017/08/25  16:52            59,712 ITCKRIST.TTF\n",
      "2019/03/19  12:44            12,896 j8514fix.fon\n",
      "2019/03/19  12:44            14,432 j8514oem.fon\n",
      "2019/03/19  12:44            10,656 j8514sys.fon\n",
      "2019/03/19  12:44           304,068 javatext.ttf\n",
      "2017/08/25  16:52            69,752 JOKERMAN.TTF\n",
      "2019/03/19  12:44            41,584 jsmalle.fon\n",
      "2019/03/19  12:44            38,480 jsmallf.fon\n",
      "2017/08/25  16:52            62,884 JUICE___.TTF\n",
      "2019/03/19  12:44             6,528 jvgafix.fon\n",
      "2019/03/19  12:44             7,728 jvgasys.fon\n",
      "2017/08/25  16:52            63,392 KUNSTLER.TTF\n",
      "2017/08/25  16:52            44,824 LATINWD.TTF\n",
      "2017/08/25  16:52            70,748 LBRITE.TTF\n",
      "2017/08/25  16:52            66,724 LBRITED.TTF\n",
      "2017/08/25  16:52            71,456 LBRITEDI.TTF\n",
      "2017/08/25  16:52            71,000 LBRITEI.TTF\n",
      "2017/08/25  16:52            55,464 LCALLIG.TTF\n",
      "2019/03/19  12:44           327,420 LeelaUIb.ttf\n",
      "2019/09/20  15:07            94,064 LEELAWAD.TTF\n",
      "2019/09/20  15:07            93,836 LEELAWDB.TTF\n",
      "2019/03/19  12:44           393,764 LeelawUI.ttf\n",
      "2019/03/19  12:44           386,264 LeelUIsl.ttf\n",
      "2017/08/25  16:52            61,912 LFAX.TTF\n",
      "2017/08/25  16:52            62,100 LFAXD.TTF\n",
      "2017/08/25  16:52            71,472 LFAXDI.TTF\n",
      "2017/08/25  16:52            67,420 LFAXI.TTF\n",
      "2017/08/25  16:52            62,484 LHANDW.TTF\n",
      "2017/08/25  16:52            64,608 LSANS.TTF\n",
      "2017/08/25  16:52            59,976 LSANSD.TTF\n",
      "2017/08/25  16:52            66,320 LSANSDI.TTF\n",
      "2017/08/25  16:52            65,412 LSANSI.TTF\n",
      "2017/08/25  16:52            55,984 LTYPE.TTF\n",
      "2017/08/25  16:52            52,868 LTYPEB.TTF\n",
      "2017/08/25  16:52            54,620 LTYPEBO.TTF\n",
      "2017/08/25  16:52            65,412 LTYPEO.TTF\n",
      "2019/03/19  12:44           111,108 lucon.ttf\n",
      "2019/03/19  12:44           309,516 l_10646.ttf\n",
      "2017/08/25  16:52            65,284 MAGNETOB.TTF\n",
      "2017/08/25  16:52            61,384 MAIAN.TTF\n",
      "2019/03/19  12:44        13,457,164 malgun.ttf\n",
      "2019/03/19  12:45        12,598,360 malgunbd.ttf\n",
      "2019/03/19  12:45         5,083,156 malgunsl.ttf\n",
      "2019/03/19  12:44            27,724 marlett.ttf\n",
      "2017/08/25  16:52            51,296 MATURASC.TTF\n",
      "2019/03/19  12:44           876,256 micross.ttf\n",
      "2019/03/19  12:44        36,786,404 mingliub.ttc\n",
      "2017/08/25  16:52           191,716 MISTRAL.TTF\n",
      "2019/03/19  12:44           355,292 mmrtext.ttf\n",
      "2019/03/19  12:44           335,368 mmrtextb.ttf\n",
      "2017/08/25  16:52            62,612 MOD20.TTF\n",
      "2019/03/19  12:44             8,704 modern.fon\n",
      "2019/03/19  12:44           289,052 monbaiti.ttf\n",
      "2019/09/20  04:57         9,216,208 msgothic.ttc\n",
      "2019/03/19  12:44        21,402,152 msjh.ttc\n",
      "2019/03/19  12:45        14,439,416 msjhbd.ttc\n",
      "2019/03/19  12:45        12,875,740 msjhl.ttc\n",
      "2019/09/20  15:07           247,348 MSUIGHUB.TTF\n",
      "2019/09/20  15:07           222,632 MSUIGHUR.TTF\n",
      "2019/03/19  12:44        19,647,736 msyh.ttc\n",
      "2019/03/19  12:45        16,829,116 msyhbd.ttc\n",
      "2019/03/19  12:45        12,139,380 msyhl.ttc\n",
      "2019/03/19  12:44           301,180 msyi.ttf\n",
      "2017/08/25  16:52           157,360 MTCORSVA.TTF\n",
      "2017/08/25  16:52             7,656 MTEXTRA.TTF\n",
      "2019/03/19  12:44            78,272 mvboli.ttf\n",
      "2017/08/25  16:52            95,904 NIAGENG.TTF\n",
      "2017/08/25  16:52            74,012 NIAGSOL.TTF\n",
      "2019/03/19  12:44         1,448,112 Nirmala.ttf\n",
      "2019/03/19  12:44         1,402,304 NirmalaB.ttf\n",
      "2019/03/19  12:44         1,487,800 NirmalaS.ttf\n",
      "2019/03/19  12:44            74,464 ntailu.ttf\n",
      "2019/03/19  12:44            67,168 ntailub.ttf\n",
      "2017/08/25  16:52            55,400 OCRAEXT.TTF\n",
      "2017/08/25  16:52            93,068 OLDENGL.TTF\n",
      "2017/08/25  16:52            81,044 ONYX.TTF\n",
      "2019/03/19  12:44           472,284 pala.ttf\n",
      "2019/03/19  12:44           419,932 palab.ttf\n",
      "2019/03/19  12:44           335,292 palabi.ttf\n",
      "2019/03/19  12:44           413,708 palai.ttf\n",
      "2017/08/25  16:52            51,404 PALSCRI.TTF\n",
      "2017/08/25  16:52           163,476 PAPYRUS.TTF\n",
      "2017/08/25  16:52           151,256 PARCHM.TTF\n",
      "2017/08/25  16:52            75,620 PERBI___.TTF\n",
      "2017/08/25  16:52            58,512 PERB____.TTF\n",
      "2017/08/25  16:52            76,080 PERI____.TTF\n",
      "2017/08/25  16:52            48,320 PERTIBD.TTF\n",
      "2017/08/25  16:52            43,800 PERTILI.TTF\n",
      "2017/08/25  16:52            60,216 PER_____.TTF\n",
      "2019/03/19  12:44            93,720 phagspa.ttf\n",
      "2019/03/19  12:44            97,476 phagspab.ttf\n",
      "2017/08/25  16:52            46,164 PLAYBILL.TTF\n",
      "2017/08/25  16:52            76,588 POORICH.TTF\n",
      "2017/08/25  16:52            82,680 PRISTINA.TTF\n",
      "2017/08/25  16:52           132,600 RAGE.TTF\n",
      "2017/08/25  16:52            74,416 RAVIE.TTF\n",
      "2017/08/25  16:52            59,444 ROCCB___.TTF\n",
      "2017/08/25  16:52            55,824 ROCC____.TTF\n",
      "2017/08/25  16:52            72,272 ROCK.TTF\n",
      "2017/08/25  16:52            68,780 ROCKB.TTF\n",
      "2017/08/25  16:52            73,700 ROCKBI.TTF\n",
      "2017/08/25  16:52            49,168 ROCKEB.TTF\n",
      "2017/08/25  16:52            76,756 ROCKI.TTF\n",
      "2019/03/19  12:44            13,312 roman.fon\n",
      "2019/03/19  12:44            11,056 s8514fix.fon\n",
      "2019/03/19  12:44            12,384 s8514oem.fon\n",
      "2019/03/19  12:44            17,760 s8514sys.fon\n",
      "2017/08/25  16:52           168,756 SCHLBKB.TTF\n",
      "2017/08/25  16:52           160,964 SCHLBKBI.TTF\n",
      "2017/08/25  16:52           163,164 SCHLBKI.TTF\n",
      "2019/03/19  12:44            12,288 script.fon\n",
      "2017/08/25  16:52            55,500 SCRIPTBL.TTF\n",
      "2019/03/19  12:44           257,444 segmdl2.ttf\n",
      "2019/03/19  12:44           168,404 segoepr.ttf\n",
      "2019/03/19  12:44           167,800 segoeprb.ttf\n",
      "2019/03/19  12:44           596,948 segoesc.ttf\n",
      "2019/03/19  12:44           581,252 segoescb.ttf\n",
      "2019/03/19  12:44           955,804 segoeui.ttf\n",
      "2019/03/19  12:44           951,724 segoeuib.ttf\n",
      "2019/03/19  12:44           529,712 segoeuii.ttf\n",
      "2019/03/19  12:44           913,712 segoeuil.ttf\n",
      "2019/03/19  12:44           854,140 segoeuisl.ttf\n",
      "2019/03/19  12:44           541,468 segoeuiz.ttf\n",
      "2019/03/19  12:44           324,260 seguibl.ttf\n",
      "2019/03/19  12:44           356,008 seguibli.ttf\n",
      "2019/03/19  12:44         2,072,388 seguiemj.ttf\n",
      "2019/03/19  12:44         1,400,724 seguihis.ttf\n",
      "2019/03/19  12:44           459,940 seguili.ttf\n",
      "2019/03/19  12:44           971,080 seguisb.ttf\n",
      "2019/03/19  12:44           457,892 seguisbi.ttf\n",
      "2019/03/19  12:44           467,180 seguisli.ttf\n",
      "2019/03/19  12:44         2,454,728 seguisym.ttf\n",
      "2019/03/19  12:44            62,944 sere1255.fon\n",
      "2019/03/19  12:44            65,392 sere1256.fon\n",
      "2019/03/19  12:44            59,024 sere1257.fon\n",
      "2019/03/19  12:44            89,456 serf1255.fon\n",
      "2019/03/19  12:44            95,488 serf1256.fon\n",
      "2019/03/19  12:44            84,080 serf1257.fon\n",
      "2019/03/19  12:44            57,936 serife.fon\n",
      "2019/03/19  12:44            59,952 serifee.fon\n",
      "2019/03/19  12:44            60,752 serifeg.fon\n",
      "2019/03/19  12:44            63,296 serifer.fon\n",
      "2019/03/19  12:44            61,024 serifet.fon\n",
      "2019/03/19  12:44            81,728 seriff.fon\n",
      "2019/03/19  12:44            85,360 seriffe.fon\n",
      "2019/03/19  12:44            86,256 seriffg.fon\n",
      "2019/03/19  12:44            90,736 seriffr.fon\n",
      "2019/03/19  12:44            84,848 serifft.fon\n",
      "2017/08/25  16:52            52,316 SHOWG.TTF\n",
      "2019/03/02  01:35        10,578,152 simfang.ttf\n",
      "2019/03/02  01:35         9,753,388 simhei.ttf\n",
      "2019/03/02  01:35        11,787,328 simkai.ttf\n",
      "2017/08/25  16:52         9,223,160 SIMLI.TTF\n",
      "2019/03/19  12:44        18,214,472 simsun.ttc\n",
      "2019/03/19  12:44        17,064,180 simsunb.ttf\n",
      "2017/08/25  16:52         6,700,204 SIMYOU.TTF\n",
      "2019/03/19  12:44           945,616 Sitka.ttc\n",
      "2019/03/19  12:44           933,972 SitkaB.ttc\n",
      "2019/03/19  12:44           990,728 SitkaI.ttc\n",
      "2019/03/19  12:44           980,296 SitkaZ.ttc\n",
      "2019/03/19  12:44            25,216 smae1255.fon\n",
      "2019/03/19  12:44            32,512 smae1256.fon\n",
      "2019/03/19  12:44            24,672 smae1257.fon\n",
      "2019/03/19  12:44            20,448 smaf1255.fon\n",
      "2019/03/19  12:44            37,952 smaf1256.fon\n",
      "2019/03/19  12:44            19,904 smaf1257.fon\n",
      "2019/03/19  12:44            26,112 smalle.fon\n",
      "2019/03/19  12:44            24,784 smallee.fon\n",
      "2019/03/19  12:44            28,912 smalleg.fon\n",
      "2019/03/19  12:44            24,832 smaller.fon\n",
      "2019/03/19  12:44            29,200 smallet.fon\n",
      "2019/03/19  12:44            21,504 smallf.fon\n",
      "2019/03/19  12:44            19,600 smallfe.fon\n",
      "2019/03/19  12:44            23,120 smallfg.fon\n",
      "2019/03/19  12:44            19,760 smallfr.fon\n",
      "2019/03/19  12:44            23,008 smallft.fon\n",
      "2017/08/25  16:52            63,196 SNAP____.TTF\n",
      "2019/03/19  12:44            69,232 ssee1255.fon\n",
      "2019/03/19  12:44            73,216 ssee1256.fon\n",
      "2019/03/19  12:44            65,456 ssee1257.fon\n",
      "2019/03/19  12:44            72,192 ssee874.fon\n",
      "2019/03/19  12:44            95,840 ssef1255.fon\n",
      "2019/03/19  12:44            67,328 ssef1256.fon\n",
      "2019/03/19  12:44            90,336 ssef1257.fon\n",
      "2019/03/19  12:44           102,400 ssef874.fon\n",
      "2019/03/19  12:44            64,656 sserife.fon\n",
      "2019/03/19  12:44            66,464 sserifee.fon\n",
      "2019/03/19  12:44            65,328 sserifeg.fon\n",
      "2019/03/19  12:44            68,848 sserifer.fon\n",
      "2019/03/19  12:44            64,400 sserifet.fon\n",
      "2019/03/19  12:44            89,856 sseriff.fon\n",
      "2019/03/19  12:44            92,032 sseriffe.fon\n",
      "2019/03/19  12:44            90,288 sseriffg.fon\n",
      "2019/03/19  12:44            98,256 sseriffr.fon\n",
      "2019/03/19  12:44            89,456 sserifft.fon\n",
      "2019/09/20  04:58        19,333,120 StaticCache.dat\n",
      "2017/08/25  16:52         5,673,836 STCAIYUN.TTF\n",
      "2017/08/25  16:52            55,596 STENCIL.TTF\n",
      "2017/08/25  16:52        11,362,788 STFANGSO.TTF\n",
      "2017/08/25  16:52         3,714,568 STHUPO.TTF\n",
      "2017/08/25  16:52        12,736,196 STKAITI.TTF\n",
      "2017/08/25  16:52         4,111,960 STLITI.TTF\n",
      "2017/08/25  16:52        11,697,600 STSONG.TTF\n",
      "2017/08/25  16:52         9,768,704 STXIHEI.TTF\n",
      "2017/08/25  16:52         4,016,288 STXINGKA.TTF\n",
      "2017/08/25  16:52         4,051,204 STXINWEI.TTF\n",
      "2017/08/25  16:52        12,135,284 STZHONGS.TTF\n",
      "2019/03/19  12:44             5,680 svgafix.fon\n",
      "2019/03/19  12:44            12,896 svgasys.fon\n",
      "2019/03/19  12:44           256,528 sylfaen.ttf\n",
      "2019/03/19  12:44            69,036 symbol.ttf\n",
      "2019/03/19  12:44           939,280 tahoma.ttf\n",
      "2019/03/19  12:44           867,988 tahomabd.ttf\n",
      "2019/03/19  12:44            67,568 taile.ttf\n",
      "2019/03/19  12:44            58,532 taileb.ttf\n",
      "2017/08/25  16:52            73,856 TCBI____.TTF\n",
      "2017/08/25  16:52            74,656 TCB_____.TTF\n",
      "2017/08/25  16:52            66,020 TCCB____.TTF\n",
      "2017/08/25  16:52            74,708 TCCEB.TTF\n",
      "2017/08/25  16:52            66,804 TCCM____.TTF\n",
      "2017/08/25  16:52            78,236 TCMI____.TTF\n",
      "2017/08/25  16:52            76,252 TCM_____.TTF\n",
      "2018/10/17  20:41             2,572 teamviewer14.otf\n",
      "2017/08/25  16:52            76,100 TEMPSITC.TTF\n",
      "2017/07/27  17:19         2,943,676 TI-Nspire.ttf\n",
      "2017/07/27  17:19         2,932,504 TI-NspireBd.ttf\n",
      "2017/07/27  17:19         2,959,604 TI-NspireBdIt.ttf\n",
      "2017/07/27  17:19         2,966,080 TI-NspireIt.ttf\n",
      "2019/03/19  12:44         1,195,688 times.ttf\n",
      "2019/03/19  12:44         1,175,904 timesbd.ttf\n",
      "2019/03/19  12:44           881,860 timesbi.ttf\n",
      "2019/03/19  12:44           940,288 timesi.ttf\n",
      "2017/07/27  17:19            77,560 TINspireKeys.ttf\n",
      "2017/07/27  17:19            69,000 TINspireKeysChinese.ttf\n",
      "2017/07/27  17:19            65,536 TINspireKeysCX.ttf\n",
      "2017/07/27  17:19            71,908 TINspireKeysTouch.ttf\n",
      "2017/07/27  17:19         2,917,200 TINSSaBD.TTF\n",
      "2017/07/27  17:19         2,949,116 TINSSaBI.TTF\n",
      "2017/07/27  17:19         2,951,824 TINSSaIT.TTF\n",
      "2017/07/27  17:19         2,921,136 TINSSaRG.TTF\n",
      "2019/03/19  12:44           254,396 trebuc.ttf\n",
      "2019/03/19  12:44           244,124 trebucbd.ttf\n",
      "2019/03/19  12:44           225,868 trebucbi.ttf\n",
      "2019/03/19  12:44           252,224 trebucit.ttf\n",
      "2019/03/19  12:44           243,304 verdana.ttf\n",
      "2019/03/19  12:44           211,260 verdanab.ttf\n",
      "2019/03/19  12:44           223,268 verdanai.ttf\n",
      "2019/03/19  12:44           229,800 verdanaz.ttf\n",
      "2019/03/19  12:44             5,168 vga737.fon\n",
      "2019/03/19  12:44             5,168 vga775.fon\n",
      "2019/03/19  12:44             5,232 vga850.fon\n",
      "2019/03/19  12:44             6,160 vga852.fon\n",
      "2019/03/19  12:44             5,120 vga855.fon\n",
      "2019/03/19  12:44             5,552 vga857.fon\n",
      "2019/03/19  12:44             5,184 vga860.fon\n",
      "2019/03/19  12:44             5,184 vga861.fon\n",
      "2019/03/19  12:44             5,200 vga863.fon\n",
      "2019/03/19  12:44             5,184 vga865.fon\n",
      "2019/03/19  12:44             6,128 vga866.fon\n",
      "2019/03/19  12:44             5,184 vga869.fon\n",
      "2019/03/19  12:44             7,232 vga932.fon\n",
      "2019/03/19  12:44             6,272 vga936.fon\n",
      "2019/03/19  12:44             6,304 vga949.fon\n",
      "2019/03/19  12:44             6,272 vga950.fon\n",
      "2019/03/19  12:44             5,952 vgaf1255.fon\n",
      "2019/03/19  12:44             6,528 vgaf1256.fon\n",
      "2019/03/19  12:44             5,376 vgaf1257.fon\n",
      "2019/03/19  12:44             7,168 vgaf874.fon\n",
      "2019/03/19  12:44             5,360 vgafix.fon\n",
      "2019/03/19  12:44             5,376 vgafixe.fon\n",
      "2019/03/19  12:44             6,112 vgafixg.fon\n",
      "2019/03/19  12:44             5,600 vgafixr.fon\n",
      "2019/03/19  12:44             6,112 vgafixt.fon\n",
      "2019/03/19  12:44             5,168 vgaoem.fon\n",
      "2019/03/19  12:44             7,104 vgas1255.fon\n",
      "2019/03/19  12:44             7,648 vgas1256.fon\n",
      "2019/03/19  12:44             6,656 vgas1257.fon\n",
      "2019/03/19  12:44             8,704 vgas874.fon\n",
      "2019/03/19  12:44             7,280 vgasys.fon\n",
      "2019/03/19  12:44             6,608 vgasyse.fon\n",
      "2019/03/19  12:44             7,008 vgasysg.fon\n",
      "2019/03/19  12:44             6,912 vgasysr.fon\n",
      "2019/03/19  12:44             6,912 vgasyst.fon\n",
      "2017/08/25  16:52           104,372 VINERITC.TTF\n",
      "2017/08/25  16:52            66,696 VIVALDII.TTF\n",
      "2017/08/25  16:52            54,308 VLADIMIR.TTF\n",
      "2019/03/19  12:44           120,560 webdings.ttf\n",
      "2019/03/19  12:44            82,180 wingding.ttf\n",
      "2017/08/25  16:52            65,788 WINGDNG2.TTF\n",
      "2017/08/25  16:52            35,328 WINGDNG3.TTF\n",
      "2019/09/20  04:58        14,540,508 YuGothB.ttc\n",
      "2019/09/20  04:58        13,823,480 YuGothL.ttc\n",
      "2019/09/20  04:57        13,757,772 YuGothM.ttc\n",
      "2019/09/20  04:58        13,692,944 YuGothR.ttc\n",
      "2015/03/17  06:34             6,800 ZWAdobeF.TTF\n",
      "             569 个文件    612,860,961 字节\n",
      "               0 个目录 740,237,307,904 可用字节\n"
     ]
    }
   ],
   "source": [
    "!dir"
   ]
  },
  {
   "cell_type": "code",
   "execution_count": 6,
   "metadata": {
    "ExecuteTime": {
     "end_time": "2019-10-12T08:12:29.584153Z",
     "start_time": "2019-10-12T08:12:29.577175Z"
    }
   },
   "outputs": [],
   "source": [
    "#!/usr/bin/python3\n",
    " \n",
    "import pymongo\n",
    " \n",
    "myclient = pymongo.MongoClient(\"mongodb://localhost:27017/\")\n",
    "mydb = myclient[\"runoobdb\"]"
   ]
  },
  {
   "cell_type": "code",
   "execution_count": 10,
   "metadata": {
    "ExecuteTime": {
     "end_time": "2019-10-12T10:54:41.416803Z",
     "start_time": "2019-10-12T10:54:41.404813Z"
    }
   },
   "outputs": [
    {
     "name": "stdout",
     "output_type": "stream",
     "text": [
      "数据库已存在！\n"
     ]
    }
   ],
   "source": [
    "#!/usr/bin/python3\n",
    " \n",
    "import pymongo\n",
    " \n",
    "myclient = pymongo.MongoClient('mongodb://localhost:27017/')\n",
    " \n",
    "dblist = myclient.list_database_names()\n",
    "# dblist = myclient.database_names() \n",
    "if \"runoob\" in dblist:\n",
    "  print(\"数据库已存在！\")"
   ]
  },
  {
   "cell_type": "code",
   "execution_count": 11,
   "metadata": {
    "ExecuteTime": {
     "end_time": "2019-10-12T10:55:06.182310Z",
     "start_time": "2019-10-12T10:55:06.175326Z"
    }
   },
   "outputs": [
    {
     "data": {
      "text/plain": [
       "['admin', 'config', 'local', 'runoob']"
      ]
     },
     "execution_count": 11,
     "metadata": {},
     "output_type": "execute_result"
    }
   ],
   "source": [
    "dblist\n"
   ]
  },
  {
   "cell_type": "markdown",
   "metadata": {},
   "source": [
    "# 增"
   ]
  },
  {
   "cell_type": "code",
   "execution_count": 16,
   "metadata": {
    "ExecuteTime": {
     "end_time": "2019-10-12T11:42:13.487655Z",
     "start_time": "2019-10-12T11:42:13.481672Z"
    }
   },
   "outputs": [
    {
     "name": "stdout",
     "output_type": "stream",
     "text": [
      "<pymongo.results.InsertOneResult object at 0x000001D5D4E7C608>\n",
      "<pymongo.results.InsertOneResult object at 0x000001D5D4E7C608>\n"
     ]
    }
   ],
   "source": [
    "mydb = myclient[\"runoob\"]\n",
    "mycol = mydb[\"object\"]\n",
    "mydict = {\"_id\":3,\"name\": \"七宝刀\", \"value\" :2}\n",
    " \n",
    "x = mycol.insert_one(mydict) \n",
    "print(x)\n",
    "print(x)"
   ]
  },
  {
   "cell_type": "code",
   "execution_count": 17,
   "metadata": {
    "ExecuteTime": {
     "end_time": "2019-10-12T11:43:58.395229Z",
     "start_time": "2019-10-12T11:43:58.379198Z"
    }
   },
   "outputs": [
    {
     "name": "stdout",
     "output_type": "stream",
     "text": [
      "[1, 2, 3, 4, 5]\n"
     ]
    }
   ],
   "source": [
    "mylist = [\n",
    "  { \"_id\": 1, \"name\": \"RUNOOB\", \"cn_name\": \"菜鸟教程\"},\n",
    "  { \"_id\": 2, \"name\": \"Google\", \"address\": \"Google 搜索\"},\n",
    "  { \"_id\": 3, \"name\": \"Facebook\", \"address\": \"脸书\"},\n",
    "  { \"_id\": 4, \"name\": \"Taobao\", \"address\": \"淘宝\"},\n",
    "  { \"_id\": 5, \"name\": \"Zhihu\", \"address\": \"知乎\"}\n",
    "]\n",
    " \n",
    "x = mycol.insert_many(mylist)\n",
    " \n",
    "# 输出插入的所有文档对应的 _id 值\n",
    "print(x.inserted_ids)"
   ]
  },
  {
   "cell_type": "code",
   "execution_count": 15,
   "metadata": {
    "ExecuteTime": {
     "end_time": "2019-10-12T11:41:19.068167Z",
     "start_time": "2019-10-12T11:41:19.063149Z"
    }
   },
   "outputs": [
    {
     "data": {
      "text/plain": [
       "ObjectId('5da1bb71b9b8a5b4c8374eb5')"
      ]
     },
     "execution_count": 15,
     "metadata": {},
     "output_type": "execute_result"
    }
   ],
   "source": [
    "x.inserted_id"
   ]
  },
  {
   "cell_type": "code",
   "execution_count": 13,
   "metadata": {
    "ExecuteTime": {
     "end_time": "2019-10-12T11:37:11.573457Z",
     "start_time": "2019-10-12T11:37:11.565482Z"
    }
   },
   "outputs": [
    {
     "data": {
      "text/plain": [
       "['runoob', 'object']"
      ]
     },
     "execution_count": 13,
     "metadata": {},
     "output_type": "execute_result"
    }
   ],
   "source": [
    "dblist = mydb.list_collection_names()\n",
    "dblist"
   ]
  },
  {
   "cell_type": "code",
   "execution_count": 7,
   "metadata": {
    "ExecuteTime": {
     "end_time": "2019-10-12T08:12:41.949482Z",
     "start_time": "2019-10-12T08:12:41.943472Z"
    }
   },
   "outputs": [],
   "source": [
    "collist = mydb. list_collection_names()\n",
    "# collist = mydb.collection_names()\n",
    "if \"sites\" in collist:   # 判断 sites 集合是否存在\n",
    "  print(\"集合已存在！\")"
   ]
  },
  {
   "cell_type": "code",
   "execution_count": 8,
   "metadata": {
    "ExecuteTime": {
     "end_time": "2019-10-12T08:12:56.002425Z",
     "start_time": "2019-10-12T08:12:55.992480Z"
    }
   },
   "outputs": [
    {
     "data": {
      "text/plain": [
       "[]"
      ]
     },
     "execution_count": 8,
     "metadata": {},
     "output_type": "execute_result"
    }
   ],
   "source": [
    "collist"
   ]
  },
  {
   "cell_type": "markdown",
   "metadata": {},
   "source": [
    "# 查"
   ]
  },
  {
   "cell_type": "code",
   "execution_count": 18,
   "metadata": {
    "ExecuteTime": {
     "end_time": "2019-10-12T11:48:45.058569Z",
     "start_time": "2019-10-12T11:48:45.052583Z"
    }
   },
   "outputs": [
    {
     "name": "stdout",
     "output_type": "stream",
     "text": [
      "{'_id': ObjectId('5da1b97c4cf5856444600ab1'), 'name': '青龙偃月刀', 'value': 3}\n"
     ]
    }
   ],
   "source": [
    "x = mycol.find_one()\n",
    " \n",
    "print(x)"
   ]
  },
  {
   "cell_type": "code",
   "execution_count": 19,
   "metadata": {
    "ExecuteTime": {
     "end_time": "2019-10-12T11:49:39.856561Z",
     "start_time": "2019-10-12T11:49:39.850577Z"
    }
   },
   "outputs": [
    {
     "name": "stdout",
     "output_type": "stream",
     "text": [
      "{'_id': ObjectId('5da1b97c4cf5856444600ab1'), 'name': '青龙偃月刀', 'value': 3}\n",
      "{'_id': ObjectId('5da1bb71b9b8a5b4c8374eb5'), 'name': '七宝刀', 'value': 2}\n",
      "{'_id': ObjectId('5da1bc15b9b8a5b4c8374eb6'), ' _id': 3, 'name': '七宝刀', 'value': 2}\n",
      "{'_id': 1, 'name': 'RUNOOB', 'cn_name': '菜鸟教程'}\n",
      "{'_id': 2, 'name': 'Google', 'address': 'Google 搜索'}\n",
      "{'_id': 3, 'name': 'Facebook', 'address': '脸书'}\n",
      "{'_id': 4, 'name': 'Taobao', 'address': '淘宝'}\n",
      "{'_id': 5, 'name': 'Zhihu', 'address': '知乎'}\n"
     ]
    }
   ],
   "source": [
    "for x in mycol.find():\n",
    "  print(x)"
   ]
  },
  {
   "cell_type": "code",
   "execution_count": 22,
   "metadata": {
    "ExecuteTime": {
     "end_time": "2019-10-12T11:53:11.689349Z",
     "start_time": "2019-10-12T11:53:11.683367Z"
    }
   },
   "outputs": [
    {
     "name": "stdout",
     "output_type": "stream",
     "text": [
      "{'_id': ObjectId('5da1b97c4cf5856444600ab1'), 'value': 3}\n",
      "{'_id': ObjectId('5da1bb71b9b8a5b4c8374eb5'), 'value': 2}\n",
      "{'_id': ObjectId('5da1bc15b9b8a5b4c8374eb6'), ' _id': 3, 'value': 2}\n",
      "{'_id': 1}\n",
      "{'_id': 2, 'address': 'Google 搜索'}\n",
      "{'_id': 3, 'address': '脸书'}\n",
      "{'_id': 4, 'address': '淘宝'}\n",
      "{'_id': 5, 'address': '知乎'}\n"
     ]
    }
   ],
   "source": [
    "for x in mycol.find({},{'name':0,\"cn_name\":0}):\n",
    "  print(x)"
   ]
  },
  {
   "cell_type": "code",
   "execution_count": 46,
   "metadata": {
    "ExecuteTime": {
     "end_time": "2019-10-12T15:10:14.539068Z",
     "start_time": "2019-10-12T15:10:14.532554Z"
    }
   },
   "outputs": [
    {
     "data": {
      "text/plain": [
       "True"
      ]
     },
     "execution_count": 46,
     "metadata": {},
     "output_type": "execute_result"
    }
   ],
   "source": [
    "myquery = { \"name\": \"七刀\" }\n",
    " \n",
    "mydoc = mycol.find_one(myquery)\n",
    "#mydoc[0]['value']\n",
    "mydoc==None"
   ]
  },
  {
   "cell_type": "markdown",
   "metadata": {},
   "source": [
    "## 大于小于"
   ]
  },
  {
   "cell_type": "code",
   "execution_count": 28,
   "metadata": {
    "ExecuteTime": {
     "end_time": "2019-10-12T11:56:03.643732Z",
     "start_time": "2019-10-12T11:56:03.636752Z"
    }
   },
   "outputs": [
    {
     "name": "stdout",
     "output_type": "stream",
     "text": [
      "{'_id': ObjectId('5da1b97c4cf5856444600ab1'), 'name': '青龙偃月刀', 'value': 3}\n",
      "{'_id': ObjectId('5da1bb71b9b8a5b4c8374eb5'), 'name': '七宝刀', 'value': 2}\n",
      "{'_id': ObjectId('5da1bc15b9b8a5b4c8374eb6'), ' _id': 3, 'name': '七宝刀', 'value': 2}\n"
     ]
    }
   ],
   "source": [
    "myquery = { \"value\": { \"$gt\": 1 } }\n",
    " \n",
    "mydoc = mycol.find(myquery)\n",
    " \n",
    "for x in mydoc:\n",
    "  print(x)"
   ]
  },
  {
   "cell_type": "markdown",
   "metadata": {
    "ExecuteTime": {
     "end_time": "2019-10-12T11:56:47.565586Z",
     "start_time": "2019-10-12T11:56:47.562600Z"
    }
   },
   "source": [
    "## 正则"
   ]
  },
  {
   "cell_type": "code",
   "execution_count": 30,
   "metadata": {
    "ExecuteTime": {
     "end_time": "2019-10-12T11:57:02.548574Z",
     "start_time": "2019-10-12T11:57:02.542570Z"
    }
   },
   "outputs": [
    {
     "name": "stdout",
     "output_type": "stream",
     "text": [
      "{'_id': ObjectId('5da1bb71b9b8a5b4c8374eb5'), 'name': '七宝刀', 'value': 2}\n",
      "{'_id': ObjectId('5da1bc15b9b8a5b4c8374eb6'), ' _id': 3, 'name': '七宝刀', 'value': 2}\n"
     ]
    }
   ],
   "source": [
    "myquery = { \"name\": { \"$regex\": \"^七\" } }\n",
    " \n",
    "mydoc = mycol.find(myquery)\n",
    " \n",
    "for x in mydoc:\n",
    "  print(x)"
   ]
  },
  {
   "cell_type": "markdown",
   "metadata": {},
   "source": [
    "## 指定条数"
   ]
  },
  {
   "cell_type": "code",
   "execution_count": 31,
   "metadata": {
    "ExecuteTime": {
     "end_time": "2019-10-12T11:58:48.136606Z",
     "start_time": "2019-10-12T11:58:48.130595Z"
    }
   },
   "outputs": [
    {
     "name": "stdout",
     "output_type": "stream",
     "text": [
      "{'_id': ObjectId('5da1b97c4cf5856444600ab1'), 'name': '青龙偃月刀', 'value': 3}\n",
      "{'_id': ObjectId('5da1bb71b9b8a5b4c8374eb5'), 'name': '七宝刀', 'value': 2}\n",
      "{'_id': ObjectId('5da1bc15b9b8a5b4c8374eb6'), ' _id': 3, 'name': '七宝刀', 'value': 2}\n"
     ]
    }
   ],
   "source": [
    "myresult = mycol.find().limit(3)\n",
    " \n",
    "# 输出结果\n",
    "for x in myresult:\n",
    "  print(x)"
   ]
  },
  {
   "cell_type": "code",
   "execution_count": 20,
   "metadata": {
    "ExecuteTime": {
     "end_time": "2019-10-12T11:50:21.614274Z",
     "start_time": "2019-10-12T11:50:21.608290Z"
    }
   },
   "outputs": [
    {
     "name": "stdout",
     "output_type": "stream",
     "text": [
      "{'name': '青龙偃月刀'}\n",
      "{'name': '七宝刀'}\n",
      "{'name': '七宝刀'}\n",
      "{'name': 'RUNOOB'}\n",
      "{'name': 'Google'}\n",
      "{'name': 'Facebook'}\n",
      "{'name': 'Taobao'}\n",
      "{'name': 'Zhihu'}\n"
     ]
    }
   ],
   "source": [
    "for x in mycol.find({},{ \"_id\": 0, \"name\": 1, \"alexa\": 1 }):\n",
    "  print(x)"
   ]
  },
  {
   "cell_type": "code",
   "execution_count": null,
   "metadata": {},
   "outputs": [],
   "source": []
  },
  {
   "cell_type": "code",
   "execution_count": null,
   "metadata": {},
   "outputs": [],
   "source": []
  },
  {
   "cell_type": "code",
   "execution_count": null,
   "metadata": {},
   "outputs": [],
   "source": []
  },
  {
   "cell_type": "markdown",
   "metadata": {},
   "source": [
    "# 改"
   ]
  },
  {
   "cell_type": "code",
   "execution_count": 32,
   "metadata": {
    "ExecuteTime": {
     "end_time": "2019-10-12T12:03:36.425641Z",
     "start_time": "2019-10-12T12:03:36.417662Z"
    }
   },
   "outputs": [
    {
     "name": "stdout",
     "output_type": "stream",
     "text": [
      "{'_id': ObjectId('5da1b97c4cf5856444600ab1'), 'name': '青龙偃月刀', 'value': 3}\n",
      "{'_id': ObjectId('5da1bb71b9b8a5b4c8374eb5'), 'name': '七宝刀', 'value': 2}\n",
      "{'_id': ObjectId('5da1bc15b9b8a5b4c8374eb6'), ' _id': 3, 'name': '七宝刀', 'value': 2}\n",
      "{'_id': 1, 'name': 'RUNOOB', 'cn_name': '菜鸟教程'}\n",
      "{'_id': 2, 'name': 'Google', 'address': 'Google 搜索'}\n",
      "{'_id': 3, 'name': 'Facebook', 'address': '脸书'}\n",
      "{'_id': 4, 'name': 'Taobao', 'address': '淘宝'}\n",
      "{'_id': 5, 'name': 'Zhihu', 'address': '知乎', 'cn_name': '知乎'}\n"
     ]
    }
   ],
   "source": [
    "myquery = { \"name\": \"Zhihu\" }\n",
    "newvalues = { \"$set\": { \"cn_name\": \"知乎\" } }\n",
    " \n",
    "mycol.update_one(myquery, newvalues)#匹配第一条\n",
    " \n",
    "# 输出修改后的  \"sites\"  集合\n",
    "for x in mycol.find():\n",
    "  print(x)"
   ]
  },
  {
   "cell_type": "code",
   "execution_count": 34,
   "metadata": {
    "ExecuteTime": {
     "end_time": "2019-10-12T12:05:31.915202Z",
     "start_time": "2019-10-12T12:05:31.909198Z"
    }
   },
   "outputs": [
    {
     "name": "stdout",
     "output_type": "stream",
     "text": [
      "1 文档已修改\n"
     ]
    }
   ],
   "source": [
    "myquery = { \"cn_name\": { \"$regex\": \"^知\" } }\n",
    "newvalues = { \"$set\": { \"name\": \"知乎啊\" } }\n",
    " \n",
    "x = mycol.update_many(myquery, newvalues)\n",
    " \n",
    "print(x.modified_count, \"文档已修改\")"
   ]
  },
  {
   "cell_type": "code",
   "execution_count": null,
   "metadata": {},
   "outputs": [],
   "source": []
  },
  {
   "cell_type": "code",
   "execution_count": null,
   "metadata": {},
   "outputs": [],
   "source": []
  },
  {
   "cell_type": "markdown",
   "metadata": {},
   "source": [
    "# 排"
   ]
  },
  {
   "cell_type": "code",
   "execution_count": 36,
   "metadata": {
    "ExecuteTime": {
     "end_time": "2019-10-12T12:06:29.867148Z",
     "start_time": "2019-10-12T12:06:29.860167Z"
    }
   },
   "outputs": [
    {
     "name": "stdout",
     "output_type": "stream",
     "text": [
      "{'_id': ObjectId('5da1b97c4cf5856444600ab1'), 'name': '青龙偃月刀', 'value': 3}\n",
      "{'_id': ObjectId('5da1bb71b9b8a5b4c8374eb5'), 'name': '七宝刀', 'value': 2}\n",
      "{'_id': ObjectId('5da1bc15b9b8a5b4c8374eb6'), ' _id': 3, 'name': '七宝刀', 'value': 2}\n",
      "{'_id': 1, 'name': 'RUNOOB', 'cn_name': '菜鸟教程'}\n",
      "{'_id': 2, 'name': 'Google', 'address': 'Google 搜索'}\n",
      "{'_id': 3, 'name': 'Facebook', 'address': '脸书'}\n",
      "{'_id': 4, 'name': 'Taobao', 'address': '淘宝'}\n",
      "{'_id': 5, 'name': '知乎啊', 'address': '知乎', 'cn_name': '知乎'}\n"
     ]
    }
   ],
   "source": [
    "mydoc = mycol.find().sort(\"value\",-1)\n",
    "for x in mydoc:\n",
    "  print(x)"
   ]
  },
  {
   "cell_type": "code",
   "execution_count": null,
   "metadata": {},
   "outputs": [],
   "source": []
  },
  {
   "cell_type": "code",
   "execution_count": null,
   "metadata": {},
   "outputs": [],
   "source": []
  },
  {
   "cell_type": "markdown",
   "metadata": {},
   "source": [
    "# 删"
   ]
  },
  {
   "cell_type": "code",
   "execution_count": 37,
   "metadata": {
    "ExecuteTime": {
     "end_time": "2019-10-12T12:06:48.131026Z",
     "start_time": "2019-10-12T12:06:48.125041Z"
    }
   },
   "outputs": [
    {
     "name": "stdout",
     "output_type": "stream",
     "text": [
      "{'_id': ObjectId('5da1b97c4cf5856444600ab1'), 'name': '青龙偃月刀', 'value': 3}\n",
      "{'_id': ObjectId('5da1bb71b9b8a5b4c8374eb5'), 'name': '七宝刀', 'value': 2}\n",
      "{'_id': ObjectId('5da1bc15b9b8a5b4c8374eb6'), ' _id': 3, 'name': '七宝刀', 'value': 2}\n",
      "{'_id': 1, 'name': 'RUNOOB', 'cn_name': '菜鸟教程'}\n",
      "{'_id': 2, 'name': 'Google', 'address': 'Google 搜索'}\n",
      "{'_id': 3, 'name': 'Facebook', 'address': '脸书'}\n",
      "{'_id': 5, 'name': '知乎啊', 'address': '知乎', 'cn_name': '知乎'}\n"
     ]
    }
   ],
   "source": [
    "myquery = { \"name\": \"Taobao\" }\n",
    " \n",
    "mycol.delete_one(myquery)\n",
    " \n",
    "# 删除后输出\n",
    "for x in mycol.find():\n",
    "  print(x)"
   ]
  },
  {
   "cell_type": "code",
   "execution_count": null,
   "metadata": {},
   "outputs": [],
   "source": [
    "myquery = { \"name\": {\"$regex\": \"^F\"} }\n",
    " \n",
    "x = mycol.delete_many(myquery)\n",
    " \n",
    "print(x.deleted_count, \"个文档已删除\")"
   ]
  },
  {
   "cell_type": "code",
   "execution_count": null,
   "metadata": {},
   "outputs": [],
   "source": [
    "x = mycol.delete_many({})\n",
    " \n",
    "print(x.deleted_count, \"个文档已删除\")\n",
    "\n",
    "########删除所有！！！！！！！！"
   ]
  },
  {
   "cell_type": "code",
   "execution_count": 38,
   "metadata": {
    "ExecuteTime": {
     "end_time": "2019-10-12T12:08:03.045905Z",
     "start_time": "2019-10-12T12:08:03.038925Z"
    }
   },
   "outputs": [],
   "source": [
    "mydb = myclient[\"runoobdb\"]\n",
    "mycol = mydb[\"sites\"]\n",
    "mycol.drop()\n",
    "#删除集合"
   ]
  },
  {
   "cell_type": "code",
   "execution_count": null,
   "metadata": {
    "ExecuteTime": {
     "start_time": "2019-10-13T02:25:54.991Z"
    }
   },
   "outputs": [
    {
     "name": "stdout",
     "output_type": "stream",
     "text": [
      " * Serving Flask app \"__main__\" (lazy loading)\n",
      " * Environment: production\n",
      "   WARNING: Do not use the development server in a production environment.\n",
      "   Use a production WSGI server instead.\n",
      " * Debug mode: off\n"
     ]
    },
    {
     "name": "stderr",
     "output_type": "stream",
     "text": [
      " * Running on http://127.0.0.1:5000/ (Press CTRL+C to quit)\n"
     ]
    }
   ],
   "source": [
    "from flask import Flask, request\n",
    " \n",
    "app = Flask(__name__)\n",
    " \n",
    "@app.route('/')\n",
    "def hello_world():\n",
    "    return 'hello world'\n",
    " \n",
    "@app.route('/register', methods=['POST'])\n",
    "def register():\n",
    "#     print request.headers\n",
    "#     print request.form\n",
    "#     print request.form['name']\n",
    "#     print request.form.get('name')\n",
    "#     print request.form.getlist('name')\n",
    "#     print request.form.get('nickname', default='little apple')\n",
    "    return 'welcome'\n",
    " \n",
    "if __name__ == '__main__':\n",
    "    app.run()"
   ]
  },
  {
   "cell_type": "code",
   "execution_count": null,
   "metadata": {
    "ExecuteTime": {
     "start_time": "2019-10-13T02:26:39.791Z"
    }
   },
   "outputs": [],
   "source": [
    "import requests\n",
    " \n",
    "user_info = {'name': 'letian', 'password': '123'}\n",
    "r = requests.post(\"http://127.0.0.1:5000/register\", data=user_info)\n",
    " \n",
    "print r.text"
   ]
  },
  {
   "cell_type": "markdown",
   "metadata": {},
   "source": [
    "# 测试"
   ]
  },
  {
   "cell_type": "code",
   "execution_count": 1,
   "metadata": {
    "ExecuteTime": {
     "end_time": "2019-10-13T04:24:33.574509Z",
     "start_time": "2019-10-13T04:24:33.195497Z"
    }
   },
   "outputs": [
    {
     "ename": "NameError",
     "evalue": "name 'username' is not defined",
     "output_type": "error",
     "traceback": [
      "\u001b[1;31m---------------------------------------------------------------------------\u001b[0m",
      "\u001b[1;31mNameError\u001b[0m                                 Traceback (most recent call last)",
      "\u001b[1;32m<ipython-input-1-7238e36164ea>\u001b[0m in \u001b[0;36m<module>\u001b[1;34m()\u001b[0m\n\u001b[0;32m     17\u001b[0m \u001b[0minfo\u001b[0m\u001b[1;33m=\u001b[0m\u001b[0mclient\u001b[0m\u001b[1;33m.\u001b[0m\u001b[0mgame\u001b[0m\u001b[1;33m.\u001b[0m\u001b[0minfo\u001b[0m\u001b[1;33m\u001b[0m\u001b[0m\n\u001b[0;32m     18\u001b[0m \u001b[0minfo\u001b[0m\u001b[1;33m.\u001b[0m\u001b[0mcreate_index\u001b[0m\u001b[1;33m(\u001b[0m\u001b[1;33m[\u001b[0m\u001b[1;33m(\u001b[0m\u001b[1;34m\"username\"\u001b[0m\u001b[1;33m,\u001b[0m \u001b[0mASCENDING\u001b[0m\u001b[1;33m)\u001b[0m\u001b[1;33m]\u001b[0m\u001b[1;33m,\u001b[0m \u001b[0munique\u001b[0m\u001b[1;33m=\u001b[0m\u001b[1;32mTrue\u001b[0m\u001b[1;33m)\u001b[0m\u001b[1;31m#按用户名建立索引\u001b[0m\u001b[1;33m\u001b[0m\u001b[0m\n\u001b[1;32m---> 19\u001b[1;33m \u001b[0minfo\u001b[0m\u001b[1;33m.\u001b[0m\u001b[0mfind_one\u001b[0m\u001b[1;33m(\u001b[0m\u001b[1;33m{\u001b[0m \u001b[1;34m\"name\"\u001b[0m\u001b[1;33m:\u001b[0m \u001b[0musername\u001b[0m\u001b[1;33m,\u001b[0m\u001b[1;34m'pwd'\u001b[0m\u001b[1;33m:\u001b[0m\u001b[0mpwd\u001b[0m \u001b[1;33m}\u001b[0m\u001b[1;33m)\u001b[0m\u001b[1;33m\u001b[0m\u001b[0m\n\u001b[0m",
      "\u001b[1;31mNameError\u001b[0m: name 'username' is not defined"
     ]
    }
   ],
   "source": [
    "from flask import Blueprint\n",
    "from flask import jsonify\n",
    "from flask import request\n",
    "from flask import redirect,session\n",
    "import sys\n",
    "from pymongo import MongoClient\n",
    "from pymongo.errors import DuplicateKeyError\n",
    "from pymongo import ASCENDING\n",
    "import hashlib\n",
    "\n",
    "client = MongoClient('localhost', 27017)\n",
    "user = client.game.user\n",
    "user.create_index([(\"name\", ASCENDING)], unique=True)\n",
    "#user name money treasure pocket lucky wear\n",
    "market = client.game.market\n",
    "treasure = client.game.treasure\n",
    "info=client.game.info\n",
    "info.create_index([(\"username\", ASCENDING)], unique=True)#按用户名建立索引\n",
    "info.find_one({ \"name\": username,'pwd':pwd })"
   ]
  }
 ],
 "metadata": {
  "kernelspec": {
   "display_name": "Python [conda env:root] *",
   "language": "python",
   "name": "conda-root-py"
  },
  "language_info": {
   "codemirror_mode": {
    "name": "ipython",
    "version": 3
   },
   "file_extension": ".py",
   "mimetype": "text/x-python",
   "name": "python",
   "nbconvert_exporter": "python",
   "pygments_lexer": "ipython3",
   "version": "3.7.0"
  },
  "latex_envs": {
   "LaTeX_envs_menu_present": true,
   "autoclose": false,
   "autocomplete": true,
   "bibliofile": "biblio.bib",
   "cite_by": "apalike",
   "current_citInitial": 1,
   "eqLabelWithNumbers": true,
   "eqNumInitial": 1,
   "hotkeys": {
    "equation": "Ctrl-E",
    "itemize": "Ctrl-I"
   },
   "labels_anchors": false,
   "latex_user_defs": false,
   "report_style_numbering": false,
   "user_envs_cfg": false
  },
  "nbTranslate": {
   "displayLangs": [
    "*"
   ],
   "hotkey": "alt-t",
   "langInMainMenu": true,
   "sourceLang": "en",
   "targetLang": "fr",
   "useGoogleTranslate": true
  },
  "toc": {
   "base_numbering": 1,
   "nav_menu": {},
   "number_sections": true,
   "sideBar": true,
   "skip_h1_title": false,
   "title_cell": "Table of Contents",
   "title_sidebar": "Contents",
   "toc_cell": false,
   "toc_position": {
    "height": "calc(100% - 180px)",
    "left": "10px",
    "top": "150px",
    "width": "384px"
   },
   "toc_section_display": true,
   "toc_window_display": true
  },
  "varInspector": {
   "cols": {
    "lenName": 16,
    "lenType": 16,
    "lenVar": 40
   },
   "kernels_config": {
    "python": {
     "delete_cmd_postfix": "",
     "delete_cmd_prefix": "del ",
     "library": "var_list.py",
     "varRefreshCmd": "print(var_dic_list())"
    },
    "r": {
     "delete_cmd_postfix": ") ",
     "delete_cmd_prefix": "rm(",
     "library": "var_list.r",
     "varRefreshCmd": "cat(var_dic_list()) "
    }
   },
   "position": {
    "height": "219.391px",
    "left": "-3px",
    "right": "20px",
    "top": "373px",
    "width": "350px"
   },
   "types_to_exclude": [
    "module",
    "function",
    "builtin_function_or_method",
    "instance",
    "_Feature"
   ],
   "window_display": true
  }
 },
 "nbformat": 4,
 "nbformat_minor": 2
}
