{
 "cells": [
  {
   "cell_type": "code",
   "execution_count": 2,
   "metadata": {
    "ExecuteTime": {
     "end_time": "2020-07-29T07:03:59.295709Z",
     "start_time": "2020-07-29T07:03:55.159880Z"
    },
    "pycharm": {
     "is_executing": false
    }
   },
   "outputs": [
    {
     "name": "stderr",
     "output_type": "stream",
     "text": [
      "C:\\ProgramData\\Anaconda3\\lib\\site-packages\\sklearn\\externals\\joblib\\__init__.py:15: FutureWarning: sklearn.externals.joblib is deprecated in 0.21 and will be removed in 0.23. Please import this functionality directly from joblib, which can be installed with: pip install joblib. If this warning is raised when loading pickled models, you may need to re-serialize those models with scikit-learn 0.21+.\n",
      "  warnings.warn(msg, category=FutureWarning)\n"
     ]
    }
   ],
   "source": [
    "import numpy as np\n",
    "import pandas as pd\n",
    "import matplotlib.pyplot as plt\n",
    "import seaborn as sns\n",
    "from sklearn.svm import SVR\n",
    "import pandas_profiling as pdpf\n",
    "from matplotlib.ticker import MultipleLocator\n",
    "from sklearn.externals import joblib\n",
    "from sklearn.model_selection import GridSearchCV\n",
    "from statsmodels.formula.api import ols\n",
    "from sklearn import preprocessing\n",
    "from sklearn.model_selection import train_test_split\n",
    "from xgboost import XGBClassifier\n",
    "from sklearn import datasets\n",
    "from sklearn.metrics import accuracy_score\n",
    "from xgboost import plot_importance"
   ]
  },
  {
   "cell_type": "code",
   "execution_count": 3,
   "metadata": {
    "ExecuteTime": {
     "end_time": "2020-07-29T07:03:59.370511Z",
     "start_time": "2020-07-29T07:03:59.297704Z"
    },
    "pycharm": {
     "is_executing": false,
     "name": "#%%\n"
    }
   },
   "outputs": [
    {
     "ename": "FileNotFoundError",
     "evalue": "[Errno 2] File C:\\DOCUMENTS and FILES\\vgsales-12-4-2019-original.csv does not exist: 'C:\\\\DOCUMENTS and FILES\\\\vgsales-12-4-2019-original.csv'",
     "output_type": "error",
     "traceback": [
      "\u001b[1;31m---------------------------------------------------------------------------\u001b[0m",
      "\u001b[1;31mFileNotFoundError\u001b[0m                         Traceback (most recent call last)",
      "\u001b[1;32m<ipython-input-3-280f07bf5850>\u001b[0m in \u001b[0;36m<module>\u001b[1;34m()\u001b[0m\n\u001b[0;32m      1\u001b[0m \u001b[0mpd\u001b[0m\u001b[1;33m.\u001b[0m\u001b[0moptions\u001b[0m\u001b[1;33m.\u001b[0m\u001b[0mdisplay\u001b[0m\u001b[1;33m.\u001b[0m\u001b[0mmax_columns\u001b[0m\u001b[1;33m=\u001b[0m\u001b[1;36m10\u001b[0m\u001b[1;33m\u001b[0m\u001b[0m\n\u001b[0;32m      2\u001b[0m \u001b[0mpd\u001b[0m\u001b[1;33m.\u001b[0m\u001b[0moptions\u001b[0m\u001b[1;33m.\u001b[0m\u001b[0mdisplay\u001b[0m\u001b[1;33m.\u001b[0m\u001b[0mmax_columns\u001b[0m\u001b[1;33m=\u001b[0m\u001b[1;32mNone\u001b[0m\u001b[1;33m\u001b[0m\u001b[0m\n\u001b[1;32m----> 3\u001b[1;33m \u001b[0moriginal_data\u001b[0m\u001b[1;33m=\u001b[0m\u001b[0mpd\u001b[0m\u001b[1;33m.\u001b[0m\u001b[0mread_csv\u001b[0m\u001b[1;33m(\u001b[0m\u001b[1;34mr'C:\\DOCUMENTS and FILES\\vgsales-12-4-2019-original.csv'\u001b[0m\u001b[1;33m)\u001b[0m\u001b[1;31m#原始数据\u001b[0m\u001b[1;33m\u001b[0m\u001b[0m\n\u001b[0m\u001b[0;32m      4\u001b[0m \u001b[0moriginal_data\u001b[0m\u001b[1;33m.\u001b[0m\u001b[0mcolumns\u001b[0m \u001b[1;31m#Index(['Rank', 'Name', 'basename', 'Genre', 'ESRB_Rating', 'Platform',\u001b[0m\u001b[1;33m\u001b[0m\u001b[0m\n\u001b[0;32m      5\u001b[0m                       \u001b[1;31m#'Publisher', 'Developer', 'VGChartz_Score', 'Critic_Score',\u001b[0m\u001b[1;33m\u001b[0m\u001b[1;33m\u001b[0m\u001b[0m\n",
      "\u001b[1;32mC:\\ProgramData\\Anaconda3\\lib\\site-packages\\pandas\\io\\parsers.py\u001b[0m in \u001b[0;36mparser_f\u001b[1;34m(filepath_or_buffer, sep, delimiter, header, names, index_col, usecols, squeeze, prefix, mangle_dupe_cols, dtype, engine, converters, true_values, false_values, skipinitialspace, skiprows, skipfooter, nrows, na_values, keep_default_na, na_filter, verbose, skip_blank_lines, parse_dates, infer_datetime_format, keep_date_col, date_parser, dayfirst, cache_dates, iterator, chunksize, compression, thousands, decimal, lineterminator, quotechar, quoting, doublequote, escapechar, comment, encoding, dialect, error_bad_lines, warn_bad_lines, delim_whitespace, low_memory, memory_map, float_precision)\u001b[0m\n\u001b[0;32m    674\u001b[0m         )\n\u001b[0;32m    675\u001b[0m \u001b[1;33m\u001b[0m\u001b[0m\n\u001b[1;32m--> 676\u001b[1;33m         \u001b[1;32mreturn\u001b[0m \u001b[0m_read\u001b[0m\u001b[1;33m(\u001b[0m\u001b[0mfilepath_or_buffer\u001b[0m\u001b[1;33m,\u001b[0m \u001b[0mkwds\u001b[0m\u001b[1;33m)\u001b[0m\u001b[1;33m\u001b[0m\u001b[0m\n\u001b[0m\u001b[0;32m    677\u001b[0m \u001b[1;33m\u001b[0m\u001b[0m\n\u001b[0;32m    678\u001b[0m     \u001b[0mparser_f\u001b[0m\u001b[1;33m.\u001b[0m\u001b[0m__name__\u001b[0m \u001b[1;33m=\u001b[0m \u001b[0mname\u001b[0m\u001b[1;33m\u001b[0m\u001b[0m\n",
      "\u001b[1;32mC:\\ProgramData\\Anaconda3\\lib\\site-packages\\pandas\\io\\parsers.py\u001b[0m in \u001b[0;36m_read\u001b[1;34m(filepath_or_buffer, kwds)\u001b[0m\n\u001b[0;32m    446\u001b[0m \u001b[1;33m\u001b[0m\u001b[0m\n\u001b[0;32m    447\u001b[0m     \u001b[1;31m# Create the parser.\u001b[0m\u001b[1;33m\u001b[0m\u001b[1;33m\u001b[0m\u001b[0m\n\u001b[1;32m--> 448\u001b[1;33m     \u001b[0mparser\u001b[0m \u001b[1;33m=\u001b[0m \u001b[0mTextFileReader\u001b[0m\u001b[1;33m(\u001b[0m\u001b[0mfp_or_buf\u001b[0m\u001b[1;33m,\u001b[0m \u001b[1;33m**\u001b[0m\u001b[0mkwds\u001b[0m\u001b[1;33m)\u001b[0m\u001b[1;33m\u001b[0m\u001b[0m\n\u001b[0m\u001b[0;32m    449\u001b[0m \u001b[1;33m\u001b[0m\u001b[0m\n\u001b[0;32m    450\u001b[0m     \u001b[1;32mif\u001b[0m \u001b[0mchunksize\u001b[0m \u001b[1;32mor\u001b[0m \u001b[0miterator\u001b[0m\u001b[1;33m:\u001b[0m\u001b[1;33m\u001b[0m\u001b[0m\n",
      "\u001b[1;32mC:\\ProgramData\\Anaconda3\\lib\\site-packages\\pandas\\io\\parsers.py\u001b[0m in \u001b[0;36m__init__\u001b[1;34m(self, f, engine, **kwds)\u001b[0m\n\u001b[0;32m    878\u001b[0m             \u001b[0mself\u001b[0m\u001b[1;33m.\u001b[0m\u001b[0moptions\u001b[0m\u001b[1;33m[\u001b[0m\u001b[1;34m\"has_index_names\"\u001b[0m\u001b[1;33m]\u001b[0m \u001b[1;33m=\u001b[0m \u001b[0mkwds\u001b[0m\u001b[1;33m[\u001b[0m\u001b[1;34m\"has_index_names\"\u001b[0m\u001b[1;33m]\u001b[0m\u001b[1;33m\u001b[0m\u001b[0m\n\u001b[0;32m    879\u001b[0m \u001b[1;33m\u001b[0m\u001b[0m\n\u001b[1;32m--> 880\u001b[1;33m         \u001b[0mself\u001b[0m\u001b[1;33m.\u001b[0m\u001b[0m_make_engine\u001b[0m\u001b[1;33m(\u001b[0m\u001b[0mself\u001b[0m\u001b[1;33m.\u001b[0m\u001b[0mengine\u001b[0m\u001b[1;33m)\u001b[0m\u001b[1;33m\u001b[0m\u001b[0m\n\u001b[0m\u001b[0;32m    881\u001b[0m \u001b[1;33m\u001b[0m\u001b[0m\n\u001b[0;32m    882\u001b[0m     \u001b[1;32mdef\u001b[0m \u001b[0mclose\u001b[0m\u001b[1;33m(\u001b[0m\u001b[0mself\u001b[0m\u001b[1;33m)\u001b[0m\u001b[1;33m:\u001b[0m\u001b[1;33m\u001b[0m\u001b[0m\n",
      "\u001b[1;32mC:\\ProgramData\\Anaconda3\\lib\\site-packages\\pandas\\io\\parsers.py\u001b[0m in \u001b[0;36m_make_engine\u001b[1;34m(self, engine)\u001b[0m\n\u001b[0;32m   1112\u001b[0m     \u001b[1;32mdef\u001b[0m \u001b[0m_make_engine\u001b[0m\u001b[1;33m(\u001b[0m\u001b[0mself\u001b[0m\u001b[1;33m,\u001b[0m \u001b[0mengine\u001b[0m\u001b[1;33m=\u001b[0m\u001b[1;34m\"c\"\u001b[0m\u001b[1;33m)\u001b[0m\u001b[1;33m:\u001b[0m\u001b[1;33m\u001b[0m\u001b[0m\n\u001b[0;32m   1113\u001b[0m         \u001b[1;32mif\u001b[0m \u001b[0mengine\u001b[0m \u001b[1;33m==\u001b[0m \u001b[1;34m\"c\"\u001b[0m\u001b[1;33m:\u001b[0m\u001b[1;33m\u001b[0m\u001b[0m\n\u001b[1;32m-> 1114\u001b[1;33m             \u001b[0mself\u001b[0m\u001b[1;33m.\u001b[0m\u001b[0m_engine\u001b[0m \u001b[1;33m=\u001b[0m \u001b[0mCParserWrapper\u001b[0m\u001b[1;33m(\u001b[0m\u001b[0mself\u001b[0m\u001b[1;33m.\u001b[0m\u001b[0mf\u001b[0m\u001b[1;33m,\u001b[0m \u001b[1;33m**\u001b[0m\u001b[0mself\u001b[0m\u001b[1;33m.\u001b[0m\u001b[0moptions\u001b[0m\u001b[1;33m)\u001b[0m\u001b[1;33m\u001b[0m\u001b[0m\n\u001b[0m\u001b[0;32m   1115\u001b[0m         \u001b[1;32melse\u001b[0m\u001b[1;33m:\u001b[0m\u001b[1;33m\u001b[0m\u001b[0m\n\u001b[0;32m   1116\u001b[0m             \u001b[1;32mif\u001b[0m \u001b[0mengine\u001b[0m \u001b[1;33m==\u001b[0m \u001b[1;34m\"python\"\u001b[0m\u001b[1;33m:\u001b[0m\u001b[1;33m\u001b[0m\u001b[0m\n",
      "\u001b[1;32mC:\\ProgramData\\Anaconda3\\lib\\site-packages\\pandas\\io\\parsers.py\u001b[0m in \u001b[0;36m__init__\u001b[1;34m(self, src, **kwds)\u001b[0m\n\u001b[0;32m   1889\u001b[0m         \u001b[0mkwds\u001b[0m\u001b[1;33m[\u001b[0m\u001b[1;34m\"usecols\"\u001b[0m\u001b[1;33m]\u001b[0m \u001b[1;33m=\u001b[0m \u001b[0mself\u001b[0m\u001b[1;33m.\u001b[0m\u001b[0musecols\u001b[0m\u001b[1;33m\u001b[0m\u001b[0m\n\u001b[0;32m   1890\u001b[0m \u001b[1;33m\u001b[0m\u001b[0m\n\u001b[1;32m-> 1891\u001b[1;33m         \u001b[0mself\u001b[0m\u001b[1;33m.\u001b[0m\u001b[0m_reader\u001b[0m \u001b[1;33m=\u001b[0m \u001b[0mparsers\u001b[0m\u001b[1;33m.\u001b[0m\u001b[0mTextReader\u001b[0m\u001b[1;33m(\u001b[0m\u001b[0msrc\u001b[0m\u001b[1;33m,\u001b[0m \u001b[1;33m**\u001b[0m\u001b[0mkwds\u001b[0m\u001b[1;33m)\u001b[0m\u001b[1;33m\u001b[0m\u001b[0m\n\u001b[0m\u001b[0;32m   1892\u001b[0m         \u001b[0mself\u001b[0m\u001b[1;33m.\u001b[0m\u001b[0munnamed_cols\u001b[0m \u001b[1;33m=\u001b[0m \u001b[0mself\u001b[0m\u001b[1;33m.\u001b[0m\u001b[0m_reader\u001b[0m\u001b[1;33m.\u001b[0m\u001b[0munnamed_cols\u001b[0m\u001b[1;33m\u001b[0m\u001b[0m\n\u001b[0;32m   1893\u001b[0m \u001b[1;33m\u001b[0m\u001b[0m\n",
      "\u001b[1;32mpandas\\_libs\\parsers.pyx\u001b[0m in \u001b[0;36mpandas._libs.parsers.TextReader.__cinit__\u001b[1;34m()\u001b[0m\n",
      "\u001b[1;32mpandas\\_libs\\parsers.pyx\u001b[0m in \u001b[0;36mpandas._libs.parsers.TextReader._setup_parser_source\u001b[1;34m()\u001b[0m\n",
      "\u001b[1;31mFileNotFoundError\u001b[0m: [Errno 2] File C:\\DOCUMENTS and FILES\\vgsales-12-4-2019-original.csv does not exist: 'C:\\\\DOCUMENTS and FILES\\\\vgsales-12-4-2019-original.csv'"
     ]
    }
   ],
   "source": [
    "pd.options.display.max_columns=10\n",
    "pd.options.display.max_columns=None\n",
    "original_data=pd.read_csv(r'C:\\DOCUMENTS and FILES\\vgsales-12-4-2019-original.csv')#原始数据\n",
    "original_data.columns #Index(['Rank', 'Name', 'basename', 'Genre', 'ESRB_Rating', 'Platform',\n",
    "                      #'Publisher', 'Developer', 'VGChartz_Score', 'Critic_Score',\n",
    "                      #'User_Score', 'Total_Shipped', 'Global_Sales', 'NA_Sales', 'PAL_Sales',\n",
    "                      #'JP_Sales', 'Other_Sales', 'Year', 'Last_Update', 'url', 'status',\n",
    "                      #'Vgchartzscore', 'img_url'],\n",
    "                      #dtype='object')\n",
    "data_filled=original_data.copy()\n",
    "data_filled.insert(11,'Total',None)\n",
    "data_filled['Total']=data_filled['Total_Shipped']\n",
    "data_filled['Global_Sales'].fillna(0,inplace=True);data_filled['NA_Sales'].fillna(0,inplace=True)\n",
    "data_filled['PAL_Sales'].fillna(0,inplace=True);data_filled['JP_Sales'].fillna(0,inplace=True)\n",
    "data_filled['Other_Sales'].fillna(0,inplace=True)\n",
    "\n",
    "data_filled['Total'].fillna(data_filled['Global_Sales']+data_filled['NA_Sales']\n",
    "                            +data_filled['PAL_Sales']+data_filled['JP_Sales']+data_filled['Other_Sales'],inplace=True)\n",
    "#创建新一列：总销售额\n",
    "print('done1')"
   ]
  },
  {
   "cell_type": "code",
   "execution_count": 138,
   "metadata": {
    "pycharm": {
     "is_executing": false,
     "name": "#%%\n"
    }
   },
   "outputs": [
    {
     "name": "stdout",
     "output_type": "stream",
     "text": [
      "done2\n"
     ]
    }
   ],
   "source": [
    "data_filled_dropped_once=data_filled.drop(['basename','Last_Update','url','status','img_url','VGChartz_Score'],axis=1)\n",
    "#删除意义不大的列\n",
    "data_filled_dropped_twice=data_filled_dropped_once.drop(['Global_Sales', 'NA_Sales', 'PAL_Sales','JP_Sales', 'Other_Sales','Total_Shipped'],axis=1)\n",
    "data_filled_dropped_twice.rename(columns={'Total':'total_sales','Vgchartzscore':'Vgchartz_score'},inplace=True)#重命名列\n",
    "#进一步删除不需要的列，总销量存储在一列中\n",
    "data_filled_dropped_twice.to_csv(r'C:\\DOCUMENTS and FILES\\data_filled_dropped_twice.csv')\n",
    "print('done2')"
   ]
  },
  {
   "cell_type": "code",
   "execution_count": null,
   "metadata": {},
   "outputs": [],
   "source": []
  },
  {
   "cell_type": "code",
   "execution_count": 139,
   "metadata": {
    "pycharm": {
     "is_executing": false,
     "name": "#%%\n"
    }
   },
   "outputs": [
    {
     "name": "stdout",
     "output_type": "stream",
     "text": [
      "done 0\n"
     ]
    }
   ],
   "source": [
    "hint =0\n",
    "data_refined=data_filled_dropped_twice.copy()\n",
    "data_refined.columns    #['Rank', 'Name', 'Genre', 'Platform', 'Publisher', 'Developer',\n",
    "                        #'Critic_Score', 'User_Score', 'total_sales', 'Year',\n",
    "                        #'Vgchartz_score']\n",
    "\n",
    "data_refined.sort_values(by=['total_sales'],inplace=True,ascending=False)\n",
    "data_refined.loc[data_refined['Year']<1960,'Year']=data_refined.Year+900\n",
    "#将原来年份错误的数据修正\n",
    "data_refined.to_csv(r'C:\\DOCUMENTS and FILES\\data_refined.csv')\n",
    "print('done',hint);hint =hint + 1\n",
    "\n",
    "data_no_zero_sales=data_refined.copy()\n",
    "#data_no_zero_sales['total_sales'].replace(0,np.nan,inplace=True)\n",
    "#data_no_zero_sales['total_sales'].dropna(inplace=True)\n",
    "data_no_zero_sales=data_no_zero_sales[~data_no_zero_sales['total_sales'].isin([0])]\n",
    "#删除销量为0的行\n",
    "data_no_zero_sales.to_csv(r'C:\\DOCUMENTS and FILES\\data_no_zero_sales.csv')"
   ]
  },
  {
   "cell_type": "code",
   "execution_count": 140,
   "metadata": {
    "pycharm": {
     "is_executing": false,
     "name": "#%%\n"
    }
   },
   "outputs": [],
   "source": [
    "# all_platform=[]\n",
    "# for x in data_no_zero_sales.Platform:\n",
    "#     all_platform.extend(x.split())\n",
    "# platforms=pd.unique(all_platform)\n",
    "# #platforms   #['Wii', 'PS3', 'NES', 'PS4', 'PC', 'PS2', 'X360', 'GB', 'DS',\n",
    "#             #'SNES', '3DS', 'XOne', 'GBA', 'PSP', 'PS', 'NS', 'GEN', 'N64',\n",
    "#             #'2600', 'WiiU', 'XB', 'GC', 'GBC', 'PSN', 'PSV', 'DC', 'SAT',\n",
    "#             #'SCD', 'WS', 'VC', 'XBL', 'NG', 'WW', 'Amig', 'PCE', '3DO', 'GG',\n",
    "#             #'OSX', 'PCFX', 'Mob']"
   ]
  },
  {
   "cell_type": "code",
   "execution_count": 141,
   "metadata": {
    "pycharm": {
     "is_executing": false,
     "name": "#%%\n"
    }
   },
   "outputs": [
    {
     "name": "stdout",
     "output_type": "stream",
     "text": [
      "done\n"
     ]
    }
   ],
   "source": [
    "data_no_minority=data_no_zero_sales.copy()\n",
    "#data_no_minority.groupby(['Name'])['total_sales'].sum().reset_index()\n",
    "hint =0\n",
    "for index in data_no_minority[:3000].index:\n",
    "    for index2 in data_no_minority[:3000].index:\n",
    "        if data_no_minority.loc[index,'Name']==data_no_minority.loc[index2,'Name'] and data_no_minority.loc[index,'Rank']!=data_no_minority.loc[index2,'Rank']:\n",
    "            if index<index2:\n",
    "               if data_no_minority.loc[index2,'Platform'] not in data_no_minority.loc[index,'Platform']:\n",
    "                data_no_minority.loc[index,'total_sales']+=data_no_minority.loc[index2,'total_sales']\n",
    "                data_no_minority.loc[index,'Platform']+=','+data_no_minority.loc[index2,'Platform']\n",
    "#把各平台销量组合起来；取3000是综合运行时间和实际数据情况，3000以后基本没有重复游戏,取太多则时间不合理；不知是否有更好做法\n",
    "data_no_minority.to_csv(r'C:\\DOCUMENTS and FILES\\data_no_minority.csv')\n",
    "#data_no_minority.to_csv(r'C:\\DOCUMENTS and FILES\\temp1.csv')\n",
    "print('done')"
   ]
  },
  {
   "cell_type": "code",
   "execution_count": 142,
   "metadata": {
    "pycharm": {
     "is_executing": false,
     "name": "#%%\n"
    }
   },
   "outputs": [
    {
     "name": "stdout",
     "output_type": "stream",
     "text": [
      "done\n"
     ]
    }
   ],
   "source": [
    "#data_no_minority=pd.read_csv(r'C:\\DOCUMENTS and FILES\\data_no_minority.csv',index_col=0)\n",
    "data_refined_twice=data_no_minority.copy()        \n",
    "for index in data_refined_twice[:3000].index:\n",
    "    for index2 in data_refined_twice[:3000].index:\n",
    "        if data_refined_twice.loc[index,'Name']==data_refined_twice.loc[index2,'Name'] and data_refined_twice.loc[index,'Rank']!=data_refined_twice.loc[index2,'Rank']:\n",
    "            if index<index2:\n",
    "               data_refined_twice.loc[index2,'total_sales']=0\n",
    "\n",
    "data_refined_twice=data_refined_twice[~data_refined_twice['total_sales'].isin([0])]\n",
    "data_refined_twice.to_csv(r'C:\\DOCUMENTS and FILES\\data_refined_twice.csv')\n",
    "#data_refined_twice.to_csv(r'C:\\DOCUMENTS and FILES\\temp2.csv')\n",
    "print('done')\n",
    "#删掉重复项"
   ]
  },
  {
   "cell_type": "code",
   "execution_count": 143,
   "metadata": {
    "pycharm": {
     "is_executing": false,
     "name": "#%%\n"
    }
   },
   "outputs": [
    {
     "name": "stdout",
     "output_type": "stream",
     "text": [
      "done\n"
     ]
    },
    {
     "data": {
      "text/html": [
       "<div>\n",
       "<style scoped>\n",
       "    .dataframe tbody tr th:only-of-type {\n",
       "        vertical-align: middle;\n",
       "    }\n",
       "\n",
       "    .dataframe tbody tr th {\n",
       "        vertical-align: top;\n",
       "    }\n",
       "\n",
       "    .dataframe thead th {\n",
       "        text-align: right;\n",
       "    }\n",
       "</style>\n",
       "<table border=\"1\" class=\"dataframe\">\n",
       "  <thead>\n",
       "    <tr style=\"text-align: right;\">\n",
       "      <th></th>\n",
       "      <th>Rank</th>\n",
       "      <th>Name</th>\n",
       "      <th>Genre</th>\n",
       "      <th>ESRB_Rating</th>\n",
       "      <th>Platform</th>\n",
       "      <th>Publisher</th>\n",
       "      <th>Developer</th>\n",
       "      <th>Critic_Score</th>\n",
       "      <th>User_Score</th>\n",
       "      <th>total_sales</th>\n",
       "      <th>Year</th>\n",
       "      <th>Vgchartz_score</th>\n",
       "    </tr>\n",
       "  </thead>\n",
       "  <tbody>\n",
       "    <tr>\n",
       "      <td>19</td>\n",
       "      <td>20</td>\n",
       "      <td>Grand Theft Auto V</td>\n",
       "      <td>Action</td>\n",
       "      <td>M</td>\n",
       "      <td>PS3,PS4,X360,XOne,PC</td>\n",
       "      <td>Rockstar Games</td>\n",
       "      <td>Rockstar North</td>\n",
       "      <td>9.4</td>\n",
       "      <td>NaN</td>\n",
       "      <td>141.20</td>\n",
       "      <td>2013.0</td>\n",
       "      <td>NaN</td>\n",
       "    </tr>\n",
       "    <tr>\n",
       "      <td>9</td>\n",
       "      <td>10</td>\n",
       "      <td>Minecraft</td>\n",
       "      <td>Misc</td>\n",
       "      <td>NaN</td>\n",
       "      <td>PC,X360,PS4,PS3,XOne,PSV,NS,WiiU</td>\n",
       "      <td>Mojang</td>\n",
       "      <td>Mojang AB</td>\n",
       "      <td>10.0</td>\n",
       "      <td>NaN</td>\n",
       "      <td>90.29</td>\n",
       "      <td>2010.0</td>\n",
       "      <td>NaN</td>\n",
       "    </tr>\n",
       "    <tr>\n",
       "      <td>0</td>\n",
       "      <td>1</td>\n",
       "      <td>Wii Sports</td>\n",
       "      <td>Sports</td>\n",
       "      <td>E</td>\n",
       "      <td>Wii</td>\n",
       "      <td>Nintendo</td>\n",
       "      <td>Nintendo EAD</td>\n",
       "      <td>7.7</td>\n",
       "      <td>NaN</td>\n",
       "      <td>82.86</td>\n",
       "      <td>2006.0</td>\n",
       "      <td>NaN</td>\n",
       "    </tr>\n",
       "    <tr>\n",
       "      <td>40</td>\n",
       "      <td>41</td>\n",
       "      <td>Call of Duty: Modern Warfare 3</td>\n",
       "      <td>Shooter</td>\n",
       "      <td>M</td>\n",
       "      <td>X360,PS3,PC,Wii</td>\n",
       "      <td>Activision</td>\n",
       "      <td>Infinity Ward</td>\n",
       "      <td>8.7</td>\n",
       "      <td>NaN</td>\n",
       "      <td>61.42</td>\n",
       "      <td>2011.0</td>\n",
       "      <td>NaN</td>\n",
       "    </tr>\n",
       "    <tr>\n",
       "      <td>41</td>\n",
       "      <td>42</td>\n",
       "      <td>Call of Duty: Black Ops</td>\n",
       "      <td>Shooter</td>\n",
       "      <td>M</td>\n",
       "      <td>X360,PS3,PC,Wii</td>\n",
       "      <td>Activision</td>\n",
       "      <td>Treyarch</td>\n",
       "      <td>8.8</td>\n",
       "      <td>NaN</td>\n",
       "      <td>60.82</td>\n",
       "      <td>2010.0</td>\n",
       "      <td>NaN</td>\n",
       "    </tr>\n",
       "    <tr>\n",
       "      <td>...</td>\n",
       "      <td>...</td>\n",
       "      <td>...</td>\n",
       "      <td>...</td>\n",
       "      <td>...</td>\n",
       "      <td>...</td>\n",
       "      <td>...</td>\n",
       "      <td>...</td>\n",
       "      <td>...</td>\n",
       "      <td>...</td>\n",
       "      <td>...</td>\n",
       "      <td>...</td>\n",
       "      <td>...</td>\n",
       "    </tr>\n",
       "    <tr>\n",
       "      <td>19766</td>\n",
       "      <td>19767</td>\n",
       "      <td>Deep Black</td>\n",
       "      <td>Shooter</td>\n",
       "      <td>RP</td>\n",
       "      <td>PC</td>\n",
       "      <td>505 Games</td>\n",
       "      <td>BiArt Studios</td>\n",
       "      <td>NaN</td>\n",
       "      <td>NaN</td>\n",
       "      <td>0.01</td>\n",
       "      <td>1970.0</td>\n",
       "      <td>NaN</td>\n",
       "    </tr>\n",
       "    <tr>\n",
       "      <td>19765</td>\n",
       "      <td>19766</td>\n",
       "      <td>Kidz Sports: Ice Hockey</td>\n",
       "      <td>Sports</td>\n",
       "      <td>E</td>\n",
       "      <td>Wii</td>\n",
       "      <td>Bold Games</td>\n",
       "      <td>Data Design Interactive</td>\n",
       "      <td>NaN</td>\n",
       "      <td>NaN</td>\n",
       "      <td>0.01</td>\n",
       "      <td>2008.0</td>\n",
       "      <td>NaN</td>\n",
       "    </tr>\n",
       "    <tr>\n",
       "      <td>19759</td>\n",
       "      <td>19760</td>\n",
       "      <td>Buzz! Quiz World</td>\n",
       "      <td>Misc</td>\n",
       "      <td>NaN</td>\n",
       "      <td>PSP</td>\n",
       "      <td>Sony Computer Entertainment</td>\n",
       "      <td>Relentless Software</td>\n",
       "      <td>5.9</td>\n",
       "      <td>NaN</td>\n",
       "      <td>0.01</td>\n",
       "      <td>2009.0</td>\n",
       "      <td>NaN</td>\n",
       "    </tr>\n",
       "    <tr>\n",
       "      <td>19820</td>\n",
       "      <td>19821</td>\n",
       "      <td>Challenge Me: Word Puzzles</td>\n",
       "      <td>Puzzle</td>\n",
       "      <td>E10</td>\n",
       "      <td>PC</td>\n",
       "      <td>O-Games</td>\n",
       "      <td>O Games</td>\n",
       "      <td>NaN</td>\n",
       "      <td>NaN</td>\n",
       "      <td>0.01</td>\n",
       "      <td>2011.0</td>\n",
       "      <td>NaN</td>\n",
       "    </tr>\n",
       "    <tr>\n",
       "      <td>19797</td>\n",
       "      <td>19798</td>\n",
       "      <td>Nancy Drew: Message in a Haunted Mansion</td>\n",
       "      <td>Adventure</td>\n",
       "      <td>E</td>\n",
       "      <td>GBA</td>\n",
       "      <td>DreamCatcher Interactive</td>\n",
       "      <td>Handheld Games</td>\n",
       "      <td>NaN</td>\n",
       "      <td>NaN</td>\n",
       "      <td>0.01</td>\n",
       "      <td>2001.0</td>\n",
       "      <td>NaN</td>\n",
       "    </tr>\n",
       "  </tbody>\n",
       "</table>\n",
       "<p>19094 rows × 12 columns</p>\n",
       "</div>"
      ],
      "text/plain": [
       "        Rank                                      Name      Genre ESRB_Rating  \\\n",
       "19        20                        Grand Theft Auto V     Action           M   \n",
       "9         10                                 Minecraft       Misc         NaN   \n",
       "0          1                                Wii Sports     Sports           E   \n",
       "40        41            Call of Duty: Modern Warfare 3    Shooter           M   \n",
       "41        42                   Call of Duty: Black Ops    Shooter           M   \n",
       "...      ...                                       ...        ...         ...   \n",
       "19766  19767                                Deep Black    Shooter          RP   \n",
       "19765  19766                   Kidz Sports: Ice Hockey     Sports           E   \n",
       "19759  19760                          Buzz! Quiz World       Misc         NaN   \n",
       "19820  19821                Challenge Me: Word Puzzles     Puzzle         E10   \n",
       "19797  19798  Nancy Drew: Message in a Haunted Mansion  Adventure           E   \n",
       "\n",
       "                               Platform                    Publisher  \\\n",
       "19                 PS3,PS4,X360,XOne,PC               Rockstar Games   \n",
       "9      PC,X360,PS4,PS3,XOne,PSV,NS,WiiU                       Mojang   \n",
       "0                                   Wii                     Nintendo   \n",
       "40                      X360,PS3,PC,Wii                   Activision   \n",
       "41                      X360,PS3,PC,Wii                   Activision   \n",
       "...                                 ...                          ...   \n",
       "19766                                PC                    505 Games   \n",
       "19765                               Wii                   Bold Games   \n",
       "19759                               PSP  Sony Computer Entertainment   \n",
       "19820                                PC                      O-Games   \n",
       "19797                               GBA     DreamCatcher Interactive   \n",
       "\n",
       "                     Developer  Critic_Score  User_Score  total_sales    Year  \\\n",
       "19              Rockstar North           9.4         NaN       141.20  2013.0   \n",
       "9                    Mojang AB          10.0         NaN        90.29  2010.0   \n",
       "0                 Nintendo EAD           7.7         NaN        82.86  2006.0   \n",
       "40               Infinity Ward           8.7         NaN        61.42  2011.0   \n",
       "41                    Treyarch           8.8         NaN        60.82  2010.0   \n",
       "...                        ...           ...         ...          ...     ...   \n",
       "19766            BiArt Studios           NaN         NaN         0.01  1970.0   \n",
       "19765  Data Design Interactive           NaN         NaN         0.01  2008.0   \n",
       "19759      Relentless Software           5.9         NaN         0.01  2009.0   \n",
       "19820                  O Games           NaN         NaN         0.01  2011.0   \n",
       "19797           Handheld Games           NaN         NaN         0.01  2001.0   \n",
       "\n",
       "       Vgchartz_score  \n",
       "19                NaN  \n",
       "9                 NaN  \n",
       "0                 NaN  \n",
       "40                NaN  \n",
       "41                NaN  \n",
       "...               ...  \n",
       "19766             NaN  \n",
       "19765             NaN  \n",
       "19759             NaN  \n",
       "19820             NaN  \n",
       "19797             NaN  \n",
       "\n",
       "[19094 rows x 12 columns]"
      ]
     },
     "execution_count": 143,
     "metadata": {},
     "output_type": "execute_result"
    }
   ],
   "source": [
    "data_refined_twice.sort_values(by='total_sales', ascending=False,inplace=True)\n",
    "\n",
    "data_refined_twice.to_csv(r'C:\\DOCUMENTS and FILES\\data_refined_twice.csv')\n",
    "print('done')\n",
    "data_refined_twice\n",
    "#主要的数据处理结束\n",
    "\n",
    "\n",
    "\n",
    "\n",
    "\n",
    "\n",
    "\n",
    "\n",
    "\n",
    "\n",
    "\n",
    "\n"
   ]
  },
  {
   "cell_type": "code",
   "execution_count": 144,
   "metadata": {
    "pycharm": {
     "is_executing": false,
     "name": "#%%\n"
    }
   },
   "outputs": [],
   "source": [
    "#data_refined_twice=pd.read_csv(r'C:\\DOCUMENTS and FILES\\data_refined_twice.csv',index_col=0)\n",
    "#data_refined_twice\n",
    "temp=data_refined_twice['total_sales']\n",
    "\n",
    "#np.percentile(temp.values,99)\n",
    "#计算百分位数"
   ]
  },
  {
   "cell_type": "code",
   "execution_count": 145,
   "metadata": {
    "pycharm": {
     "is_executing": false,
     "name": "#%%\n"
    }
   },
   "outputs": [],
   "source": [
    "top80=data_refined_twice[data_refined_twice['total_sales']>=np.percentile(temp.values,80)]\n",
    "top5=data_refined_twice[data_refined_twice['total_sales']>=np.percentile(temp.values,95)]\n",
    "top90=data_refined_twice[data_refined_twice['total_sales']>=np.percentile(temp.values,90)]\n",
    "top1=data_refined_twice[data_refined_twice['total_sales']>=np.percentile(temp.values,99)]\n",
    "over20m=data_refined_twice[data_refined_twice['total_sales']>=20]\n",
    "top85=data_refined_twice[data_refined_twice['total_sales']>=np.percentile(temp.values,85)]\n",
    "newover20m=over20m[over20m['Year']>=2008]\n",
    "newover20m.to_csv(r'C:\\DOCUMENTS and FILES\\newover20m.csv')\n",
    "#temp=data_refined_twice.groupby('Publisher').count()\n",
    "#temp.sort_values('Rank',inplace=True,ascending=False)\n",
    "#temp\n",
    "#over20m.describe()\n"
   ]
  },
  {
   "cell_type": "code",
   "execution_count": 146,
   "metadata": {
    "pycharm": {
     "is_executing": false,
     "name": "#%%\n"
    }
   },
   "outputs": [],
   "source": [
    "#byyear=data_refined_twice.groupby(by='Year').count()#is a DF\n",
    "byyearcount=data_refined_twice.groupby(by='Year').count()\n",
    "byyear=data_refined_twice.groupby(by='Year').sum()\n",
    "#byyear['total_sales'].to_csv('sales-byyear.csv')\n",
    "#byyear"
   ]
  },
  {
   "cell_type": "code",
   "execution_count": 147,
   "metadata": {
    "pycharm": {
     "is_executing": false,
     "name": "#%%\n"
    }
   },
   "outputs": [
    {
     "data": {
      "text/plain": [
       "<Figure size 432x288 with 0 Axes>"
      ]
     },
     "metadata": {},
     "output_type": "display_data"
    },
    {
     "data": {
      "image/png": "[encoded data removed]",
      "text/plain": [
       "<Figure size 3686.4x2073.6 with 1 Axes>"
      ]
     },
     "metadata": {
      "needs_background": "light"
     },
     "output_type": "display_data"
    }
   ],
   "source": [
    "\n",
    "\n",
    "#在这里作图\n",
    "fig=plt.figure()\n",
    "plt.figure(figsize=(25.6,14.4),dpi=144)\n",
    "#ax=fig.subplots()\n",
    "\n",
    "\n",
    "#ax=sns.distplot(data_refined_twice[data_refined_twice['total_sales']<6]['total_sales'],bins=300)#销量概览DIST\n",
    "#ax=sns.distplot(data_refined_twice['Critic_Score'].dropna(),bins=100)\n",
    "#ax=sns.distplot(top5['Critic_Score'].dropna(),bins=50)\n",
    "ax=sns.scatterplot(x='ESRB_Rating',y='total_sales',hue='ESRB_Rating',data=top5)\n",
    "#ax=sns.scatterplot(x='Year',y='Platform',hue='Platform',data=data_no_zero_sales)\n",
    "#ax=sns.distplot(top5['Critic_Score'].dropna(),bins=50)\n",
    "#sns.kdeplot(data_refined_twice['total_sales'],color='r')\n",
    "#ax=sns.lineplot(x=byyear.index,y=byyear['total_sales'],data=byyear)#历史概览\n",
    "#ax=sns.barplot(x=byyear.index,y=byyear['total_sales'],data=byyear)#历史概览\n",
    "#ax=sns.distplot(top5['Critic_Score'].dropna())\n",
    "\n",
    "\n",
    "x_major_locator=MultipleLocator(0.5)\n",
    "ax.xaxis.set_major_locator(x_major_locator)\n",
    "temp=ax.get_figure()"
   ]
  },
  {
   "cell_type": "code",
   "execution_count": 148,
   "metadata": {
    "pycharm": {
     "is_executing": false,
     "name": "#%%\n"
    }
   },
   "outputs": [],
   "source": [
    "#temp.savefig('TOP5-ESRB-scatter.png')  \n"
   ]
  },
  {
   "cell_type": "code",
   "execution_count": 149,
   "metadata": {
    "pycharm": {
     "is_executing": false,
     "name": "#%%\n"
    }
   },
   "outputs": [],
   "source": [
    "# sales_frequency=data_no_minority.groupby(['total_sales']).size()#销量的频次统计\n",
    "# platform_frequency=data_no_minority.groupby('Platform').size().sort_values(ascending=False)\n",
    "# #平台出现频次的统计\n",
    "# sales_frequency.sort_values(ascending=False,inplace=True)\n",
    "# \n",
    "# fig=plt.figure(figsize=(38.4,21.6))\n",
    "# ax1=fig.add_subplot(2,2,1)\n",
    "# #ax2=fig.add_subplot(2,2,2)\n",
    "# #ax3=fig.add_subplot(2,2,3)\n",
    "# temp=data_no_minority.pivot_table('total_sales',index='Name',columns='Platform')\n",
    "# temp=data_no_minority.groupby('Platform').size()\n",
    "# ax1.set_xlim([0,6])\n",
    "# #fig.set_size_inches(80,80)\n",
    "# \n",
    "# ax1.plot(sales_frequency)\n",
    "# #ax2.plot(platform_frequency)"
   ]
  },
  {
   "cell_type": "code",
   "execution_count": 150,
   "metadata": {
    "pycharm": {
     "is_executing": false,
     "name": "#%%\n"
    }
   },
   "outputs": [
    {
     "name": "stdout",
     "output_type": "stream",
     "text": [
      "done4\n",
      "donetop5\n"
     ]
    }
   ],
   "source": [
    "pf1=pdpf.ProfileReport(data_refined,n_freq_table_max=200)\n",
    "print(\"done1\")\n",
    "pf2=pdpf.ProfileReport(data_no_zero_sales,n_freq_table_max=200)\n",
    "print(\"done2\")\n",
    "pf3=pdpf.ProfileReport(original_data,n_freq_table_max=200)\n",
    "print(\"done3\")\n",
    "pf3.to_file(output_file=\"original_data.html\")\n",
    "pf1.to_file(output_file=\"data_refined.html\")\n",
    "pf2.to_file(output_file=\"data_no_zero_sales.html\")\n",
    "pf4=pdpf.ProfileReport(data_refined_twice,n_freq_table_max=400)\n",
    "print('done4')\n",
    "pf4.to_file(output_file='data_refined_twice.html')\n",
    "pftop5=pdpf.ProfileReport(top5,n_freq_table_max=200)\n",
    "print('donetop5')\n",
    "pftop5.to_file(output_file='top5.html')\n",
    "pf6=pdpf.ProfileReport(over20m,n_freq_table_max=200)\n",
    "pf6.to_file(output_file='over20m.html')\n",
    "pf7=pdpf.ProfileReport(newover20m,n_freq_table_max=200)\n",
    "pf7.to_file(output_file='newover20m.html')\n"
   ]
  },
  {
   "cell_type": "code",
   "execution_count": 152,
   "metadata": {
    "pycharm": {
     "is_executing": false,
     "name": "#%%\n"
    }
   },
   "outputs": [],
   "source": [
    "#三种回归\n",
    "top5['Critic_Score'].fillna(np.mean(top5['Critic_Score']),inplace=True)\n",
    "\n",
    "temp=top5['Critic_Score'].dropna().values\n",
    "temp=temp.reshape(-1,1)\n",
    "X=temp\n",
    "y=top5['total_sales']\n",
    "\n",
    "svr_rbf = SVR(kernel='rbf', C=100, gamma=0.1, epsilon=.1)\n",
    "svr_lin = SVR(kernel='linear', C=100, gamma='auto')\n",
    "svr_poly = SVR(kernel='poly', C=100, gamma='auto', degree=4, epsilon=.1,\n",
    "               coef0=1)\n",
    "svr_pre=SVR(kernel='precomputed', C=100, gamma='auto')#can't be used\n",
    "lw = 2 \n",
    "\n",
    "svrs = [svr_rbf, svr_lin, svr_poly]\n",
    "kernel_label = ['RBF', 'Linear', 'Polynomial']\n",
    "model_color = ['b', 'k', 'g']\n",
    "#plt.figure(figsize=(19.2,10.8),dpi=144)\n",
    "fig, axes = plt.subplots(nrows=1, ncols=3, figsize=(19.2,10.8),dpi=144, sharey=False)\n",
    "for ix, svr in enumerate(svrs):\n",
    "    axes[ix].plot(X, svr.fit(X, y).predict(X), color=model_color[ix], lw=lw,\n",
    "                  label='{} model'.format(kernel_label[ix]))\n",
    "    axes[ix].scatter(X[svr.support_], y[svr.support_], facecolor=\"none\",\n",
    "                     edgecolor=model_color[ix], s=50,\n",
    "                     label='{} support vectors'.format(kernel_label[ix]))\n",
    "    axes[ix].scatter(X[np.setdiff1d(np.arange(len(X)), svr.support_)],\n",
    "                     y[np.setdiff1d(np.arange(len(X)), svr.support_)],\n",
    "                     facecolor=\"none\", edgecolor=\"r\", s=50,\n",
    "                     label='other training data')\n",
    "    axes[ix].legend(loc='upper center', bbox_to_anchor=(0.5, 1.1),\n",
    "                    ncol=1, fancybox=True, shadow=True)\n",
    "    print(svr.score(X,y))\n",
    "\n",
    "#fig.text(0.5, 0.04, '数据', ha='center', va='baseline')\n",
    "#fig.text(0.06, 0.5, '目标值', ha='center', va='baseline', rotation='vertical')\n",
    "fig.suptitle(\"Support Vector Regression\", fontsize=14)\n",
    "plt.rcParams['font.sans-serif'] = ['SimHei']  # 用来正常显示中文标签\n",
    "plt.rcParams['axes.unicode_minus'] = False  # 用来正常显示负号\n",
    "#plt.savefig('sales-score-SVR.png')\n",
    "plt.show()\n",
    "\n",
    "\n",
    "\n",
    "\n",
    "# #RBF回归\n",
    "# clf=SVR()\n",
    "# top5['Critic_Score'].fillna(np.mean(top5['Critic_Score']),inplace=True)\n",
    "# \n",
    "# temp=top5['Critic_Score'].dropna().values\n",
    "# temp=temp.reshape(-1,1)\n",
    "# test=clf.fit(temp,top5['total_sales'])\n",
    "# #clf.predict()\n",
    "# xneed = np.linspace(6,10)[:, None]\n",
    "# y_pre = clf.predict(xneed)# 对结果进行可视化：\n",
    "# \n",
    "# #x_train, x_test, y_train, y_test = train_test_split(x,y, random_state=101, test_size=0.30)\n",
    "# \n",
    "# plt.figure(figsize=(19.2,10.8),dpi=144)\n",
    "# plt.scatter(temp, top5['total_sales'], c='k', label='data', zorder=1)\n",
    "# # plt.hold(True)\n",
    "# plt.plot(xneed, y_pre, c='r', label='SVR_fit')\n",
    "# #plt.xlabel('data')\n",
    "# #plt.ylabel('target')\n",
    "# #plt.title('SVR versus Kernel Ridge')\n",
    "# plt.legend()\n",
    "# #predictions = [round(value) for value in y_pre]\n",
    "# #accuracy = accuracy_score(top5['total_sales'], y_pre)\n",
    "# #print(\"Accuracy: %.2f%%\" % (accuracy * 100.0))\n",
    "# #plt.savefig('score-sales-SVR-1.png')\n",
    "# plt.show()"
   ]
  }
 ],
 "metadata": {
  "kernelspec": {
   "display_name": "Python 3",
   "language": "python",
   "name": "python3"
  },
  "language_info": {
   "codemirror_mode": {
    "name": "ipython",
    "version": 3
   },
   "file_extension": ".py",
   "mimetype": "text/x-python",
   "name": "python",
   "nbconvert_exporter": "python",
   "pygments_lexer": "ipython3",
   "version": "3.7.0"
  },
  "latex_envs": {
   "LaTeX_envs_menu_present": true,
   "autoclose": false,
   "autocomplete": true,
   "bibliofile": "biblio.bib",
   "cite_by": "apalike",
   "current_citInitial": 1,
   "eqLabelWithNumbers": true,
   "eqNumInitial": 1,
   "hotkeys": {
    "equation": "Ctrl-E",
    "itemize": "Ctrl-I"
   },
   "labels_anchors": false,
   "latex_user_defs": false,
   "report_style_numbering": false,
   "user_envs_cfg": false
  },
  "nbTranslate": {
   "displayLangs": [
    "*"
   ],
   "hotkey": "alt-t",
   "langInMainMenu": true,
   "sourceLang": "en",
   "targetLang": "fr",
   "useGoogleTranslate": true
  },
  "pycharm": {
   "stem_cell": {
    "cell_type": "raw",
    "metadata": {
     "collapsed": false
    },
    "source": []
   }
  },
  "toc": {
   "base_numbering": 1,
   "nav_menu": {},
   "number_sections": true,
   "sideBar": true,
   "skip_h1_title": false,
   "title_cell": "Table of Contents",
   "title_sidebar": "Contents",
   "toc_cell": false,
   "toc_position": {},
   "toc_section_display": true,
   "toc_window_display": false
  },
  "varInspector": {
   "cols": {
    "lenName": 16,
    "lenType": 16,
    "lenVar": 40
   },
   "kernels_config": {
    "python": {
     "delete_cmd_postfix": "",
     "delete_cmd_prefix": "del ",
     "library": "var_list.py",
     "varRefreshCmd": "print(var_dic_list())"
    },
    "r": {
     "delete_cmd_postfix": ") ",
     "delete_cmd_prefix": "rm(",
     "library": "var_list.r",
     "varRefreshCmd": "cat(var_dic_list()) "
    }
   },
   "types_to_exclude": [
    "module",
    "function",
    "builtin_function_or_method",
    "instance",
    "_Feature"
   ],
   "window_display": false
  }
 },
 "nbformat": 4,
 "nbformat_minor": 1
}
