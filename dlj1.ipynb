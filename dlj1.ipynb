{
 "cells": [
  {
   "cell_type": "markdown",
   "metadata": {},
   "source": [
    "# 数据探索"
   ]
  },
  {
   "cell_type": "markdown",
   "metadata": {
    "heading_collapsed": true
   },
   "source": [
    "## table_datamining_merchant"
   ]
  },
  {
   "cell_type": "markdown",
   "metadata": {
    "hidden": true
   },
   "source": [
    "选取了三个地区/三个行业的商户,无缺失值\n",
    "- merchant_id 商户ID 5599个不同的商户\n",
    "- industry_level1 三个行业 [1 2 3]\n",
    "- province 三个地区 [1 2 3]"
   ]
  },
  {
   "cell_type": "code",
   "execution_count": 1,
   "metadata": {
    "hidden": true
   },
   "outputs": [
    {
     "name": "stdout",
     "output_type": "stream",
     "text": [
      "<class 'pandas.core.frame.DataFrame'>\n",
      "RangeIndex: 5599 entries, 0 to 5598\n",
      "Data columns (total 3 columns):\n",
      "merchant_id        5599 non-null object\n",
      "industry_level1    5599 non-null int64\n",
      "province           5599 non-null int64\n",
      "dtypes: int64(2), object(1)\n",
      "memory usage: 131.4+ KB\n"
     ]
    }
   ],
   "source": [
    "import pandas as pd\n",
    "table_datamining_merchant = pd.read_csv(\"datasets/table_datamining_merchant.txt\", delimiter=\" \")\n",
    "# table_datamining_merchant.head()\n",
    "table_datamining_merchant.info()\n",
    "# table_datamining_merchant['merchant_id'].value_counts() # 5599个互不相同的商户"
   ]
  },
  {
   "cell_type": "markdown",
   "metadata": {
    "heading_collapsed": true
   },
   "source": [
    "## table_datamining_history_loan"
   ]
  },
  {
   "cell_type": "markdown",
   "metadata": {
    "hidden": true
   },
   "source": [
    "满足地区行业条件且在2018年5月或6月上旬贷款过的商户的历史贷款信息,无缺失值\n",
    "- apply_id 申请借贷id       353(总)\n",
    "- merchant_id 商户id        269/353个商户\n",
    "- apply_date 申请借贷日期\n",
    "- lend_amount 借款数目\n",
    "- lend_period 借款周期\n",
    "- notional_settle_date 结算日期\n",
    "- real_settle_date 实际结算日期\n",
    "- 30days_overdue_times 逾期30天次数\n",
    "- 60days_overdue_times 逾期60天次数"
   ]
  },
  {
   "cell_type": "code",
   "execution_count": 2,
   "metadata": {
    "hidden": true
   },
   "outputs": [
    {
     "name": "stdout",
     "output_type": "stream",
     "text": [
      "<class 'pandas.core.frame.DataFrame'>\n",
      "RangeIndex: 353 entries, 0 to 352\n",
      "Data columns (total 9 columns):\n",
      "apply_id                353 non-null int64\n",
      "merchant_id             353 non-null object\n",
      "apply_date              353 non-null object\n",
      "lend_amount             353 non-null float64\n",
      "lend_period             353 non-null int64\n",
      "notional_settle_date    353 non-null object\n",
      "real_settle_date        353 non-null object\n",
      "30days_overdue_times    353 non-null int64\n",
      "60days_overdue_times    353 non-null int64\n",
      "dtypes: float64(1), int64(4), object(4)\n",
      "memory usage: 24.9+ KB\n"
     ]
    }
   ],
   "source": [
    "table_datamining_history_loan = pd.read_csv(\"datasets/table_datamining_history_loan.txt\",delimiter=\",\")\n",
    "# table_datamining_history_loan.head()\n",
    "table_datamining_history_loan.info()\n",
    "# table_datamining_history_loan['merchant_id'].value_counts()"
   ]
  },
  {
   "cell_type": "markdown",
   "metadata": {
    "heading_collapsed": true
   },
   "source": [
    "## table_loan_*"
   ]
  },
  {
   "cell_type": "markdown",
   "metadata": {
    "hidden": true
   },
   "source": [
    "满足地区行业条件的商户在2018年5月和6月上旬进行的贷款记录,无缺失值\n",
    "- apply_id 1200(总)\n",
    "- merchant_id 商户id  1180/1200\n",
    "- apply_date 申请日期\n",
    "- lend_amount 借款金额\n",
    "- lend_period 借款周期\n",
    "- view_days  \n",
    "- view_no  \n",
    "- 30days_overdue_times 逾期30天次数\n",
    "- 60days_overdue_times 逾期60天次数"
   ]
  },
  {
   "cell_type": "code",
   "execution_count": 3,
   "metadata": {
    "hidden": true
   },
   "outputs": [
    {
     "name": "stdout",
     "output_type": "stream",
     "text": [
      "<class 'pandas.core.frame.DataFrame'>\n",
      "RangeIndex: 1200 entries, 0 to 1199\n",
      "Data columns (total 9 columns):\n",
      "apply_id                1200 non-null int64\n",
      "merchant_id             1200 non-null object\n",
      "apply_date              1200 non-null object\n",
      "lend_amount             1200 non-null float64\n",
      "lend_period             1200 non-null int64\n",
      "view_days               1200 non-null int64\n",
      "view_no                 1200 non-null int64\n",
      "30days_overdue_times    1200 non-null int64\n",
      "60days_overdue_times    1200 non-null int64\n",
      "dtypes: float64(1), int64(6), object(2)\n",
      "memory usage: 84.5+ KB\n"
     ]
    }
   ],
   "source": [
    "table_loan_train = pd.read_csv(\"datasets/table_loan_train.txt\")\n",
    "table_loan_train.info()\n",
    "# table_loan_train.head()\n",
    "# table_loan_train['merchant_id'].value_counts()\n",
    "# table_loan_train['30days_overdue_times'].value_counts()\n",
    "# 0     745\n",
    "# 1     129\n",
    "# 2     118\n",
    "# 4     101\n",
    "# 3      49\n",
    "# 5      45\n",
    "# 6       8\n",
    "# 8       3\n",
    "# 10      1\n",
    "# 7       1"
   ]
  },
  {
   "cell_type": "code",
   "execution_count": 4,
   "metadata": {
    "hidden": true
   },
   "outputs": [
    {
     "name": "stdout",
     "output_type": "stream",
     "text": [
      "<class 'pandas.core.frame.DataFrame'>\n",
      "RangeIndex: 515 entries, 0 to 514\n",
      "Data columns (total 7 columns):\n",
      "apply_id       515 non-null int64\n",
      "merchant_id    515 non-null object\n",
      "apply_date     515 non-null object\n",
      "lend_amount    515 non-null float64\n",
      "lend_period    515 non-null int64\n",
      "view_days      515 non-null int64\n",
      "view_no        515 non-null int64\n",
      "dtypes: float64(1), int64(4), object(2)\n",
      "memory usage: 28.3+ KB\n"
     ]
    }
   ],
   "source": [
    "table_loan_test = pd.read_csv(\"datasets/table_loan_test.txt\")\n",
    "table_loan_test.info()\n",
    "# table_loan_test.head()"
   ]
  },
  {
   "cell_type": "markdown",
   "metadata": {},
   "source": [
    "## table_lend_transaction"
   ]
  },
  {
   "cell_type": "markdown",
   "metadata": {},
   "source": [
    "满足地区行业条件且在2018年5月或6月上旬贷款过的商户的2018年4/5/6.5月的所有流水信息, 异常数据警告\n",
    "- id 交易id 3590059条交易数据\n",
    "- type 交易类型？？30 10 11\n",
    "- status 交易状态？？\n",
    "- store_id 店铺id 1846/3590059个\n",
    "- merchant_id 商户id 1607个\n",
    "- terminal_id 终端id 4529/3590059个\n",
    "- payer_uid 支付平台上的付款id\n",
    "- pay_way 一级支付方式    2 3 6 17 18\n",
    "- sub_pay_way 二级支付方式   1 2 3\n",
    "- effective_amount 有效金额 3587609和原始金额相同 2450和原始金额不同 2450/3590059 考虑为异常值？\n",
    "- original_amount 原始金额\n",
    "- received_amount 收到金额 object  缺失值163410过多选择填充\n",
    "- paid_amount 支付金额 object 缺失值165644过多选择填充\n",
    "- ctime 时间\n",
    "- bankcard_credit 银行信用卡 2496160\n",
    "- bankcard_debit 银行借记卡 679049\n",
    "- wallet_weixin 微信钱包 1599836\n",
    "- wallet_alipay 支付宝钱包 487633\n",
    "- wallet_alipay_finance 支付宝财富 0\n",
    "- alipay_huabei 支付宝花呗 394553\n",
    "- alipay_point 支付宝积分 310\n",
    "- hongbao_wosai 哇塞红包 0\n",
    "- hongbao_wosai_mch 哇塞免充值红包 0\n",
    "- discount_wosai 哇塞折扣 0\n",
    "- discount_wosai_mch 哇塞免充值折扣 0\n",
    "- discount_channel 折扣通道 408\n",
    "- discount_channel_mch 折扣免充值通道 153\n",
    "- discount_channel_mch_top_up 折扣免充值通道充值 3（0 300 500）\n",
    "- hongbao_channel 红包通道 223\n",
    "- hongbao_channel_mch 红包通道免充值0\n",
    "- hongbao_channel_mch_top_up 红包通道免充值充值0\n",
    "- card_pre 商户预付卡 0\n",
    "- card_balance 商户储值卡 0\n",
    "- merchant_sn 商户序列号 \\n\n",
    "- is_liquidation_next_day 是否次日清算 \\n\n",
    "- pt 日期 76"
   ]
  },
  {
   "cell_type": "code",
   "execution_count": 5,
   "metadata": {},
   "outputs": [],
   "source": [
    "table_lend_transaction = pd.read_csv(\"datasets/table_lend_transaction.txt\",delimiter=\",\")\n",
    "# table_lend_transaction.info()\n",
    "# table_lend_transaction.head()\n",
    "# table_lend_transaction['merchant_id'].value_counts()\n",
    "# (table_lend_transaction['original_amount'] == table_lend_transaction['effective_amount']).value_counts()"
   ]
  },
  {
   "cell_type": "markdown",
   "metadata": {},
   "source": [
    "# 数据预处理"
   ]
  },
  {
   "cell_type": "markdown",
   "metadata": {},
   "source": [
    "## history_loan"
   ]
  },
  {
   "cell_type": "code",
   "execution_count": 6,
   "metadata": {},
   "outputs": [
    {
     "name": "stdout",
     "output_type": "stream",
     "text": [
      "<class 'pandas.core.frame.DataFrame'>\n",
      "Int64Index: 353 entries, 0 to 352\n",
      "Data columns (total 11 columns):\n",
      "merchant_id             353 non-null object\n",
      "industry_level1         353 non-null int64\n",
      "province                353 non-null int64\n",
      "apply_id                353 non-null int64\n",
      "apply_date              353 non-null object\n",
      "lend_amount             353 non-null float64\n",
      "lend_period             353 non-null int64\n",
      "notional_settle_date    353 non-null object\n",
      "real_settle_date        353 non-null object\n",
      "30days_overdue_times    353 non-null int64\n",
      "60days_overdue_times    353 non-null int64\n",
      "dtypes: float64(1), int64(6), object(4)\n",
      "memory usage: 33.1+ KB\n"
     ]
    }
   ],
   "source": [
    "history_loan1 = pd.merge(table_datamining_merchant, table_datamining_history_loan)\n",
    "history_loan1.info()\n",
    "history_loan1.head()"
   ]
  },
  {
   "cell_type": "markdown",
   "metadata": {},
   "source": [
    "## loan_train"
   ]
  },
  {
   "cell_type": "code",
   "execution_count": null,
   "metadata": {},
   "outputs": [],
   "source": [
    "loan_train1 = pd.merge(table_datamining_merchant, table_loan_train)\n",
    "loan_train1.info()\n",
    "loan_train1.head()"
   ]
  },
  {
   "cell_type": "markdown",
   "metadata": {},
   "source": [
    "## loan_test"
   ]
  },
  {
   "cell_type": "code",
   "execution_count": null,
   "metadata": {},
   "outputs": [],
   "source": [
    "loan_test1 = pd.merge(table_datamining_merchant, table_loan_test)\n",
    "loan_test1.info()\n",
    "loan_test1.head()"
   ]
  },
  {
   "cell_type": "markdown",
   "metadata": {},
   "source": [
    "## lend_transation"
   ]
  },
  {
   "cell_type": "markdown",
   "metadata": {},
   "source": [
    "删除不相关特征\n",
    "- 属性值全为0和缺失值的属性 \n",
    "    - hongbao_wasai等\n",
    "    - merchant-sn等\n",
    "- 类似id的记录数据的属性 id ctime\n",
    "    - id 记录数据集中的3590059条数据，全部不同，是不相关特征\n",
    "    - ctime 交易的时间，很少一部分1621个数据相同，也是不相关特征\n",
    "- 和预测无关的其他属性 \n",
    "    - status 查看数据集发现几乎所有的status均为2000，直觉告诉我们可以删除，不删除反而可能影响预测\n",
    "    - store_id 预测同一个商户的信贷情况，和其拥有的商店无关\n",
    "    - pt pt只是代表4 5 6月的流水信息的日期，对预测也没有什么帮助，决定删除"
   ]
  },
  {
   "cell_type": "code",
   "execution_count": 9,
   "metadata": {},
   "outputs": [
    {
     "name": "stdout",
     "output_type": "stream",
     "text": [
      "<class 'pandas.core.frame.DataFrame'>\n",
      "RangeIndex: 3590059 entries, 0 to 3590058\n",
      "Data columns (total 36 columns):\n",
      "id                             object\n",
      "type                           int64\n",
      "status                         int64\n",
      "store_id                       object\n",
      "merchant_id                    object\n",
      "terminal_id                    object\n",
      "payer_uid                      object\n",
      "pay_way                        int64\n",
      "sub_pay_way                    int64\n",
      "effective_amount               int64\n",
      "original_amount                int64\n",
      "received_amount                object\n",
      "paid_amount                    object\n",
      "ctime                          int64\n",
      "bankcard_credit                int64\n",
      "bankcard_debit                 int64\n",
      "wallet_weixin                  int64\n",
      "wallet_alipay                  int64\n",
      "wallet_alipay_finance          int64\n",
      "alipay_huabei                  int64\n",
      "alipay_point                   int64\n",
      "hongbao_wosai                  int64\n",
      "hongbao_wosai_mch              int64\n",
      "discount_wosai                 int64\n",
      "discount_wosai_mch             int64\n",
      "discount_channel               int64\n",
      "discount_channel_mch           int64\n",
      "discount_channel_mch_top_up    int64\n",
      "hongbao_channel                int64\n",
      "hongbao_channel_mch            int64\n",
      "hongbao_channel_mch_top_up     int64\n",
      "card_pre                       int64\n",
      "card_balance                   int64\n",
      "merchant_sn                    object\n",
      "is_liquidation_next_day        object\n",
      "pt                             int64\n",
      "dtypes: int64(27), object(9)\n",
      "memory usage: 986.0+ MB\n"
     ]
    },
    {
     "data": {
      "text/html": [
       "<div>\n",
       "<style scoped>\n",
       "    .dataframe tbody tr th:only-of-type {\n",
       "        vertical-align: middle;\n",
       "    }\n",
       "\n",
       "    .dataframe tbody tr th {\n",
       "        vertical-align: top;\n",
       "    }\n",
       "\n",
       "    .dataframe thead th {\n",
       "        text-align: right;\n",
       "    }\n",
       "</style>\n",
       "<table border=\"1\" class=\"dataframe\">\n",
       "  <thead>\n",
       "    <tr style=\"text-align: right;\">\n",
       "      <th></th>\n",
       "      <th>id</th>\n",
       "      <th>type</th>\n",
       "      <th>status</th>\n",
       "      <th>store_id</th>\n",
       "      <th>merchant_id</th>\n",
       "      <th>terminal_id</th>\n",
       "      <th>payer_uid</th>\n",
       "      <th>pay_way</th>\n",
       "      <th>sub_pay_way</th>\n",
       "      <th>effective_amount</th>\n",
       "      <th>...</th>\n",
       "      <th>discount_channel_mch</th>\n",
       "      <th>discount_channel_mch_top_up</th>\n",
       "      <th>hongbao_channel</th>\n",
       "      <th>hongbao_channel_mch</th>\n",
       "      <th>hongbao_channel_mch_top_up</th>\n",
       "      <th>card_pre</th>\n",
       "      <th>card_balance</th>\n",
       "      <th>merchant_sn</th>\n",
       "      <th>is_liquidation_next_day</th>\n",
       "      <th>pt</th>\n",
       "    </tr>\n",
       "  </thead>\n",
       "  <tbody>\n",
       "    <tr>\n",
       "      <th>0</th>\n",
       "      <td>t7895258646038403</td>\n",
       "      <td>30</td>\n",
       "      <td>2001</td>\n",
       "      <td>34de32a0-01a9-de4e-60bb-b39aee4535e7</td>\n",
       "      <td>c7f13959-b300-11e5-9987-6c92bf21cf9b</td>\n",
       "      <td>4c32468f-ce3b-44cc-af60-98569f936233</td>\n",
       "      <td>\\N</td>\n",
       "      <td>2</td>\n",
       "      <td>3</td>\n",
       "      <td>1690</td>\n",
       "      <td>...</td>\n",
       "      <td>0</td>\n",
       "      <td>0</td>\n",
       "      <td>0</td>\n",
       "      <td>0</td>\n",
       "      <td>0</td>\n",
       "      <td>0</td>\n",
       "      <td>0</td>\n",
       "      <td>\\N</td>\n",
       "      <td>\\N</td>\n",
       "      <td>20180422</td>\n",
       "    </tr>\n",
       "    <tr>\n",
       "      <th>1</th>\n",
       "      <td>t7895258646051854</td>\n",
       "      <td>30</td>\n",
       "      <td>2000</td>\n",
       "      <td>b03571c7-6510-4fc0-84b2-2774916433e0</td>\n",
       "      <td>c4a1e75a-2e7c-4f8e-8be8-af7ac8255ff3</td>\n",
       "      <td>896e1f3f-9196-45a7-bfd4-0e4eb1d47da0</td>\n",
       "      <td>oLnPgv4C79seCYHYOqMpc8TfLLTw</td>\n",
       "      <td>3</td>\n",
       "      <td>3</td>\n",
       "      <td>2100</td>\n",
       "      <td>...</td>\n",
       "      <td>0</td>\n",
       "      <td>0</td>\n",
       "      <td>0</td>\n",
       "      <td>0</td>\n",
       "      <td>0</td>\n",
       "      <td>0</td>\n",
       "      <td>0</td>\n",
       "      <td>\\N</td>\n",
       "      <td>\\N</td>\n",
       "      <td>20180422</td>\n",
       "    </tr>\n",
       "    <tr>\n",
       "      <th>2</th>\n",
       "      <td>t7895258646061341</td>\n",
       "      <td>30</td>\n",
       "      <td>2000</td>\n",
       "      <td>8ced7cad-30e2-499a-bb1d-edeb98112403</td>\n",
       "      <td>6a3d075b-0671-4e0b-aff0-0f0c2e3a51a9</td>\n",
       "      <td>5747a014-8155-40ac-aa96-e6223b7f7b2d</td>\n",
       "      <td>o7kqVuHmkB5QxJ9bw7WTYIHVqv-Q</td>\n",
       "      <td>3</td>\n",
       "      <td>1</td>\n",
       "      <td>700</td>\n",
       "      <td>...</td>\n",
       "      <td>0</td>\n",
       "      <td>0</td>\n",
       "      <td>0</td>\n",
       "      <td>0</td>\n",
       "      <td>0</td>\n",
       "      <td>0</td>\n",
       "      <td>0</td>\n",
       "      <td>\\N</td>\n",
       "      <td>\\N</td>\n",
       "      <td>20180422</td>\n",
       "    </tr>\n",
       "    <tr>\n",
       "      <th>3</th>\n",
       "      <td>t7895258646069041</td>\n",
       "      <td>30</td>\n",
       "      <td>2000</td>\n",
       "      <td>4c4bfac1-e3db-40ab-8ce0-235fad566201</td>\n",
       "      <td>32d5d16a-0941-4aa6-afc9-d29668663d21</td>\n",
       "      <td>9af33355-4d98-449b-8dc6-8234c1fb04b0</td>\n",
       "      <td>oLnPgv0XS7dCD-Fub-vqIYXnt_hM</td>\n",
       "      <td>3</td>\n",
       "      <td>3</td>\n",
       "      <td>1200</td>\n",
       "      <td>...</td>\n",
       "      <td>0</td>\n",
       "      <td>0</td>\n",
       "      <td>0</td>\n",
       "      <td>0</td>\n",
       "      <td>0</td>\n",
       "      <td>0</td>\n",
       "      <td>0</td>\n",
       "      <td>\\N</td>\n",
       "      <td>\\N</td>\n",
       "      <td>20180422</td>\n",
       "    </tr>\n",
       "    <tr>\n",
       "      <th>4</th>\n",
       "      <td>t7895258646082247</td>\n",
       "      <td>30</td>\n",
       "      <td>2000</td>\n",
       "      <td>26ea4332-d63a-4b0f-2cb9-3bace83150de</td>\n",
       "      <td>12ab9d46-41e4-11e7-bd48-70106fb1fcca</td>\n",
       "      <td>bc737390-b830-40cd-b672-ab9e6e3ed06d</td>\n",
       "      <td>2088102752175406</td>\n",
       "      <td>2</td>\n",
       "      <td>3</td>\n",
       "      <td>3500</td>\n",
       "      <td>...</td>\n",
       "      <td>0</td>\n",
       "      <td>0</td>\n",
       "      <td>0</td>\n",
       "      <td>0</td>\n",
       "      <td>0</td>\n",
       "      <td>0</td>\n",
       "      <td>0</td>\n",
       "      <td>\\N</td>\n",
       "      <td>\\N</td>\n",
       "      <td>20180422</td>\n",
       "    </tr>\n",
       "  </tbody>\n",
       "</table>\n",
       "<p>5 rows × 36 columns</p>\n",
       "</div>"
      ],
      "text/plain": [
       "                  id  type  status                              store_id  \\\n",
       "0  t7895258646038403    30    2001  34de32a0-01a9-de4e-60bb-b39aee4535e7   \n",
       "1  t7895258646051854    30    2000  b03571c7-6510-4fc0-84b2-2774916433e0   \n",
       "2  t7895258646061341    30    2000  8ced7cad-30e2-499a-bb1d-edeb98112403   \n",
       "3  t7895258646069041    30    2000  4c4bfac1-e3db-40ab-8ce0-235fad566201   \n",
       "4  t7895258646082247    30    2000  26ea4332-d63a-4b0f-2cb9-3bace83150de   \n",
       "\n",
       "                            merchant_id                           terminal_id  \\\n",
       "0  c7f13959-b300-11e5-9987-6c92bf21cf9b  4c32468f-ce3b-44cc-af60-98569f936233   \n",
       "1  c4a1e75a-2e7c-4f8e-8be8-af7ac8255ff3  896e1f3f-9196-45a7-bfd4-0e4eb1d47da0   \n",
       "2  6a3d075b-0671-4e0b-aff0-0f0c2e3a51a9  5747a014-8155-40ac-aa96-e6223b7f7b2d   \n",
       "3  32d5d16a-0941-4aa6-afc9-d29668663d21  9af33355-4d98-449b-8dc6-8234c1fb04b0   \n",
       "4  12ab9d46-41e4-11e7-bd48-70106fb1fcca  bc737390-b830-40cd-b672-ab9e6e3ed06d   \n",
       "\n",
       "                      payer_uid  pay_way  sub_pay_way  effective_amount  ...  \\\n",
       "0                            \\N        2            3              1690  ...   \n",
       "1  oLnPgv4C79seCYHYOqMpc8TfLLTw        3            3              2100  ...   \n",
       "2  o7kqVuHmkB5QxJ9bw7WTYIHVqv-Q        3            1               700  ...   \n",
       "3  oLnPgv0XS7dCD-Fub-vqIYXnt_hM        3            3              1200  ...   \n",
       "4              2088102752175406        2            3              3500  ...   \n",
       "\n",
       "   discount_channel_mch discount_channel_mch_top_up hongbao_channel  \\\n",
       "0                     0                           0               0   \n",
       "1                     0                           0               0   \n",
       "2                     0                           0               0   \n",
       "3                     0                           0               0   \n",
       "4                     0                           0               0   \n",
       "\n",
       "   hongbao_channel_mch  hongbao_channel_mch_top_up  card_pre  card_balance  \\\n",
       "0                    0                           0         0             0   \n",
       "1                    0                           0         0             0   \n",
       "2                    0                           0         0             0   \n",
       "3                    0                           0         0             0   \n",
       "4                    0                           0         0             0   \n",
       "\n",
       "   merchant_sn  is_liquidation_next_day        pt  \n",
       "0           \\N                       \\N  20180422  \n",
       "1           \\N                       \\N  20180422  \n",
       "2           \\N                       \\N  20180422  \n",
       "3           \\N                       \\N  20180422  \n",
       "4           \\N                       \\N  20180422  \n",
       "\n",
       "[5 rows x 36 columns]"
      ]
     },
     "execution_count": 9,
     "metadata": {},
     "output_type": "execute_result"
    }
   ],
   "source": [
    "table_lend_transaction.info()\n",
    "table_lend_transaction.head()"
   ]
  },
  {
   "cell_type": "code",
   "execution_count": 10,
   "metadata": {},
   "outputs": [
    {
     "data": {
      "text/plain": [
       "Index(['id', 'type', 'status', 'store_id', 'merchant_id', 'terminal_id',\n",
       "       'payer_uid', 'pay_way', 'sub_pay_way', 'effective_amount',\n",
       "       'original_amount', 'received_amount', 'paid_amount', 'ctime',\n",
       "       'bankcard_credit', 'bankcard_debit', 'wallet_weixin', 'wallet_alipay',\n",
       "       'wallet_alipay_finance', 'alipay_huabei', 'alipay_point',\n",
       "       'hongbao_wosai', 'hongbao_wosai_mch', 'discount_wosai',\n",
       "       'discount_wosai_mch', 'discount_channel', 'discount_channel_mch',\n",
       "       'discount_channel_mch_top_up', 'hongbao_channel', 'hongbao_channel_mch',\n",
       "       'hongbao_channel_mch_top_up', 'card_pre', 'card_balance', 'merchant_sn',\n",
       "       'is_liquidation_next_day', 'pt'],\n",
       "      dtype='object')"
      ]
     },
     "execution_count": 10,
     "metadata": {},
     "output_type": "execute_result"
    }
   ],
   "source": [
    "table_lend_transaction.columns"
   ]
  },
  {
   "cell_type": "code",
   "execution_count": 11,
   "metadata": {},
   "outputs": [
    {
     "data": {
      "text/plain": [
       "id                              True\n",
       "type                            True\n",
       "status                          True\n",
       "store_id                        True\n",
       "merchant_id                     True\n",
       "terminal_id                     True\n",
       "payer_uid                       True\n",
       "pay_way                         True\n",
       "sub_pay_way                     True\n",
       "effective_amount                True\n",
       "original_amount                 True\n",
       "received_amount                 True\n",
       "paid_amount                     True\n",
       "ctime                           True\n",
       "bankcard_credit                 True\n",
       "bankcard_debit                  True\n",
       "wallet_weixin                   True\n",
       "wallet_alipay                   True\n",
       "wallet_alipay_finance          False\n",
       "alipay_huabei                   True\n",
       "alipay_point                    True\n",
       "hongbao_wosai                  False\n",
       "hongbao_wosai_mch              False\n",
       "discount_wosai                 False\n",
       "discount_wosai_mch             False\n",
       "discount_channel                True\n",
       "discount_channel_mch            True\n",
       "discount_channel_mch_top_up     True\n",
       "hongbao_channel                 True\n",
       "hongbao_channel_mch            False\n",
       "hongbao_channel_mch_top_up     False\n",
       "card_pre                       False\n",
       "card_balance                   False\n",
       "merchant_sn                     True\n",
       "is_liquidation_next_day         True\n",
       "pt                              True\n",
       "dtype: bool"
      ]
     },
     "execution_count": 11,
     "metadata": {},
     "output_type": "execute_result"
    }
   ],
   "source": [
    "table_lend_transaction.any()"
   ]
  },
  {
   "cell_type": "code",
   "execution_count": 12,
   "metadata": {},
   "outputs": [],
   "source": [
    "# table_lend_transaction['id'].value_counts().size                  # 3590059个不同值，删除这一特征\n",
    "\n",
    "# table_lend_transaction['merchant_sn'].value_counts()              # 3590059个\\N值，删除这一特征\n",
    "# table_lend_transaction['is_liquidation_next_day'].value_counts()  # 3590059个\\N值，删除这一特征\n",
    "\n",
    "# table_lend_transaction['store_id'].describe()                     # 1846个不同的商店，保留这一特征，用来与merchant合并计算商户拥有的店铺数量\n",
    "# table_lend_transaction['merchant_id'].describe()                  # 1607个不同的商户\n",
    "\n",
    "# table_lend_transaction['terminal_id'].describe()                  # 4529个不同的终端id，暂时保留\n",
    "# table_lend_transaction['payer_uid'].describe()                    # 163016个不同的用户id，暂时保留\n",
    "\n",
    "# table_lend_transaction['ctime'].value_counts().size               # 3588438个不同值，删除这一特征\n",
    "\n",
    "# table_lend_transaction['pt'].value_counts()                       # 交易日期，暂时保留这一特征用来计算商户每日交易笔数"
   ]
  },
  {
   "cell_type": "code",
   "execution_count": 13,
   "metadata": {},
   "outputs": [
    {
     "name": "stdout",
     "output_type": "stream",
     "text": [
      "<class 'pandas.core.frame.DataFrame'>\n",
      "RangeIndex: 3590059 entries, 0 to 3590058\n",
      "Data columns (total 23 columns):\n",
      "type                           int64\n",
      "status                         int64\n",
      "store_id                       object\n",
      "merchant_id                    object\n",
      "terminal_id                    object\n",
      "payer_uid                      object\n",
      "pay_way                        int64\n",
      "sub_pay_way                    int64\n",
      "effective_amount               int64\n",
      "original_amount                int64\n",
      "received_amount                object\n",
      "paid_amount                    object\n",
      "bankcard_credit                int64\n",
      "bankcard_debit                 int64\n",
      "wallet_weixin                  int64\n",
      "wallet_alipay                  int64\n",
      "alipay_huabei                  int64\n",
      "alipay_point                   int64\n",
      "discount_channel               int64\n",
      "discount_channel_mch           int64\n",
      "discount_channel_mch_top_up    int64\n",
      "hongbao_channel                int64\n",
      "pt                             int64\n",
      "dtypes: int64(17), object(6)\n",
      "memory usage: 630.0+ MB\n"
     ]
    }
   ],
   "source": [
    "lend_transaction1 = table_lend_transaction.drop(['wallet_alipay_finance',\n",
    "       'hongbao_wosai', 'hongbao_wosai_mch', 'discount_wosai','discount_wosai_mch', 'hongbao_channel_mch',\n",
    "       'hongbao_channel_mch_top_up', 'card_pre', 'card_balance', 'id', 'merchant_sn', 'is_liquidation_next_day', 'ctime'], axis = 1)\n",
    "lend_transaction1.info()\n",
    "# lend_transaction1.head()\n",
    "# lend_transaction1.shape"
   ]
  },
  {
   "cell_type": "code",
   "execution_count": 14,
   "metadata": {},
   "outputs": [],
   "source": [
    "def object_to_int(x):\n",
    "    if(x == '\\\\N'):\n",
    "        return 0\n",
    "    else:\n",
    "        return int(x)"
   ]
  },
  {
   "cell_type": "code",
   "execution_count": 15,
   "metadata": {
    "scrolled": true
   },
   "outputs": [
    {
     "name": "stderr",
     "output_type": "stream",
     "text": [
      "D:\\ProgramFiles\\Anaconda3\\lib\\site-packages\\ipykernel_launcher.py:2: SettingWithCopyWarning: \n",
      "A value is trying to be set on a copy of a slice from a DataFrame.\n",
      "Try using .loc[row_indexer,col_indexer] = value instead\n",
      "\n",
      "See the caveats in the documentation: http://pandas.pydata.org/pandas-docs/stable/user_guide/indexing.html#returning-a-view-versus-a-copy\n",
      "  \n",
      "D:\\ProgramFiles\\Anaconda3\\lib\\site-packages\\ipykernel_launcher.py:3: SettingWithCopyWarning: \n",
      "A value is trying to be set on a copy of a slice from a DataFrame.\n",
      "Try using .loc[row_indexer,col_indexer] = value instead\n",
      "\n",
      "See the caveats in the documentation: http://pandas.pydata.org/pandas-docs/stable/user_guide/indexing.html#returning-a-view-versus-a-copy\n",
      "  This is separate from the ipykernel package so we can avoid doing imports until\n"
     ]
    }
   ],
   "source": [
    "amount = lend_transaction1[['effective_amount', 'original_amount', 'received_amount', 'paid_amount']]\n",
    "amount['received_amount'] = amount['received_amount'].apply(object_to_int)\n",
    "amount['paid_amount'] = amount['paid_amount'].apply(object_to_int)\n",
    "\n",
    "\n",
    "\n",
    "# (amount['effective_amount'] == amount['original_amount']).value_counts()    # 3587609True + 2450False\n",
    "# (amount['received_amount'] == amount['paid_amount']).value_counts()         # 3272321True + 317738False\n",
    "# (amount['effective_amount'] == amount['received_amount']).value_counts()    # 3407269True + 182790False\n",
    "# (amount['original_amount'] == amount['received_amount']).value_counts()     # 3405007True + 185052False"
   ]
  },
  {
   "cell_type": "markdown",
   "metadata": {},
   "source": [
    "删除重复或相似的冗余特征\n",
    "- effective_amount original_amount received_amount paid_amount 只保留effective_amount和original_amount用来计算收钱吧优惠"
   ]
  },
  {
   "cell_type": "code",
   "execution_count": 16,
   "metadata": {},
   "outputs": [
    {
     "name": "stdout",
     "output_type": "stream",
     "text": [
      "<class 'pandas.core.frame.DataFrame'>\n",
      "RangeIndex: 3590059 entries, 0 to 3590058\n",
      "Data columns (total 21 columns):\n",
      "type                           int64\n",
      "status                         int64\n",
      "store_id                       object\n",
      "merchant_id                    object\n",
      "terminal_id                    object\n",
      "payer_uid                      object\n",
      "pay_way                        int64\n",
      "sub_pay_way                    int64\n",
      "effective_amount               int64\n",
      "original_amount                int64\n",
      "bankcard_credit                int64\n",
      "bankcard_debit                 int64\n",
      "wallet_weixin                  int64\n",
      "wallet_alipay                  int64\n",
      "alipay_huabei                  int64\n",
      "alipay_point                   int64\n",
      "discount_channel               int64\n",
      "discount_channel_mch           int64\n",
      "discount_channel_mch_top_up    int64\n",
      "hongbao_channel                int64\n",
      "pt                             int64\n",
      "dtypes: int64(17), object(4)\n",
      "memory usage: 575.2+ MB\n"
     ]
    }
   ],
   "source": [
    "lend_transaction2 = lend_transaction1.drop(['received_amount',\n",
    "       'paid_amount'], axis=1)\n",
    "lend_transaction2.info()\n",
    "# lend_transaction2.head()"
   ]
  },
  {
   "cell_type": "markdown",
   "metadata": {},
   "source": [
    "**至此，lend_transcation2暂时保留一些可能有用的特征**"
   ]
  },
  {
   "cell_type": "markdown",
   "metadata": {},
   "source": [
    "## 导出数据"
   ]
  },
  {
   "cell_type": "code",
   "execution_count": 17,
   "metadata": {},
   "outputs": [],
   "source": [
    "history_loan1.to_csv(\"datasets/process/history_loan.csv\", index=False)\n",
    "loan_train1.to_csv(\"datasets/process/loan_train.csv\", index=False)\n",
    "loan_test1.to_csv(\"datasets/process/loan_test.csv\", index=False)\n",
    "lend_transaction2.to_csv(\"datasets/process/lend_transaction.csv\", index=False)"
   ]
  },
  {
   "cell_type": "markdown",
   "metadata": {},
   "source": [
    "# 提取特征"
   ]
  },
  {
   "cell_type": "code",
   "execution_count": 44,
   "metadata": {},
   "outputs": [],
   "source": [
    "# 保留副本,便于调试时运行一下这行代码找回最初数据\n",
    "history_loan = history_loan1\n",
    "lend_transaction = lend_transaction2\n",
    "\n",
    "loan_train = loan_train1\n",
    "loan_test = loan_test1\n",
    "\n",
    "# history_loan.head()"
   ]
  },
  {
   "cell_type": "markdown",
   "metadata": {},
   "source": [
    "## 处理日期"
   ]
  },
  {
   "cell_type": "code",
   "execution_count": 19,
   "metadata": {},
   "outputs": [
    {
     "data": {
      "text/html": [
       "<div>\n",
       "<style scoped>\n",
       "    .dataframe tbody tr th:only-of-type {\n",
       "        vertical-align: middle;\n",
       "    }\n",
       "\n",
       "    .dataframe tbody tr th {\n",
       "        vertical-align: top;\n",
       "    }\n",
       "\n",
       "    .dataframe thead th {\n",
       "        text-align: right;\n",
       "    }\n",
       "</style>\n",
       "<table border=\"1\" class=\"dataframe\">\n",
       "  <thead>\n",
       "    <tr style=\"text-align: right;\">\n",
       "      <th></th>\n",
       "      <th>merchant_id</th>\n",
       "      <th>industry_level1</th>\n",
       "      <th>province</th>\n",
       "      <th>apply_id</th>\n",
       "      <th>apply_date</th>\n",
       "      <th>lend_amount</th>\n",
       "      <th>lend_period</th>\n",
       "      <th>view_days</th>\n",
       "      <th>view_no</th>\n",
       "      <th>30days_overdue_times</th>\n",
       "      <th>60days_overdue_times</th>\n",
       "    </tr>\n",
       "  </thead>\n",
       "  <tbody>\n",
       "    <tr>\n",
       "      <th>0</th>\n",
       "      <td>000956b7-a8a0-11e6-9007-ecf4bbdeffbc</td>\n",
       "      <td>1</td>\n",
       "      <td>2</td>\n",
       "      <td>51967680</td>\n",
       "      <td>2018-06-01 00:00:00</td>\n",
       "      <td>50000.0</td>\n",
       "      <td>6</td>\n",
       "      <td>21</td>\n",
       "      <td>112</td>\n",
       "      <td>0</td>\n",
       "      <td>0</td>\n",
       "    </tr>\n",
       "    <tr>\n",
       "      <th>1</th>\n",
       "      <td>00288569-f021-11e5-801b-6c92bf21cf9b</td>\n",
       "      <td>1</td>\n",
       "      <td>1</td>\n",
       "      <td>50606201</td>\n",
       "      <td>2018-05-15 00:00:00</td>\n",
       "      <td>10000.0</td>\n",
       "      <td>9</td>\n",
       "      <td>4</td>\n",
       "      <td>15</td>\n",
       "      <td>2</td>\n",
       "      <td>0</td>\n",
       "    </tr>\n",
       "    <tr>\n",
       "      <th>2</th>\n",
       "      <td>0035b6d4-d1a6-41ff-ace1-9b8e44dd7c03</td>\n",
       "      <td>1</td>\n",
       "      <td>2</td>\n",
       "      <td>51494422</td>\n",
       "      <td>2018-05-26 00:00:00</td>\n",
       "      <td>2000.0</td>\n",
       "      <td>12</td>\n",
       "      <td>2</td>\n",
       "      <td>7</td>\n",
       "      <td>0</td>\n",
       "      <td>0</td>\n",
       "    </tr>\n",
       "    <tr>\n",
       "      <th>3</th>\n",
       "      <td>0057c401-a259-11e6-9007-ecf4bbdeffbc</td>\n",
       "      <td>1</td>\n",
       "      <td>1</td>\n",
       "      <td>50557031</td>\n",
       "      <td>2018-05-14 00:00:00</td>\n",
       "      <td>3000.0</td>\n",
       "      <td>12</td>\n",
       "      <td>1</td>\n",
       "      <td>11</td>\n",
       "      <td>2</td>\n",
       "      <td>1</td>\n",
       "    </tr>\n",
       "    <tr>\n",
       "      <th>4</th>\n",
       "      <td>00659081-685b-44b5-a249-f8fde5b472f6</td>\n",
       "      <td>2</td>\n",
       "      <td>1</td>\n",
       "      <td>51967862</td>\n",
       "      <td>2018-06-02 00:00:00</td>\n",
       "      <td>15000.0</td>\n",
       "      <td>6</td>\n",
       "      <td>2</td>\n",
       "      <td>11</td>\n",
       "      <td>4</td>\n",
       "      <td>3</td>\n",
       "    </tr>\n",
       "  </tbody>\n",
       "</table>\n",
       "</div>"
      ],
      "text/plain": [
       "                            merchant_id  industry_level1  province  apply_id  \\\n",
       "0  000956b7-a8a0-11e6-9007-ecf4bbdeffbc                1         2  51967680   \n",
       "1  00288569-f021-11e5-801b-6c92bf21cf9b                1         1  50606201   \n",
       "2  0035b6d4-d1a6-41ff-ace1-9b8e44dd7c03                1         2  51494422   \n",
       "3  0057c401-a259-11e6-9007-ecf4bbdeffbc                1         1  50557031   \n",
       "4  00659081-685b-44b5-a249-f8fde5b472f6                2         1  51967862   \n",
       "\n",
       "            apply_date  lend_amount  lend_period  view_days  view_no  \\\n",
       "0  2018-06-01 00:00:00      50000.0            6         21      112   \n",
       "1  2018-05-15 00:00:00      10000.0            9          4       15   \n",
       "2  2018-05-26 00:00:00       2000.0           12          2        7   \n",
       "3  2018-05-14 00:00:00       3000.0           12          1       11   \n",
       "4  2018-06-02 00:00:00      15000.0            6          2       11   \n",
       "\n",
       "   30days_overdue_times  60days_overdue_times  \n",
       "0                     0                     0  \n",
       "1                     2                     0  \n",
       "2                     0                     0  \n",
       "3                     2                     1  \n",
       "4                     4                     3  "
      ]
     },
     "execution_count": 19,
     "metadata": {},
     "output_type": "execute_result"
    }
   ],
   "source": [
    "# lend_transaction.head()\n",
    "loan_train1.head()\n",
    "# loan_test.head()"
   ]
  },
  {
   "cell_type": "code",
   "execution_count": 20,
   "metadata": {},
   "outputs": [],
   "source": [
    "# 处理日期，不能重复运行\n",
    "def process_date(df):\n",
    "    date = str(df['apply_date'])[5:10].replace('-','')\n",
    "    return int(date)\n",
    "\n",
    "loan_train['apply_date'] = loan_train[['apply_date']].apply(process_date, axis=1)\n",
    "loan_test['apply_date'] = loan_test[['apply_date']].apply(process_date, axis=1)\n",
    "\n",
    "\n",
    "lend_transaction['pt'] = lend_transaction['pt'] % 1000"
   ]
  },
  {
   "cell_type": "code",
   "execution_count": 21,
   "metadata": {},
   "outputs": [
    {
     "data": {
      "text/html": [
       "<div>\n",
       "<style scoped>\n",
       "    .dataframe tbody tr th:only-of-type {\n",
       "        vertical-align: middle;\n",
       "    }\n",
       "\n",
       "    .dataframe tbody tr th {\n",
       "        vertical-align: top;\n",
       "    }\n",
       "\n",
       "    .dataframe thead th {\n",
       "        text-align: right;\n",
       "    }\n",
       "</style>\n",
       "<table border=\"1\" class=\"dataframe\">\n",
       "  <thead>\n",
       "    <tr style=\"text-align: right;\">\n",
       "      <th></th>\n",
       "      <th>apply_date</th>\n",
       "    </tr>\n",
       "  </thead>\n",
       "  <tbody>\n",
       "    <tr>\n",
       "      <th>263</th>\n",
       "      <td>501</td>\n",
       "    </tr>\n",
       "    <tr>\n",
       "      <th>294</th>\n",
       "      <td>501</td>\n",
       "    </tr>\n",
       "    <tr>\n",
       "      <th>202</th>\n",
       "      <td>501</td>\n",
       "    </tr>\n",
       "    <tr>\n",
       "      <th>189</th>\n",
       "      <td>501</td>\n",
       "    </tr>\n",
       "    <tr>\n",
       "      <th>321</th>\n",
       "      <td>501</td>\n",
       "    </tr>\n",
       "    <tr>\n",
       "      <th>...</th>\n",
       "      <td>...</td>\n",
       "    </tr>\n",
       "    <tr>\n",
       "      <th>316</th>\n",
       "      <td>615</td>\n",
       "    </tr>\n",
       "    <tr>\n",
       "      <th>22</th>\n",
       "      <td>615</td>\n",
       "    </tr>\n",
       "    <tr>\n",
       "      <th>199</th>\n",
       "      <td>615</td>\n",
       "    </tr>\n",
       "    <tr>\n",
       "      <th>213</th>\n",
       "      <td>615</td>\n",
       "    </tr>\n",
       "    <tr>\n",
       "      <th>308</th>\n",
       "      <td>615</td>\n",
       "    </tr>\n",
       "  </tbody>\n",
       "</table>\n",
       "<p>515 rows × 1 columns</p>\n",
       "</div>"
      ],
      "text/plain": [
       "     apply_date\n",
       "263         501\n",
       "294         501\n",
       "202         501\n",
       "189         501\n",
       "321         501\n",
       "..          ...\n",
       "316         615\n",
       "22          615\n",
       "199         615\n",
       "213         615\n",
       "308         615\n",
       "\n",
       "[515 rows x 1 columns]"
      ]
     },
     "execution_count": 21,
     "metadata": {},
     "output_type": "execute_result"
    }
   ],
   "source": [
    "temp = loan_train[['apply_date']]\n",
    "temp.sort_values('apply_date') # 训练集申请日期在20180501-20180615\n",
    "\n",
    "temp1 = loan_test[['apply_date']]\n",
    "temp1.sort_values('apply_date') # 测试集申请日期在20180501-20180615"
   ]
  },
  {
   "cell_type": "code",
   "execution_count": 22,
   "metadata": {},
   "outputs": [
    {
     "data": {
      "text/html": [
       "<div>\n",
       "<style scoped>\n",
       "    .dataframe tbody tr th:only-of-type {\n",
       "        vertical-align: middle;\n",
       "    }\n",
       "\n",
       "    .dataframe tbody tr th {\n",
       "        vertical-align: top;\n",
       "    }\n",
       "\n",
       "    .dataframe thead th {\n",
       "        text-align: right;\n",
       "    }\n",
       "</style>\n",
       "<table border=\"1\" class=\"dataframe\">\n",
       "  <thead>\n",
       "    <tr style=\"text-align: right;\">\n",
       "      <th></th>\n",
       "      <th>pt</th>\n",
       "    </tr>\n",
       "  </thead>\n",
       "  <tbody>\n",
       "    <tr>\n",
       "      <th>954647</th>\n",
       "      <td>401</td>\n",
       "    </tr>\n",
       "    <tr>\n",
       "      <th>1927801</th>\n",
       "      <td>401</td>\n",
       "    </tr>\n",
       "    <tr>\n",
       "      <th>1927802</th>\n",
       "      <td>401</td>\n",
       "    </tr>\n",
       "    <tr>\n",
       "      <th>1927803</th>\n",
       "      <td>401</td>\n",
       "    </tr>\n",
       "    <tr>\n",
       "      <th>1927804</th>\n",
       "      <td>401</td>\n",
       "    </tr>\n",
       "    <tr>\n",
       "      <th>...</th>\n",
       "      <td>...</td>\n",
       "    </tr>\n",
       "    <tr>\n",
       "      <th>2666839</th>\n",
       "      <td>615</td>\n",
       "    </tr>\n",
       "    <tr>\n",
       "      <th>2666838</th>\n",
       "      <td>615</td>\n",
       "    </tr>\n",
       "    <tr>\n",
       "      <th>2666837</th>\n",
       "      <td>615</td>\n",
       "    </tr>\n",
       "    <tr>\n",
       "      <th>2666850</th>\n",
       "      <td>615</td>\n",
       "    </tr>\n",
       "    <tr>\n",
       "      <th>952460</th>\n",
       "      <td>615</td>\n",
       "    </tr>\n",
       "  </tbody>\n",
       "</table>\n",
       "<p>3590059 rows × 1 columns</p>\n",
       "</div>"
      ],
      "text/plain": [
       "          pt\n",
       "954647   401\n",
       "1927801  401\n",
       "1927802  401\n",
       "1927803  401\n",
       "1927804  401\n",
       "...      ...\n",
       "2666839  615\n",
       "2666838  615\n",
       "2666837  615\n",
       "2666850  615\n",
       "952460   615\n",
       "\n",
       "[3590059 rows x 1 columns]"
      ]
     },
     "execution_count": 22,
     "metadata": {},
     "output_type": "execute_result"
    }
   ],
   "source": [
    "temp = lend_transaction[['pt']]\n",
    "temp.sort_values('pt') # 20180401-20180615之间的交易记录"
   ]
  },
  {
   "cell_type": "code",
   "execution_count": 23,
   "metadata": {},
   "outputs": [],
   "source": [
    "# 首先提取出训练集和测试集中所有商户及其最早的申请日期\n",
    "merchant_date = loan_train[['merchant_id', 'apply_date']].append(loan_test[['merchant_id', 'apply_date']]).sort_values('merchant_id').reset_index(drop=True)\n",
    "merchant_date = merchant_date.groupby('merchant_id').min().reset_index() # 1715-1681 = \n",
    "\n",
    "\n",
    "# 然后和lend_transaction按照merchant_id做join，比较pt与apply_date，删除pt大于apply_date的流水记录\n",
    "lend_transaction = lend_transaction.join(merchant_date.set_index('merchant_id'), on='merchant_id',how='outer').reset_index(drop=True)"
   ]
  },
  {
   "cell_type": "code",
   "execution_count": 24,
   "metadata": {},
   "outputs": [
    {
     "data": {
      "text/plain": [
       "501    204567\n",
       "508    167754\n",
       "510    154511\n",
       "504    129653\n",
       "512    123532\n",
       "514    121070\n",
       "529    115550\n",
       "503    114798\n",
       "606    112071\n",
       "516    109394\n",
       "604    106954\n",
       "507    106752\n",
       "601     98714\n",
       "502     97912\n",
       "522     96010\n",
       "603     95500\n",
       "608     91157\n",
       "506     84560\n",
       "513     81030\n",
       "611     80081\n",
       "613     78589\n",
       "505     74284\n",
       "531     73661\n",
       "521     71465\n",
       "517     71386\n",
       "525     69178\n",
       "615     65018\n",
       "515     62891\n",
       "602     61387\n",
       "518     59178\n",
       "520     58373\n",
       "523     56409\n",
       "511     55804\n",
       "612     50090\n",
       "607     50000\n",
       "528     44627\n",
       "519     39712\n",
       "610     36619\n",
       "509     34432\n",
       "530     34416\n",
       "524     31656\n",
       "526     30994\n",
       "527     26224\n",
       "609     22853\n",
       "605     20937\n",
       "614     18380\n",
       "Name: apply_date, dtype: int64"
      ]
     },
     "execution_count": 24,
     "metadata": {},
     "output_type": "execute_result"
    }
   ],
   "source": [
    "lend_transaction['apply_date'].value_counts()"
   ]
  },
  {
   "cell_type": "code",
   "execution_count": null,
   "metadata": {},
   "outputs": [],
   "source": []
  },
  {
   "cell_type": "code",
   "execution_count": null,
   "metadata": {},
   "outputs": [],
   "source": []
  },
  {
   "cell_type": "code",
   "execution_count": null,
   "metadata": {},
   "outputs": [],
   "source": []
  },
  {
   "cell_type": "code",
   "execution_count": null,
   "metadata": {},
   "outputs": [],
   "source": []
  },
  {
   "cell_type": "code",
   "execution_count": null,
   "metadata": {},
   "outputs": [],
   "source": []
  },
  {
   "cell_type": "code",
   "execution_count": null,
   "metadata": {},
   "outputs": [],
   "source": []
  },
  {
   "cell_type": "markdown",
   "metadata": {
    "heading_collapsed": true
   },
   "source": [
    "## 优惠——lend_transaction"
   ]
  },
  {
   "cell_type": "code",
   "execution_count": 25,
   "metadata": {
    "hidden": true
   },
   "outputs": [],
   "source": [
    "# 收钱吧优惠 original_amount - effective_amount - hongbao_wosai_mch - discount_wosai_mch\n",
    "lend_transaction['discount_of_sqb'] = lend_transaction['original_amount'] - lend_transaction['effective_amount']\n",
    "# lend_transaction.head()\n",
    "# lend_transaction[lend_transaction['discount_of_sqb'] != 0].shape # 2450条有收钱吧优惠的流水\n",
    "\n",
    "\n",
    "# 收款通道优惠(所有优惠之和) hongbao_channel+discount_channel+discount_channel_mch+ hongbao_channel_mch+discount_channel_mch_top_up+hongbao_channel_mch_top_up\n",
    "lend_transaction['discount_of_channel'] = lend_transaction['hongbao_channel'] + lend_transaction['discount_channel'] + lend_transaction['discount_channel_mch'] + lend_transaction['discount_channel_mch_top_up']\n",
    "# lend_transaction.head()\n",
    "# lend_transaction[lend_transaction['discount_of_channel'] != 0].shape     # 303867条有收款通道优惠的流水\n",
    "\n",
    "\n",
    "# 收款通道机构优惠 hongbao_channel + discount_channel 觉得此项优惠和收款通道优惠重复了，反而是上面的优惠记录更能代表优惠的程度(所有优惠之和)\n",
    "lend_transaction['discount_of_organi'] = lend_transaction['hongbao_channel'] + lend_transaction['discount_channel']\n",
    "# lend_transaction.head()\n",
    "# lend_transaction[lend_transaction['discount_of_organi'] != 0].shape     # 287963条有机构优惠的流水\n",
    "\n",
    "\n",
    "# 收款通道商户免充值优惠 discount_channel_mch + hongbao_channel_mch\n",
    "# 收款通道商户充值优惠 discount_channel_mch_top_up + hongbao_channel_mch_top_up\n",
    "lend_transaction['discount_of_mch'] = lend_transaction['discount_channel_mch']\n",
    "lend_transaction['discount_of_top'] = lend_transaction['discount_channel_mch_top_up']"
   ]
  },
  {
   "cell_type": "code",
   "execution_count": 26,
   "metadata": {
    "hidden": true
   },
   "outputs": [
    {
     "name": "stdout",
     "output_type": "stream",
     "text": [
      "<class 'pandas.core.frame.DataFrame'>\n",
      "RangeIndex: 3590133 entries, 0 to 3590132\n",
      "Data columns (total 27 columns):\n",
      "type                           float64\n",
      "status                         float64\n",
      "store_id                       object\n",
      "merchant_id                    object\n",
      "terminal_id                    object\n",
      "payer_uid                      object\n",
      "pay_way                        float64\n",
      "sub_pay_way                    float64\n",
      "effective_amount               float64\n",
      "original_amount                float64\n",
      "bankcard_credit                float64\n",
      "bankcard_debit                 float64\n",
      "wallet_weixin                  float64\n",
      "wallet_alipay                  float64\n",
      "alipay_huabei                  float64\n",
      "alipay_point                   float64\n",
      "discount_channel               float64\n",
      "discount_channel_mch           float64\n",
      "discount_channel_mch_top_up    float64\n",
      "hongbao_channel                float64\n",
      "pt                             float64\n",
      "apply_date                     int64\n",
      "discount_of_sqb                float64\n",
      "discount_of_channel            float64\n",
      "discount_of_organi             float64\n",
      "discount_of_mch                float64\n",
      "discount_of_top                float64\n",
      "dtypes: float64(22), int64(1), object(4)\n",
      "memory usage: 739.5+ MB\n"
     ]
    },
    {
     "data": {
      "text/html": [
       "<div>\n",
       "<style scoped>\n",
       "    .dataframe tbody tr th:only-of-type {\n",
       "        vertical-align: middle;\n",
       "    }\n",
       "\n",
       "    .dataframe tbody tr th {\n",
       "        vertical-align: top;\n",
       "    }\n",
       "\n",
       "    .dataframe thead th {\n",
       "        text-align: right;\n",
       "    }\n",
       "</style>\n",
       "<table border=\"1\" class=\"dataframe\">\n",
       "  <thead>\n",
       "    <tr style=\"text-align: right;\">\n",
       "      <th></th>\n",
       "      <th>type</th>\n",
       "      <th>status</th>\n",
       "      <th>store_id</th>\n",
       "      <th>merchant_id</th>\n",
       "      <th>terminal_id</th>\n",
       "      <th>payer_uid</th>\n",
       "      <th>pay_way</th>\n",
       "      <th>sub_pay_way</th>\n",
       "      <th>effective_amount</th>\n",
       "      <th>original_amount</th>\n",
       "      <th>...</th>\n",
       "      <th>discount_channel_mch</th>\n",
       "      <th>discount_channel_mch_top_up</th>\n",
       "      <th>hongbao_channel</th>\n",
       "      <th>pt</th>\n",
       "      <th>apply_date</th>\n",
       "      <th>discount_of_sqb</th>\n",
       "      <th>discount_of_channel</th>\n",
       "      <th>discount_of_organi</th>\n",
       "      <th>discount_of_mch</th>\n",
       "      <th>discount_of_top</th>\n",
       "    </tr>\n",
       "  </thead>\n",
       "  <tbody>\n",
       "    <tr>\n",
       "      <th>0</th>\n",
       "      <td>30.0</td>\n",
       "      <td>2001.0</td>\n",
       "      <td>34de32a0-01a9-de4e-60bb-b39aee4535e7</td>\n",
       "      <td>c7f13959-b300-11e5-9987-6c92bf21cf9b</td>\n",
       "      <td>4c32468f-ce3b-44cc-af60-98569f936233</td>\n",
       "      <td>\\N</td>\n",
       "      <td>2.0</td>\n",
       "      <td>3.0</td>\n",
       "      <td>1690.0</td>\n",
       "      <td>1690.0</td>\n",
       "      <td>...</td>\n",
       "      <td>0.0</td>\n",
       "      <td>0.0</td>\n",
       "      <td>0.0</td>\n",
       "      <td>422.0</td>\n",
       "      <td>501</td>\n",
       "      <td>0.0</td>\n",
       "      <td>0.0</td>\n",
       "      <td>0.0</td>\n",
       "      <td>0.0</td>\n",
       "      <td>0.0</td>\n",
       "    </tr>\n",
       "    <tr>\n",
       "      <th>1</th>\n",
       "      <td>30.0</td>\n",
       "      <td>2000.0</td>\n",
       "      <td>34de32a0-01a9-de4e-60bb-b39aee4535e7</td>\n",
       "      <td>c7f13959-b300-11e5-9987-6c92bf21cf9b</td>\n",
       "      <td>fcf91574-347d-41f9-9643-df705a5d9de4</td>\n",
       "      <td>oGFfks9sbbiai1gwxgymNR27ERWA</td>\n",
       "      <td>3.0</td>\n",
       "      <td>1.0</td>\n",
       "      <td>440.0</td>\n",
       "      <td>440.0</td>\n",
       "      <td>...</td>\n",
       "      <td>0.0</td>\n",
       "      <td>0.0</td>\n",
       "      <td>0.0</td>\n",
       "      <td>422.0</td>\n",
       "      <td>501</td>\n",
       "      <td>0.0</td>\n",
       "      <td>0.0</td>\n",
       "      <td>0.0</td>\n",
       "      <td>0.0</td>\n",
       "      <td>0.0</td>\n",
       "    </tr>\n",
       "    <tr>\n",
       "      <th>2</th>\n",
       "      <td>30.0</td>\n",
       "      <td>2000.0</td>\n",
       "      <td>34de32a0-01a9-de4e-60bb-b39aee4535e7</td>\n",
       "      <td>c7f13959-b300-11e5-9987-6c92bf21cf9b</td>\n",
       "      <td>fcf91574-347d-41f9-9643-df705a5d9de4</td>\n",
       "      <td>2088502916543175</td>\n",
       "      <td>2.0</td>\n",
       "      <td>1.0</td>\n",
       "      <td>1040.0</td>\n",
       "      <td>1040.0</td>\n",
       "      <td>...</td>\n",
       "      <td>0.0</td>\n",
       "      <td>0.0</td>\n",
       "      <td>2.0</td>\n",
       "      <td>422.0</td>\n",
       "      <td>501</td>\n",
       "      <td>0.0</td>\n",
       "      <td>2.0</td>\n",
       "      <td>2.0</td>\n",
       "      <td>0.0</td>\n",
       "      <td>0.0</td>\n",
       "    </tr>\n",
       "    <tr>\n",
       "      <th>3</th>\n",
       "      <td>30.0</td>\n",
       "      <td>2000.0</td>\n",
       "      <td>34de32a0-01a9-de4e-60bb-b39aee4535e7</td>\n",
       "      <td>c7f13959-b300-11e5-9987-6c92bf21cf9b</td>\n",
       "      <td>fcf91574-347d-41f9-9643-df705a5d9de4</td>\n",
       "      <td>2088012453563434</td>\n",
       "      <td>2.0</td>\n",
       "      <td>1.0</td>\n",
       "      <td>600.0</td>\n",
       "      <td>600.0</td>\n",
       "      <td>...</td>\n",
       "      <td>0.0</td>\n",
       "      <td>0.0</td>\n",
       "      <td>0.0</td>\n",
       "      <td>422.0</td>\n",
       "      <td>501</td>\n",
       "      <td>0.0</td>\n",
       "      <td>0.0</td>\n",
       "      <td>0.0</td>\n",
       "      <td>0.0</td>\n",
       "      <td>0.0</td>\n",
       "    </tr>\n",
       "    <tr>\n",
       "      <th>4</th>\n",
       "      <td>30.0</td>\n",
       "      <td>2000.0</td>\n",
       "      <td>34de32a0-01a9-de4e-60bb-b39aee4535e7</td>\n",
       "      <td>c7f13959-b300-11e5-9987-6c92bf21cf9b</td>\n",
       "      <td>4c32468f-ce3b-44cc-af60-98569f936233</td>\n",
       "      <td>2088912272660212</td>\n",
       "      <td>2.0</td>\n",
       "      <td>3.0</td>\n",
       "      <td>860.0</td>\n",
       "      <td>860.0</td>\n",
       "      <td>...</td>\n",
       "      <td>0.0</td>\n",
       "      <td>0.0</td>\n",
       "      <td>0.0</td>\n",
       "      <td>422.0</td>\n",
       "      <td>501</td>\n",
       "      <td>0.0</td>\n",
       "      <td>0.0</td>\n",
       "      <td>0.0</td>\n",
       "      <td>0.0</td>\n",
       "      <td>0.0</td>\n",
       "    </tr>\n",
       "  </tbody>\n",
       "</table>\n",
       "<p>5 rows × 27 columns</p>\n",
       "</div>"
      ],
      "text/plain": [
       "   type  status                              store_id  \\\n",
       "0  30.0  2001.0  34de32a0-01a9-de4e-60bb-b39aee4535e7   \n",
       "1  30.0  2000.0  34de32a0-01a9-de4e-60bb-b39aee4535e7   \n",
       "2  30.0  2000.0  34de32a0-01a9-de4e-60bb-b39aee4535e7   \n",
       "3  30.0  2000.0  34de32a0-01a9-de4e-60bb-b39aee4535e7   \n",
       "4  30.0  2000.0  34de32a0-01a9-de4e-60bb-b39aee4535e7   \n",
       "\n",
       "                            merchant_id                           terminal_id  \\\n",
       "0  c7f13959-b300-11e5-9987-6c92bf21cf9b  4c32468f-ce3b-44cc-af60-98569f936233   \n",
       "1  c7f13959-b300-11e5-9987-6c92bf21cf9b  fcf91574-347d-41f9-9643-df705a5d9de4   \n",
       "2  c7f13959-b300-11e5-9987-6c92bf21cf9b  fcf91574-347d-41f9-9643-df705a5d9de4   \n",
       "3  c7f13959-b300-11e5-9987-6c92bf21cf9b  fcf91574-347d-41f9-9643-df705a5d9de4   \n",
       "4  c7f13959-b300-11e5-9987-6c92bf21cf9b  4c32468f-ce3b-44cc-af60-98569f936233   \n",
       "\n",
       "                      payer_uid  pay_way  sub_pay_way  effective_amount  \\\n",
       "0                            \\N      2.0          3.0            1690.0   \n",
       "1  oGFfks9sbbiai1gwxgymNR27ERWA      3.0          1.0             440.0   \n",
       "2              2088502916543175      2.0          1.0            1040.0   \n",
       "3              2088012453563434      2.0          1.0             600.0   \n",
       "4              2088912272660212      2.0          3.0             860.0   \n",
       "\n",
       "   original_amount  ...  discount_channel_mch  discount_channel_mch_top_up  \\\n",
       "0           1690.0  ...                   0.0                          0.0   \n",
       "1            440.0  ...                   0.0                          0.0   \n",
       "2           1040.0  ...                   0.0                          0.0   \n",
       "3            600.0  ...                   0.0                          0.0   \n",
       "4            860.0  ...                   0.0                          0.0   \n",
       "\n",
       "   hongbao_channel     pt  apply_date  discount_of_sqb  discount_of_channel  \\\n",
       "0              0.0  422.0         501              0.0                  0.0   \n",
       "1              0.0  422.0         501              0.0                  0.0   \n",
       "2              2.0  422.0         501              0.0                  2.0   \n",
       "3              0.0  422.0         501              0.0                  0.0   \n",
       "4              0.0  422.0         501              0.0                  0.0   \n",
       "\n",
       "   discount_of_organi  discount_of_mch  discount_of_top  \n",
       "0                 0.0              0.0              0.0  \n",
       "1                 0.0              0.0              0.0  \n",
       "2                 2.0              0.0              0.0  \n",
       "3                 0.0              0.0              0.0  \n",
       "4                 0.0              0.0              0.0  \n",
       "\n",
       "[5 rows x 27 columns]"
      ]
     },
     "execution_count": 26,
     "metadata": {},
     "output_type": "execute_result"
    }
   ],
   "source": [
    "lend_transaction.info()\n",
    "lend_transaction.head()"
   ]
  },
  {
   "cell_type": "markdown",
   "metadata": {
    "hidden": true
   },
   "source": []
  },
  {
   "cell_type": "code",
   "execution_count": null,
   "metadata": {
    "hidden": true
   },
   "outputs": [],
   "source": []
  },
  {
   "cell_type": "markdown",
   "metadata": {
    "heading_collapsed": true
   },
   "source": [
    "## 月流水金额——t_month"
   ]
  },
  {
   "cell_type": "code",
   "execution_count": 27,
   "metadata": {
    "hidden": true
   },
   "outputs": [],
   "source": [
    "# 求和商户月流水金额\n",
    "\n",
    "transa_4 = lend_transaction[(lend_transaction['pt']//100)%10 == 4]\n",
    "transa_5 = lend_transaction[(lend_transaction['pt']//100)%10 == 5]\n",
    "transa_6 = lend_transaction[(lend_transaction['pt']//100)%10 == 6]\n",
    "\n",
    "# transa_4.size # size不返回数据记录个数。shape才是!\n",
    "# transa_4.shape[0] + transa_5.shape[0] + transa_6.shape[0] # 3590059\n",
    "# transa_4.shape[0] # 1337669\n",
    "# transa_5.shape[0] # 1533588\n",
    "# transa_6.shape[0] # 718802\n",
    "\n",
    "transa_4_merchant = transa_4['effective_amount'].groupby(transa_4['merchant_id']).sum()\n",
    "transa_4_merchant.shape # 1316\n",
    "transa_5_merchant = transa_5['effective_amount'].groupby(transa_5['merchant_id']).sum()\n",
    "transa_5_merchant.shape # 1511\n",
    "transa_6_merchant = transa_6['effective_amount'].groupby(transa_6['merchant_id']).sum()\n",
    "transa_6_merchant.shape # 1441\n",
    "\n",
    "t4 = pd.DataFrame(transa_4_merchant).reset_index().rename(columns = {'effective_amount':'amount4'})\n",
    "t5 = pd.DataFrame(transa_5_merchant).reset_index().rename(columns = {'effective_amount':'amount5'})\n",
    "t6 = pd.DataFrame(transa_6_merchant).reset_index().rename(columns = {'effective_amount':'amount6'})\n"
   ]
  },
  {
   "cell_type": "code",
   "execution_count": 28,
   "metadata": {
    "hidden": true
   },
   "outputs": [],
   "source": [
    "# t4.head()"
   ]
  },
  {
   "cell_type": "code",
   "execution_count": 29,
   "metadata": {
    "hidden": true
   },
   "outputs": [],
   "source": [
    "t_month = t4.join(t5.set_index('merchant_id'), on='merchant_id', how='outer').join(t6.set_index('merchant_id'), on='merchant_id', how='outer')\n",
    "\n",
    "t_month = t_month.set_index('merchant_id').reset_index()\n",
    "\n",
    "t_month['all_amount'] = t_month.sum(axis=1)\n",
    "\n",
    "# t_month.shape # 1607，和一开始的lend_transaction商户个数相同，未缺失商户"
   ]
  },
  {
   "cell_type": "code",
   "execution_count": 30,
   "metadata": {
    "hidden": true
   },
   "outputs": [
    {
     "data": {
      "text/html": [
       "<div>\n",
       "<style scoped>\n",
       "    .dataframe tbody tr th:only-of-type {\n",
       "        vertical-align: middle;\n",
       "    }\n",
       "\n",
       "    .dataframe tbody tr th {\n",
       "        vertical-align: top;\n",
       "    }\n",
       "\n",
       "    .dataframe thead th {\n",
       "        text-align: right;\n",
       "    }\n",
       "</style>\n",
       "<table border=\"1\" class=\"dataframe\">\n",
       "  <thead>\n",
       "    <tr style=\"text-align: right;\">\n",
       "      <th></th>\n",
       "      <th>merchant_id</th>\n",
       "      <th>amount4</th>\n",
       "      <th>amount5</th>\n",
       "      <th>amount6</th>\n",
       "      <th>all_amount</th>\n",
       "    </tr>\n",
       "  </thead>\n",
       "  <tbody>\n",
       "    <tr>\n",
       "      <th>0</th>\n",
       "      <td>000956b7-a8a0-11e6-9007-ecf4bbdeffbc</td>\n",
       "      <td>4364661.0</td>\n",
       "      <td>16703963.0</td>\n",
       "      <td>9824599.0</td>\n",
       "      <td>30893223.0</td>\n",
       "    </tr>\n",
       "    <tr>\n",
       "      <th>1</th>\n",
       "      <td>00288569-f021-11e5-801b-6c92bf21cf9b</td>\n",
       "      <td>798700.0</td>\n",
       "      <td>7255590.0</td>\n",
       "      <td>493600.0</td>\n",
       "      <td>8547890.0</td>\n",
       "    </tr>\n",
       "    <tr>\n",
       "      <th>2</th>\n",
       "      <td>008b5b6d-63f5-4c39-878f-32b0db764f22</td>\n",
       "      <td>48201.0</td>\n",
       "      <td>1515300.0</td>\n",
       "      <td>734710.0</td>\n",
       "      <td>2298211.0</td>\n",
       "    </tr>\n",
       "    <tr>\n",
       "      <th>3</th>\n",
       "      <td>009de73c-b7c0-4bb8-b786-fffb401b3cf0</td>\n",
       "      <td>211100.0</td>\n",
       "      <td>247900.0</td>\n",
       "      <td>830000.0</td>\n",
       "      <td>1289000.0</td>\n",
       "    </tr>\n",
       "    <tr>\n",
       "      <th>4</th>\n",
       "      <td>00ab6439-5b1b-423b-90b8-6023220f9793</td>\n",
       "      <td>237330.0</td>\n",
       "      <td>77332.0</td>\n",
       "      <td>1950.0</td>\n",
       "      <td>316612.0</td>\n",
       "    </tr>\n",
       "    <tr>\n",
       "      <th>...</th>\n",
       "      <td>...</td>\n",
       "      <td>...</td>\n",
       "      <td>...</td>\n",
       "      <td>...</td>\n",
       "      <td>...</td>\n",
       "    </tr>\n",
       "    <tr>\n",
       "      <th>1602</th>\n",
       "      <td>dc2ab399-31ac-4f50-b2e1-2bc2a889a118</td>\n",
       "      <td>NaN</td>\n",
       "      <td>NaN</td>\n",
       "      <td>2262820.0</td>\n",
       "      <td>2262820.0</td>\n",
       "    </tr>\n",
       "    <tr>\n",
       "      <th>1603</th>\n",
       "      <td>e8a53924-14cc-4452-b916-158dd6e63a21</td>\n",
       "      <td>NaN</td>\n",
       "      <td>NaN</td>\n",
       "      <td>122881.0</td>\n",
       "      <td>122881.0</td>\n",
       "    </tr>\n",
       "    <tr>\n",
       "      <th>1604</th>\n",
       "      <td>f4769634-f293-11e6-9007-ecf4bbdeffbc</td>\n",
       "      <td>NaN</td>\n",
       "      <td>NaN</td>\n",
       "      <td>310600.0</td>\n",
       "      <td>310600.0</td>\n",
       "    </tr>\n",
       "    <tr>\n",
       "      <th>1605</th>\n",
       "      <td>f608f9e7-9dbf-4767-aaf5-9f8e76b80c39</td>\n",
       "      <td>NaN</td>\n",
       "      <td>NaN</td>\n",
       "      <td>1386429.0</td>\n",
       "      <td>1386429.0</td>\n",
       "    </tr>\n",
       "    <tr>\n",
       "      <th>1606</th>\n",
       "      <td>fd48e7a3-f7a0-4005-b8e9-15a4b2b2eb98</td>\n",
       "      <td>NaN</td>\n",
       "      <td>NaN</td>\n",
       "      <td>251612.0</td>\n",
       "      <td>251612.0</td>\n",
       "    </tr>\n",
       "  </tbody>\n",
       "</table>\n",
       "<p>1607 rows × 5 columns</p>\n",
       "</div>"
      ],
      "text/plain": [
       "                               merchant_id    amount4     amount5    amount6  \\\n",
       "0     000956b7-a8a0-11e6-9007-ecf4bbdeffbc  4364661.0  16703963.0  9824599.0   \n",
       "1     00288569-f021-11e5-801b-6c92bf21cf9b   798700.0   7255590.0   493600.0   \n",
       "2     008b5b6d-63f5-4c39-878f-32b0db764f22    48201.0   1515300.0   734710.0   \n",
       "3     009de73c-b7c0-4bb8-b786-fffb401b3cf0   211100.0    247900.0   830000.0   \n",
       "4     00ab6439-5b1b-423b-90b8-6023220f9793   237330.0     77332.0     1950.0   \n",
       "...                                    ...        ...         ...        ...   \n",
       "1602  dc2ab399-31ac-4f50-b2e1-2bc2a889a118        NaN         NaN  2262820.0   \n",
       "1603  e8a53924-14cc-4452-b916-158dd6e63a21        NaN         NaN   122881.0   \n",
       "1604  f4769634-f293-11e6-9007-ecf4bbdeffbc        NaN         NaN   310600.0   \n",
       "1605  f608f9e7-9dbf-4767-aaf5-9f8e76b80c39        NaN         NaN  1386429.0   \n",
       "1606  fd48e7a3-f7a0-4005-b8e9-15a4b2b2eb98        NaN         NaN   251612.0   \n",
       "\n",
       "      all_amount  \n",
       "0     30893223.0  \n",
       "1      8547890.0  \n",
       "2      2298211.0  \n",
       "3      1289000.0  \n",
       "4       316612.0  \n",
       "...          ...  \n",
       "1602   2262820.0  \n",
       "1603    122881.0  \n",
       "1604    310600.0  \n",
       "1605   1386429.0  \n",
       "1606    251612.0  \n",
       "\n",
       "[1607 rows x 5 columns]"
      ]
     },
     "execution_count": 30,
     "metadata": {},
     "output_type": "execute_result"
    }
   ],
   "source": [
    "t_month"
   ]
  },
  {
   "cell_type": "markdown",
   "metadata": {
    "heading_collapsed": true
   },
   "source": [
    "## 折扣商户——t_discount"
   ]
  },
  {
   "cell_type": "code",
   "execution_count": 31,
   "metadata": {
    "hidden": true
   },
   "outputs": [],
   "source": [
    "# groupby后apply函数并不能真正的groupby, 丢弃\n",
    "# def discount_if(group):\n",
    "#     if group.if_discount.sum() > 0:\n",
    "#         group['discount'] = 1\n",
    "#     else:\n",
    "#         group['discount'] = 0\n",
    "#     return group\n",
    "# 是否折扣，丢弃该特征\n",
    "# lend_transaction['if_discount'] = (lend_transaction['discount_of_channel']>0).astype('int64')\n",
    "# lend_transaction.head()\n",
    "# t_discount = lend_transaction['if_discount'].groupby(lend_transaction['merchant_id']).sum().reset_index()\n",
    "# # t_discount.head()\n",
    "# t_mon_dis = t_month.join(pd.DataFrame(t_discount).set_index('merchant_id'),on='merchant_id',how='outer')\n",
    "# t_mon_dis\n",
    "\n",
    "\n",
    "# 折扣金额力度\n",
    "t_discount = lend_transaction['discount_channel'].groupby(lend_transaction['merchant_id']).sum().reset_index()\n",
    "\n",
    "t_mon_dis = t_month.join(t_discount.set_index('merchant_id'),on='merchant_id',how='outer')\n",
    "# t_mon_dis"
   ]
  },
  {
   "cell_type": "markdown",
   "metadata": {
    "heading_collapsed": true
   },
   "source": [
    "## 门店数量——t_store"
   ]
  },
  {
   "cell_type": "code",
   "execution_count": 32,
   "metadata": {
    "hidden": true
   },
   "outputs": [],
   "source": [
    "store = lend_transaction[['merchant_id', 'store_id']]\n",
    "# store.head()\n",
    "\n",
    "t_store = store.groupby('merchant_id').count().reset_index()\n",
    "\n",
    "t_mon_dis_store = t_mon_dis.join(t_store.set_index('merchant_id'),on='merchant_id',how='outer')\n",
    "t_mon_dis_store = t_mon_dis_store.rename(columns={'store_id':'store_count'})"
   ]
  },
  {
   "cell_type": "markdown",
   "metadata": {
    "heading_collapsed": true
   },
   "source": [
    "## 花呗支付——t_huabei"
   ]
  },
  {
   "cell_type": "code",
   "execution_count": 33,
   "metadata": {
    "hidden": true
   },
   "outputs": [],
   "source": [
    "t_huabei = lend_transaction['alipay_huabei'].groupby(lend_transaction['merchant_id']).sum().reset_index()\n",
    "# t_huabei"
   ]
  },
  {
   "cell_type": "code",
   "execution_count": 34,
   "metadata": {
    "hidden": true
   },
   "outputs": [],
   "source": [
    "t_feature1 = t_mon_dis_store.join(t_huabei.set_index('merchant_id'),on='merchant_id',how='outer')\n",
    "# t_feature1"
   ]
  },
  {
   "cell_type": "markdown",
   "metadata": {},
   "source": [
    "## 支付方式——t_pay"
   ]
  },
  {
   "cell_type": "code",
   "execution_count": 35,
   "metadata": {},
   "outputs": [],
   "source": [
    "# lend_transaction.head()\n",
    "\n",
    "# 3支付宝——2545014\n",
    "# 2微信——1040685\n",
    "# 6qq钱包——3725\n",
    "# 17银联二维码——633\n",
    "# 18翼支付——2\n",
    "# lend_transaction['pay_way'].value_counts()\n",
    "\n",
    "\n",
    "# 3wap支付——2535627\n",
    "# 1条码支付——1053075\n",
    "# 2二维码支付——1357\n",
    "# lend_transaction['sub_pay_way'].value_counts()\n",
    "\n",
    "\n",
    "# lend_transaction[['pay_way', 'sub_pay_way']].corr() # 。。。。练习corr函数的用法\n",
    "#                pay_way    sub_pay_way\n",
    "# pay_way       1.000000    0.067823\n",
    "# sub_pay_way   0.067823    1.000000\n",
    "\n",
    "# 用平均值来估计某个商户的顾客倾向于使用哪种方式，，好像不太恰当，没关系，后面反正没用到\n",
    "t_pay = lend_transaction['pay_way'].groupby(lend_transaction['merchant_id']).mean().reset_index()\n",
    "t_sub_pay = lend_transaction['sub_pay_way'].groupby(lend_transaction['merchant_id']).mean().reset_index()"
   ]
  },
  {
   "cell_type": "code",
   "execution_count": 36,
   "metadata": {},
   "outputs": [
    {
     "data": {
      "text/html": [
       "<div>\n",
       "<style scoped>\n",
       "    .dataframe tbody tr th:only-of-type {\n",
       "        vertical-align: middle;\n",
       "    }\n",
       "\n",
       "    .dataframe tbody tr th {\n",
       "        vertical-align: top;\n",
       "    }\n",
       "\n",
       "    .dataframe thead th {\n",
       "        text-align: right;\n",
       "    }\n",
       "</style>\n",
       "<table border=\"1\" class=\"dataframe\">\n",
       "  <thead>\n",
       "    <tr style=\"text-align: right;\">\n",
       "      <th></th>\n",
       "      <th>merchant_id</th>\n",
       "      <th>sub_pay_way</th>\n",
       "    </tr>\n",
       "  </thead>\n",
       "  <tbody>\n",
       "    <tr>\n",
       "      <th>0</th>\n",
       "      <td>000956b7-a8a0-11e6-9007-ecf4bbdeffbc</td>\n",
       "      <td>1.589249</td>\n",
       "    </tr>\n",
       "    <tr>\n",
       "      <th>1</th>\n",
       "      <td>00288569-f021-11e5-801b-6c92bf21cf9b</td>\n",
       "      <td>3.000000</td>\n",
       "    </tr>\n",
       "    <tr>\n",
       "      <th>2</th>\n",
       "      <td>0035b6d4-d1a6-41ff-ace1-9b8e44dd7c03</td>\n",
       "      <td>1.444444</td>\n",
       "    </tr>\n",
       "    <tr>\n",
       "      <th>3</th>\n",
       "      <td>0057c401-a259-11e6-9007-ecf4bbdeffbc</td>\n",
       "      <td>3.000000</td>\n",
       "    </tr>\n",
       "    <tr>\n",
       "      <th>4</th>\n",
       "      <td>00659081-685b-44b5-a249-f8fde5b472f6</td>\n",
       "      <td>2.947368</td>\n",
       "    </tr>\n",
       "  </tbody>\n",
       "</table>\n",
       "</div>"
      ],
      "text/plain": [
       "                            merchant_id  sub_pay_way\n",
       "0  000956b7-a8a0-11e6-9007-ecf4bbdeffbc     1.589249\n",
       "1  00288569-f021-11e5-801b-6c92bf21cf9b     3.000000\n",
       "2  0035b6d4-d1a6-41ff-ace1-9b8e44dd7c03     1.444444\n",
       "3  0057c401-a259-11e6-9007-ecf4bbdeffbc     3.000000\n",
       "4  00659081-685b-44b5-a249-f8fde5b472f6     2.947368"
      ]
     },
     "execution_count": 36,
     "metadata": {},
     "output_type": "execute_result"
    }
   ],
   "source": [
    "# t_pay.head()\n",
    "t_sub_pay.head() # sub_pay好像更能代表商户收款方式特点"
   ]
  },
  {
   "cell_type": "code",
   "execution_count": 37,
   "metadata": {},
   "outputs": [],
   "source": [
    "t_feature2 = t_feature1.join(t_pay.set_index('merchant_id'),on='merchant_id',how='outer').join(t_sub_pay.set_index('merchant_id'),on='merchant_id',how='outer')\n",
    "# t_feature2"
   ]
  },
  {
   "cell_type": "markdown",
   "metadata": {},
   "source": [
    "## 顾客用户——t_payer"
   ]
  },
  {
   "cell_type": "code",
   "execution_count": 38,
   "metadata": {},
   "outputs": [],
   "source": [
    "# lend_transaction\n",
    "\n",
    "# lend_transaction['payer_uid'].value_counts() # 185183用户缺失值，3590059个流水记录\n",
    "# ....\n",
    "# 。。。。\n",
    "# ////////\n",
    "# 算了不管用户了，告辞"
   ]
  },
  {
   "cell_type": "markdown",
   "metadata": {},
   "source": [
    "## 关于loan_train&test"
   ]
  },
  {
   "cell_type": "code",
   "execution_count": 39,
   "metadata": {},
   "outputs": [],
   "source": [
    "# loan_train.info()\n",
    "\n",
    "# loan_test.columns\n",
    "# loan_train.columns\n",
    "\n",
    "# loan_train['merchant_id'].value_counts() # train有19个重复商户\n",
    "# loan_test['merchant_id'].value_counts() # test有四个重复商户\n",
    "\n",
    "# loan_train['30days_overdue_times'].value_counts() # 745个0\n",
    "# loan_train['60days_overdue_times'].value_counts() # 873个0\n",
    "\n",
    "# loan_train['apply_date'].value_counts() # 暂时保留\n",
    "# loan_test['apply_date'].value_counts() # 暂时保留"
   ]
  },
  {
   "cell_type": "code",
   "execution_count": 40,
   "metadata": {},
   "outputs": [
    {
     "data": {
      "text/html": [
       "<div>\n",
       "<style scoped>\n",
       "    .dataframe tbody tr th:only-of-type {\n",
       "        vertical-align: middle;\n",
       "    }\n",
       "\n",
       "    .dataframe tbody tr th {\n",
       "        vertical-align: top;\n",
       "    }\n",
       "\n",
       "    .dataframe thead th {\n",
       "        text-align: right;\n",
       "    }\n",
       "</style>\n",
       "<table border=\"1\" class=\"dataframe\">\n",
       "  <thead>\n",
       "    <tr style=\"text-align: right;\">\n",
       "      <th></th>\n",
       "      <th>apply_id</th>\n",
       "      <th>apply_date</th>\n",
       "      <th>industry_level1</th>\n",
       "      <th>province</th>\n",
       "      <th>lend_amount</th>\n",
       "      <th>lend_period</th>\n",
       "      <th>view_days</th>\n",
       "      <th>view_no</th>\n",
       "      <th>30days_overdue_times</th>\n",
       "      <th>if_overdue</th>\n",
       "    </tr>\n",
       "  </thead>\n",
       "  <tbody>\n",
       "    <tr>\n",
       "      <th>apply_id</th>\n",
       "      <td>1.000000</td>\n",
       "      <td>0.925792</td>\n",
       "      <td>-0.013461</td>\n",
       "      <td>0.088636</td>\n",
       "      <td>0.046722</td>\n",
       "      <td>-0.064929</td>\n",
       "      <td>-0.025335</td>\n",
       "      <td>0.000207</td>\n",
       "      <td>0.164465</td>\n",
       "      <td>0.211247</td>\n",
       "    </tr>\n",
       "    <tr>\n",
       "      <th>apply_date</th>\n",
       "      <td>0.925792</td>\n",
       "      <td>1.000000</td>\n",
       "      <td>-0.010090</td>\n",
       "      <td>0.089714</td>\n",
       "      <td>0.050618</td>\n",
       "      <td>-0.031217</td>\n",
       "      <td>-0.017348</td>\n",
       "      <td>0.016116</td>\n",
       "      <td>0.143359</td>\n",
       "      <td>0.184427</td>\n",
       "    </tr>\n",
       "    <tr>\n",
       "      <th>industry_level1</th>\n",
       "      <td>-0.013461</td>\n",
       "      <td>-0.010090</td>\n",
       "      <td>1.000000</td>\n",
       "      <td>-0.061706</td>\n",
       "      <td>-0.111786</td>\n",
       "      <td>-0.007049</td>\n",
       "      <td>-0.090405</td>\n",
       "      <td>-0.082408</td>\n",
       "      <td>0.073453</td>\n",
       "      <td>0.107910</td>\n",
       "    </tr>\n",
       "    <tr>\n",
       "      <th>province</th>\n",
       "      <td>0.088636</td>\n",
       "      <td>0.089714</td>\n",
       "      <td>-0.061706</td>\n",
       "      <td>1.000000</td>\n",
       "      <td>0.002739</td>\n",
       "      <td>0.034172</td>\n",
       "      <td>-0.008346</td>\n",
       "      <td>-0.038154</td>\n",
       "      <td>-0.051328</td>\n",
       "      <td>-0.057203</td>\n",
       "    </tr>\n",
       "    <tr>\n",
       "      <th>lend_amount</th>\n",
       "      <td>0.046722</td>\n",
       "      <td>0.050618</td>\n",
       "      <td>-0.111786</td>\n",
       "      <td>0.002739</td>\n",
       "      <td>1.000000</td>\n",
       "      <td>-0.072617</td>\n",
       "      <td>0.281018</td>\n",
       "      <td>0.150070</td>\n",
       "      <td>-0.287964</td>\n",
       "      <td>-0.328627</td>\n",
       "    </tr>\n",
       "    <tr>\n",
       "      <th>lend_period</th>\n",
       "      <td>-0.064929</td>\n",
       "      <td>-0.031217</td>\n",
       "      <td>-0.007049</td>\n",
       "      <td>0.034172</td>\n",
       "      <td>-0.072617</td>\n",
       "      <td>1.000000</td>\n",
       "      <td>0.040479</td>\n",
       "      <td>0.085237</td>\n",
       "      <td>0.189959</td>\n",
       "      <td>0.057481</td>\n",
       "    </tr>\n",
       "    <tr>\n",
       "      <th>view_days</th>\n",
       "      <td>-0.025335</td>\n",
       "      <td>-0.017348</td>\n",
       "      <td>-0.090405</td>\n",
       "      <td>-0.008346</td>\n",
       "      <td>0.281018</td>\n",
       "      <td>0.040479</td>\n",
       "      <td>1.000000</td>\n",
       "      <td>0.642584</td>\n",
       "      <td>-0.155417</td>\n",
       "      <td>-0.193090</td>\n",
       "    </tr>\n",
       "    <tr>\n",
       "      <th>view_no</th>\n",
       "      <td>0.000207</td>\n",
       "      <td>0.016116</td>\n",
       "      <td>-0.082408</td>\n",
       "      <td>-0.038154</td>\n",
       "      <td>0.150070</td>\n",
       "      <td>0.085237</td>\n",
       "      <td>0.642584</td>\n",
       "      <td>1.000000</td>\n",
       "      <td>-0.118589</td>\n",
       "      <td>-0.152439</td>\n",
       "    </tr>\n",
       "    <tr>\n",
       "      <th>30days_overdue_times</th>\n",
       "      <td>0.164465</td>\n",
       "      <td>0.143359</td>\n",
       "      <td>0.073453</td>\n",
       "      <td>-0.051328</td>\n",
       "      <td>-0.287964</td>\n",
       "      <td>0.189959</td>\n",
       "      <td>-0.155417</td>\n",
       "      <td>-0.118589</td>\n",
       "      <td>1.000000</td>\n",
       "      <td>0.809367</td>\n",
       "    </tr>\n",
       "    <tr>\n",
       "      <th>if_overdue</th>\n",
       "      <td>0.211247</td>\n",
       "      <td>0.184427</td>\n",
       "      <td>0.107910</td>\n",
       "      <td>-0.057203</td>\n",
       "      <td>-0.328627</td>\n",
       "      <td>0.057481</td>\n",
       "      <td>-0.193090</td>\n",
       "      <td>-0.152439</td>\n",
       "      <td>0.809367</td>\n",
       "      <td>1.000000</td>\n",
       "    </tr>\n",
       "  </tbody>\n",
       "</table>\n",
       "</div>"
      ],
      "text/plain": [
       "                      apply_id  apply_date  industry_level1  province  \\\n",
       "apply_id              1.000000    0.925792        -0.013461  0.088636   \n",
       "apply_date            0.925792    1.000000        -0.010090  0.089714   \n",
       "industry_level1      -0.013461   -0.010090         1.000000 -0.061706   \n",
       "province              0.088636    0.089714        -0.061706  1.000000   \n",
       "lend_amount           0.046722    0.050618        -0.111786  0.002739   \n",
       "lend_period          -0.064929   -0.031217        -0.007049  0.034172   \n",
       "view_days            -0.025335   -0.017348        -0.090405 -0.008346   \n",
       "view_no               0.000207    0.016116        -0.082408 -0.038154   \n",
       "30days_overdue_times  0.164465    0.143359         0.073453 -0.051328   \n",
       "if_overdue            0.211247    0.184427         0.107910 -0.057203   \n",
       "\n",
       "                      lend_amount  lend_period  view_days   view_no  \\\n",
       "apply_id                 0.046722    -0.064929  -0.025335  0.000207   \n",
       "apply_date               0.050618    -0.031217  -0.017348  0.016116   \n",
       "industry_level1         -0.111786    -0.007049  -0.090405 -0.082408   \n",
       "province                 0.002739     0.034172  -0.008346 -0.038154   \n",
       "lend_amount              1.000000    -0.072617   0.281018  0.150070   \n",
       "lend_period             -0.072617     1.000000   0.040479  0.085237   \n",
       "view_days                0.281018     0.040479   1.000000  0.642584   \n",
       "view_no                  0.150070     0.085237   0.642584  1.000000   \n",
       "30days_overdue_times    -0.287964     0.189959  -0.155417 -0.118589   \n",
       "if_overdue              -0.328627     0.057481  -0.193090 -0.152439   \n",
       "\n",
       "                      30days_overdue_times  if_overdue  \n",
       "apply_id                          0.164465    0.211247  \n",
       "apply_date                        0.143359    0.184427  \n",
       "industry_level1                   0.073453    0.107910  \n",
       "province                         -0.051328   -0.057203  \n",
       "lend_amount                      -0.287964   -0.328627  \n",
       "lend_period                       0.189959    0.057481  \n",
       "view_days                        -0.155417   -0.193090  \n",
       "view_no                          -0.118589   -0.152439  \n",
       "30days_overdue_times              1.000000    0.809367  \n",
       "if_overdue                        0.809367    1.000000  "
      ]
     },
     "execution_count": 40,
     "metadata": {},
     "output_type": "execute_result"
    }
   ],
   "source": [
    "# 选择预测商户30天是否逾期，将60天删除\n",
    "loan_train_copy = loan_train[['apply_id','merchant_id', 'apply_date', 'industry_level1', 'province',\n",
    "       'lend_amount', 'lend_period', 'view_days', 'view_no',\n",
    "       '30days_overdue_times']]\n",
    "loan_test_copy = loan_test[['apply_id','merchant_id', 'apply_date', 'industry_level1', 'province',\n",
    "       'lend_amount', 'lend_period', 'view_days', 'view_no']]\n",
    "\n",
    "loan_train_copy['if_overdue'] = (loan_train_copy['30days_overdue_times']>0).astype('int64')\n",
    "\n",
    "\n",
    "loan_train_copy[['apply_date', 'if_overdue']].corr() # 相关性还可以吧。。。\n",
    "loan_train_copy.corr()"
   ]
  },
  {
   "cell_type": "markdown",
   "metadata": {},
   "source": [
    "## 关于history_loan"
   ]
  },
  {
   "cell_type": "code",
   "execution_count": 45,
   "metadata": {},
   "outputs": [
    {
     "ename": "ValueError",
     "evalue": "(\"time data '20170512' does not match format '%Y-%m-%d'\", 'occurred at index 0')",
     "output_type": "error",
     "traceback": [
      "\u001b[1;31m---------------------------------------------------------------------------\u001b[0m",
      "\u001b[1;31mValueError\u001b[0m                                Traceback (most recent call last)",
      "\u001b[1;32m<ipython-input-45-0aeeaace4c85>\u001b[0m in \u001b[0;36m<module>\u001b[1;34m()\u001b[0m\n\u001b[0;32m     29\u001b[0m     \u001b[1;32mreturn\u001b[0m \u001b[0minterval\u001b[0m\u001b[1;33m.\u001b[0m\u001b[0mdays\u001b[0m\u001b[1;33m\u001b[0m\u001b[0m\n\u001b[0;32m     30\u001b[0m \u001b[1;33m\u001b[0m\u001b[0m\n\u001b[1;32m---> 31\u001b[1;33m \u001b[0mhistory_loan_copy\u001b[0m\u001b[1;33m[\u001b[0m\u001b[1;34m'interval_settle'\u001b[0m\u001b[1;33m]\u001b[0m \u001b[1;33m=\u001b[0m \u001b[0mhistory_loan_copy\u001b[0m\u001b[1;33m.\u001b[0m\u001b[0mapply\u001b[0m\u001b[1;33m(\u001b[0m\u001b[0mfunc_dateinterval\u001b[0m\u001b[1;33m,\u001b[0m \u001b[0maxis\u001b[0m\u001b[1;33m=\u001b[0m\u001b[1;36m1\u001b[0m\u001b[1;33m)\u001b[0m\u001b[1;33m\u001b[0m\u001b[0m\n\u001b[0m",
      "\u001b[1;32mD:\\ProgramFiles\\Anaconda3\\lib\\site-packages\\pandas\\core\\frame.py\u001b[0m in \u001b[0;36mapply\u001b[1;34m(self, func, axis, broadcast, raw, reduce, result_type, args, **kwds)\u001b[0m\n\u001b[0;32m   6926\u001b[0m             \u001b[0mkwds\u001b[0m\u001b[1;33m=\u001b[0m\u001b[0mkwds\u001b[0m\u001b[1;33m,\u001b[0m\u001b[1;33m\u001b[0m\u001b[0m\n\u001b[0;32m   6927\u001b[0m         )\n\u001b[1;32m-> 6928\u001b[1;33m         \u001b[1;32mreturn\u001b[0m \u001b[0mop\u001b[0m\u001b[1;33m.\u001b[0m\u001b[0mget_result\u001b[0m\u001b[1;33m(\u001b[0m\u001b[1;33m)\u001b[0m\u001b[1;33m\u001b[0m\u001b[0m\n\u001b[0m\u001b[0;32m   6929\u001b[0m \u001b[1;33m\u001b[0m\u001b[0m\n\u001b[0;32m   6930\u001b[0m     \u001b[1;32mdef\u001b[0m \u001b[0mapplymap\u001b[0m\u001b[1;33m(\u001b[0m\u001b[0mself\u001b[0m\u001b[1;33m,\u001b[0m \u001b[0mfunc\u001b[0m\u001b[1;33m)\u001b[0m\u001b[1;33m:\u001b[0m\u001b[1;33m\u001b[0m\u001b[0m\n",
      "\u001b[1;32mD:\\ProgramFiles\\Anaconda3\\lib\\site-packages\\pandas\\core\\apply.py\u001b[0m in \u001b[0;36mget_result\u001b[1;34m(self)\u001b[0m\n\u001b[0;32m    184\u001b[0m             \u001b[1;32mreturn\u001b[0m \u001b[0mself\u001b[0m\u001b[1;33m.\u001b[0m\u001b[0mapply_raw\u001b[0m\u001b[1;33m(\u001b[0m\u001b[1;33m)\u001b[0m\u001b[1;33m\u001b[0m\u001b[0m\n\u001b[0;32m    185\u001b[0m \u001b[1;33m\u001b[0m\u001b[0m\n\u001b[1;32m--> 186\u001b[1;33m         \u001b[1;32mreturn\u001b[0m \u001b[0mself\u001b[0m\u001b[1;33m.\u001b[0m\u001b[0mapply_standard\u001b[0m\u001b[1;33m(\u001b[0m\u001b[1;33m)\u001b[0m\u001b[1;33m\u001b[0m\u001b[0m\n\u001b[0m\u001b[0;32m    187\u001b[0m \u001b[1;33m\u001b[0m\u001b[0m\n\u001b[0;32m    188\u001b[0m     \u001b[1;32mdef\u001b[0m \u001b[0mapply_empty_result\u001b[0m\u001b[1;33m(\u001b[0m\u001b[0mself\u001b[0m\u001b[1;33m)\u001b[0m\u001b[1;33m:\u001b[0m\u001b[1;33m\u001b[0m\u001b[0m\n",
      "\u001b[1;32mD:\\ProgramFiles\\Anaconda3\\lib\\site-packages\\pandas\\core\\apply.py\u001b[0m in \u001b[0;36mapply_standard\u001b[1;34m(self)\u001b[0m\n\u001b[0;32m    290\u001b[0m \u001b[1;33m\u001b[0m\u001b[0m\n\u001b[0;32m    291\u001b[0m         \u001b[1;31m# compute the result using the series generator\u001b[0m\u001b[1;33m\u001b[0m\u001b[1;33m\u001b[0m\u001b[0m\n\u001b[1;32m--> 292\u001b[1;33m         \u001b[0mself\u001b[0m\u001b[1;33m.\u001b[0m\u001b[0mapply_series_generator\u001b[0m\u001b[1;33m(\u001b[0m\u001b[1;33m)\u001b[0m\u001b[1;33m\u001b[0m\u001b[0m\n\u001b[0m\u001b[0;32m    293\u001b[0m \u001b[1;33m\u001b[0m\u001b[0m\n\u001b[0;32m    294\u001b[0m         \u001b[1;31m# wrap results\u001b[0m\u001b[1;33m\u001b[0m\u001b[1;33m\u001b[0m\u001b[0m\n",
      "\u001b[1;32mD:\\ProgramFiles\\Anaconda3\\lib\\site-packages\\pandas\\core\\apply.py\u001b[0m in \u001b[0;36mapply_series_generator\u001b[1;34m(self)\u001b[0m\n\u001b[0;32m    319\u001b[0m             \u001b[1;32mtry\u001b[0m\u001b[1;33m:\u001b[0m\u001b[1;33m\u001b[0m\u001b[0m\n\u001b[0;32m    320\u001b[0m                 \u001b[1;32mfor\u001b[0m \u001b[0mi\u001b[0m\u001b[1;33m,\u001b[0m \u001b[0mv\u001b[0m \u001b[1;32min\u001b[0m \u001b[0menumerate\u001b[0m\u001b[1;33m(\u001b[0m\u001b[0mseries_gen\u001b[0m\u001b[1;33m)\u001b[0m\u001b[1;33m:\u001b[0m\u001b[1;33m\u001b[0m\u001b[0m\n\u001b[1;32m--> 321\u001b[1;33m                     \u001b[0mresults\u001b[0m\u001b[1;33m[\u001b[0m\u001b[0mi\u001b[0m\u001b[1;33m]\u001b[0m \u001b[1;33m=\u001b[0m \u001b[0mself\u001b[0m\u001b[1;33m.\u001b[0m\u001b[0mf\u001b[0m\u001b[1;33m(\u001b[0m\u001b[0mv\u001b[0m\u001b[1;33m)\u001b[0m\u001b[1;33m\u001b[0m\u001b[0m\n\u001b[0m\u001b[0;32m    322\u001b[0m                     \u001b[0mkeys\u001b[0m\u001b[1;33m.\u001b[0m\u001b[0mappend\u001b[0m\u001b[1;33m(\u001b[0m\u001b[0mv\u001b[0m\u001b[1;33m.\u001b[0m\u001b[0mname\u001b[0m\u001b[1;33m)\u001b[0m\u001b[1;33m\u001b[0m\u001b[0m\n\u001b[0;32m    323\u001b[0m             \u001b[1;32mexcept\u001b[0m \u001b[0mException\u001b[0m \u001b[1;32mas\u001b[0m \u001b[0me\u001b[0m\u001b[1;33m:\u001b[0m\u001b[1;33m\u001b[0m\u001b[0m\n",
      "\u001b[1;32m<ipython-input-45-0aeeaace4c85>\u001b[0m in \u001b[0;36mfunc_dateinterval\u001b[1;34m(df)\u001b[0m\n\u001b[0;32m     24\u001b[0m     \u001b[0mreal\u001b[0m \u001b[1;33m=\u001b[0m \u001b[0mstr\u001b[0m\u001b[1;33m(\u001b[0m\u001b[0mdf\u001b[0m\u001b[1;33m[\u001b[0m\u001b[1;34m'real_settle_date'\u001b[0m\u001b[1;33m]\u001b[0m\u001b[1;33m)\u001b[0m\u001b[1;33m[\u001b[0m\u001b[1;36m0\u001b[0m\u001b[1;33m:\u001b[0m\u001b[1;36m10\u001b[0m\u001b[1;33m]\u001b[0m\u001b[1;33m\u001b[0m\u001b[0m\n\u001b[0;32m     25\u001b[0m     \u001b[0mnotional\u001b[0m \u001b[1;33m=\u001b[0m \u001b[0mstr\u001b[0m\u001b[1;33m(\u001b[0m\u001b[0mdf\u001b[0m\u001b[1;33m[\u001b[0m\u001b[1;34m'notional_settle_date'\u001b[0m\u001b[1;33m]\u001b[0m\u001b[1;33m)\u001b[0m\u001b[1;33m[\u001b[0m\u001b[1;36m0\u001b[0m\u001b[1;33m:\u001b[0m\u001b[1;36m10\u001b[0m\u001b[1;33m]\u001b[0m\u001b[1;33m\u001b[0m\u001b[0m\n\u001b[1;32m---> 26\u001b[1;33m     \u001b[0mreal\u001b[0m \u001b[1;33m=\u001b[0m \u001b[0mdatetime\u001b[0m\u001b[1;33m.\u001b[0m\u001b[0mdatetime\u001b[0m\u001b[1;33m.\u001b[0m\u001b[0mstrptime\u001b[0m\u001b[1;33m(\u001b[0m\u001b[0mreal\u001b[0m\u001b[1;33m,\u001b[0m \u001b[1;34m'%Y-%m-%d'\u001b[0m\u001b[1;33m)\u001b[0m\u001b[1;33m\u001b[0m\u001b[0m\n\u001b[0m\u001b[0;32m     27\u001b[0m     \u001b[0mnotional\u001b[0m \u001b[1;33m=\u001b[0m \u001b[0mdatetime\u001b[0m\u001b[1;33m.\u001b[0m\u001b[0mdatetime\u001b[0m\u001b[1;33m.\u001b[0m\u001b[0mstrptime\u001b[0m\u001b[1;33m(\u001b[0m\u001b[0mnotional\u001b[0m\u001b[1;33m,\u001b[0m \u001b[1;34m'%Y-%m-%d'\u001b[0m\u001b[1;33m)\u001b[0m\u001b[1;33m\u001b[0m\u001b[0m\n\u001b[0;32m     28\u001b[0m     \u001b[0minterval\u001b[0m \u001b[1;33m=\u001b[0m \u001b[0mnotional\u001b[0m \u001b[1;33m-\u001b[0m \u001b[0mreal\u001b[0m\u001b[1;33m\u001b[0m\u001b[0m\n",
      "\u001b[1;32mD:\\ProgramFiles\\Anaconda3\\lib\\_strptime.py\u001b[0m in \u001b[0;36m_strptime_datetime\u001b[1;34m(cls, data_string, format)\u001b[0m\n\u001b[0;32m    563\u001b[0m     \"\"\"Return a class cls instance based on the input string and the\n\u001b[0;32m    564\u001b[0m     format string.\"\"\"\n\u001b[1;32m--> 565\u001b[1;33m     \u001b[0mtt\u001b[0m\u001b[1;33m,\u001b[0m \u001b[0mfraction\u001b[0m \u001b[1;33m=\u001b[0m \u001b[0m_strptime\u001b[0m\u001b[1;33m(\u001b[0m\u001b[0mdata_string\u001b[0m\u001b[1;33m,\u001b[0m \u001b[0mformat\u001b[0m\u001b[1;33m)\u001b[0m\u001b[1;33m\u001b[0m\u001b[0m\n\u001b[0m\u001b[0;32m    566\u001b[0m     \u001b[0mtzname\u001b[0m\u001b[1;33m,\u001b[0m \u001b[0mgmtoff\u001b[0m \u001b[1;33m=\u001b[0m \u001b[0mtt\u001b[0m\u001b[1;33m[\u001b[0m\u001b[1;33m-\u001b[0m\u001b[1;36m2\u001b[0m\u001b[1;33m:\u001b[0m\u001b[1;33m]\u001b[0m\u001b[1;33m\u001b[0m\u001b[0m\n\u001b[0;32m    567\u001b[0m     \u001b[0margs\u001b[0m \u001b[1;33m=\u001b[0m \u001b[0mtt\u001b[0m\u001b[1;33m[\u001b[0m\u001b[1;33m:\u001b[0m\u001b[1;36m6\u001b[0m\u001b[1;33m]\u001b[0m \u001b[1;33m+\u001b[0m \u001b[1;33m(\u001b[0m\u001b[0mfraction\u001b[0m\u001b[1;33m,\u001b[0m\u001b[1;33m)\u001b[0m\u001b[1;33m\u001b[0m\u001b[0m\n",
      "\u001b[1;32mD:\\ProgramFiles\\Anaconda3\\lib\\_strptime.py\u001b[0m in \u001b[0;36m_strptime\u001b[1;34m(data_string, format)\u001b[0m\n\u001b[0;32m    360\u001b[0m     \u001b[1;32mif\u001b[0m \u001b[1;32mnot\u001b[0m \u001b[0mfound\u001b[0m\u001b[1;33m:\u001b[0m\u001b[1;33m\u001b[0m\u001b[0m\n\u001b[0;32m    361\u001b[0m         raise ValueError(\"time data %r does not match format %r\" %\n\u001b[1;32m--> 362\u001b[1;33m                          (data_string, format))\n\u001b[0m\u001b[0;32m    363\u001b[0m     \u001b[1;32mif\u001b[0m \u001b[0mlen\u001b[0m\u001b[1;33m(\u001b[0m\u001b[0mdata_string\u001b[0m\u001b[1;33m)\u001b[0m \u001b[1;33m!=\u001b[0m \u001b[0mfound\u001b[0m\u001b[1;33m.\u001b[0m\u001b[0mend\u001b[0m\u001b[1;33m(\u001b[0m\u001b[1;33m)\u001b[0m\u001b[1;33m:\u001b[0m\u001b[1;33m\u001b[0m\u001b[0m\n\u001b[0;32m    364\u001b[0m         raise ValueError(\"unconverted data remains: %s\" %\n",
      "\u001b[1;31mValueError\u001b[0m: (\"time data '20170512' does not match format '%Y-%m-%d'\", 'occurred at index 0')"
     ]
    }
   ],
   "source": [
    "# history_loan['merchant_id'].value_counts() # 269个商户\n",
    "\n",
    "# loan_train['merchant_id'].value_counts() # 1180个商户\n",
    "# loan_test['merchant_id'].value_counts() # 511个商户\n",
    "\n",
    "\n",
    "\n",
    "# 历史贷款商户明显不能弥补训练集和测试集所有商户的信息\n",
    "# 那么它的用处是什么呢？\n",
    "# 设置一个flag，\n",
    "# 如果商户没有过历史贷款信息（NaN）记flag为0\n",
    "# 如果贷过款并且没有逾期还款记录 记flag为1\n",
    "# 如果贷过款但是有逾期还款记录 flag记为根据次数大小的负数\n",
    "\n",
    "\n",
    "t_30days = history_loan['30days_overdue_times'].groupby(history_loan['merchant_id']).sum().reset_index()\n",
    "t_60days = history_loan['60days_overdue_times'].groupby(history_loan['merchant_id']).sum().reset_index()\n",
    "\n",
    "history_loan_copy = history_loan[['merchant_id', 'industry_level1', 'province', 'apply_date',\\\n",
    "                                  'lend_amount', 'lend_period', 'notional_settle_date',\\\n",
    "                                  'real_settle_date', '30days_overdue_times', '60days_overdue_times']]\n",
    "\n",
    "# 计算实际结算和预定结算日期的间隔\n",
    "import datetime\n",
    "def func_dateinterval(df):\n",
    "    real = str(df['real_settle_date'])[0:10]\n",
    "    notional = str(df['notional_settle_date'])[0:10]\n",
    "    real = datetime.datetime.strptime(real, '%Y-%m-%d')\n",
    "    notional = datetime.datetime.strptime(notional, '%Y-%m-%d')\n",
    "    interval = notional - real\n",
    "    return interval.days\n",
    "\n",
    "history_loan_copy['interval_settle'] = history_loan_copy.apply(func_dateinterval, axis=1) "
   ]
  },
  {
   "cell_type": "code",
   "execution_count": 41,
   "metadata": {},
   "outputs": [],
   "source": [
    "# history中的几条日期记录格式\n",
    "\n",
    "def func_date(df):\n",
    "    date = str(df[col])[0:10].replace('-','')\n",
    "    return int(date)\n",
    "\n",
    "# 只能运行一次\n",
    "for col in ['apply_date','notional_settle_date','real_settle_date']:\n",
    "    history_loan[col] = history_loan[[col]].apply(func_date, axis=1)"
   ]
  },
  {
   "cell_type": "code",
   "execution_count": 42,
   "metadata": {},
   "outputs": [
    {
     "data": {
      "text/html": [
       "<div>\n",
       "<style scoped>\n",
       "    .dataframe tbody tr th:only-of-type {\n",
       "        vertical-align: middle;\n",
       "    }\n",
       "\n",
       "    .dataframe tbody tr th {\n",
       "        vertical-align: top;\n",
       "    }\n",
       "\n",
       "    .dataframe thead th {\n",
       "        text-align: right;\n",
       "    }\n",
       "</style>\n",
       "<table border=\"1\" class=\"dataframe\">\n",
       "  <thead>\n",
       "    <tr style=\"text-align: right;\">\n",
       "      <th></th>\n",
       "      <th>apply_date</th>\n",
       "    </tr>\n",
       "  </thead>\n",
       "  <tbody>\n",
       "    <tr>\n",
       "      <th>333</th>\n",
       "      <td>20170307</td>\n",
       "    </tr>\n",
       "    <tr>\n",
       "      <th>0</th>\n",
       "      <td>20170308</td>\n",
       "    </tr>\n",
       "    <tr>\n",
       "      <th>2</th>\n",
       "      <td>20170418</td>\n",
       "    </tr>\n",
       "    <tr>\n",
       "      <th>233</th>\n",
       "      <td>20170516</td>\n",
       "    </tr>\n",
       "    <tr>\n",
       "      <th>4</th>\n",
       "      <td>20170528</td>\n",
       "    </tr>\n",
       "    <tr>\n",
       "      <th>...</th>\n",
       "      <td>...</td>\n",
       "    </tr>\n",
       "    <tr>\n",
       "      <th>222</th>\n",
       "      <td>20180311</td>\n",
       "    </tr>\n",
       "    <tr>\n",
       "      <th>211</th>\n",
       "      <td>20180323</td>\n",
       "    </tr>\n",
       "    <tr>\n",
       "      <th>198</th>\n",
       "      <td>20180323</td>\n",
       "    </tr>\n",
       "    <tr>\n",
       "      <th>170</th>\n",
       "      <td>20180326</td>\n",
       "    </tr>\n",
       "    <tr>\n",
       "      <th>255</th>\n",
       "      <td>20180328</td>\n",
       "    </tr>\n",
       "  </tbody>\n",
       "</table>\n",
       "<p>353 rows × 1 columns</p>\n",
       "</div>"
      ],
      "text/plain": [
       "     apply_date\n",
       "333    20170307\n",
       "0      20170308\n",
       "2      20170418\n",
       "233    20170516\n",
       "4      20170528\n",
       "..          ...\n",
       "222    20180311\n",
       "211    20180323\n",
       "198    20180323\n",
       "170    20180326\n",
       "255    20180328\n",
       "\n",
       "[353 rows x 1 columns]"
      ]
     },
     "execution_count": 42,
     "metadata": {},
     "output_type": "execute_result"
    }
   ],
   "source": [
    "# 历史贷款数据集中申请日期20170307-20180328，和训练集测试集相比没有晚于其申请时间20180501-20180615的记录\n",
    "# 不用再处理历史贷款数据集中的日期这一数据\n",
    "\n",
    "history_loan[['apply_date']].sort_values('apply_date')"
   ]
  },
  {
   "cell_type": "code",
   "execution_count": null,
   "metadata": {},
   "outputs": [],
   "source": [
    "# 首贷复贷分割\n",
    "merchant_second = history_loan['merchant_id'].value_counts().reset_index().rename(columns={'index':'merchant_id', 'merchant_id':'count_loan'})\n",
    "\n",
    "# 复贷的商户——直接和merchant_second做内连接\n",
    "loan_train_second = loan_train_copy.join(merchant_second.set_index('merchant_id'),on='merchant_id',how='inner').reset_index(drop=True)\n",
    "loan_test_second = loan_test_copy.join(merchant_second.set_index('merchant_id'),on='merchant_id',how='inner').reset_index(drop=True)\n",
    "\n",
    "# loan_train_second.shape # 197个记录\n",
    "# loan_test_second.shape # 75个记录\n",
    "\n",
    "\n",
    "# 首贷的商户——和merchant做左外连接，缺失的商户就是首贷\n",
    "import numpy as np\n",
    "loan_train_first = loan_train_copy.join(merchant_second.set_index('merchant_id'),on='merchant_id',how='left').reset_index(drop=True)\n",
    "loan_train_first = loan_train_first[np.isnan(loan_train_first['count_loan'])].reset_index(drop=True).drop(['count_loan'],axis=1)\n",
    "\n",
    "loan_test_first = loan_test_copy.join(merchant_second.set_index('merchant_id'),on='merchant_id',how='left').reset_index(drop=True)\n",
    "loan_test_first = loan_test_first[np.isnan(loan_test_first['count_loan'])].reset_index(drop=True).drop(['count_loan'],axis=1)\n",
    "\n",
    "# loan_train_first.shape # 1003\n",
    "# loan_test_first.shape # 440|"
   ]
  },
  {
   "cell_type": "markdown",
   "metadata": {
    "heading_collapsed": true
   },
   "source": [
    "## join"
   ]
  },
  {
   "cell_type": "markdown",
   "metadata": {
    "hidden": true
   },
   "source": [
    "提取的特征数据集\n",
    "\n",
    "t_feature2\n",
    "\n",
    "首贷的数据集：可以和t_feature2进行合并\n",
    "\n",
    "loan_train_first\n",
    "\n",
    "loan_test_first\n",
    "\n",
    "复贷的数据集：可以和t_feature2进行合并以及history_loan_copy中的一些特征进行合并\n",
    "\n",
    "loan_train_second\n",
    "\n",
    "loan_test_second"
   ]
  },
  {
   "cell_type": "code",
   "execution_count": null,
   "metadata": {
    "hidden": true
   },
   "outputs": [],
   "source": [
    "loan_train_first_final = loan_train_first.join(t_feature2.set_index('merchant_id'), on='merchant_id',how='inner').reset_index(drop=True)\n",
    "\n",
    "\n",
    "loan_test_first_final = loan_test_first.join(t_feature2.set_index('merchant_id'), on='merchant_id',how='inner').reset_index(drop=True)\n",
    "\n",
    "# 用内连接，因为缺失的特征无法填充，不一样的店铺差距很不同。\n",
    "# 内连接967 / 1003\n",
    "# loan_train_first_final.shape\n",
    "# 内连接429 / 440\n",
    "# loan_test_first_final.shape"
   ]
  },
  {
   "cell_type": "code",
   "execution_count": null,
   "metadata": {
    "hidden": true
   },
   "outputs": [],
   "source": [
    "# history_loan_copy.columns\n",
    "\n",
    "history_loan_join = history_loan_copy[['merchant_id', 'apply_date',\n",
    "       'lend_amount', 'lend_period', 'notional_settle_date',\n",
    "       'real_settle_date', '30days_overdue_times', '60days_overdue_times',\n",
    "       'interval_settle']]"
   ]
  },
  {
   "cell_type": "code",
   "execution_count": null,
   "metadata": {
    "hidden": true
   },
   "outputs": [],
   "source": [
    "# 内连接会多出数据：因为在history_loan中会有商户多次贷款记录，(即它不像t_feature一样是merchant_id独立的)导致join时多出很多条数据\n",
    "# 而这些数据前面的特征是一样的，join时产生的那部分特征history_loan中是不同的\n",
    "# 不管了，直接join\n",
    "\n",
    "# t_feature2['merchant_id'].value_counts().size  # 1607 / 1607个商户\n",
    "# loan_train_second['merchant_id'].value_counts().size # 195 / 197个商户\n",
    "# loan_test_second['merchant_id'].value_counts().size # 75 / 75个商户\n",
    "# history_loan_join['merchant_id'].value_counts().size # 269 / 353个商户\n",
    "\n",
    "\n",
    "\n",
    "# 175 / 197\n",
    "loan_train_second_final = loan_train_second.join(t_feature2.set_index('merchant_id'), on='merchant_id',how='inner').reset_index(drop=True)\n",
    "loan_train_second_final.shape\n",
    "\n",
    "# 239 / 175\n",
    "loan_train_second_final = loan_train_second_final.join(history_loan_join.set_index('merchant_id'), on='merchant_id',how='left', rsuffix='_history').reset_index(drop=True)\n",
    "# loan_train_second_final.shape\n",
    "\n",
    "\n",
    "# 69 / 75\n",
    "loan_test_second_final = loan_test_second.join(t_feature2.set_index('merchant_id'), on='merchant_id',how='inner').reset_index(drop=True)\n",
    "# loan_test_second_final.shape\n",
    "\n",
    "# 92 / 69\n",
    "loan_test_second_final = loan_test_second_final.join(history_loan_join.set_index('merchant_id'), on='merchant_id',how='left', rsuffix='_history').reset_index(drop=True)\n",
    "# loan_test_second_final.shape"
   ]
  },
  {
   "cell_type": "markdown",
   "metadata": {},
   "source": [
    "## 补充和总结"
   ]
  },
  {
   "cell_type": "code",
   "execution_count": null,
   "metadata": {},
   "outputs": [],
   "source": [
    "# 填充缺失值和类型转换\n",
    "\n",
    "loan_train_first_final.fillna(0, inplace=True)\n",
    "for col in ['lend_amount','amount4','amount5','amount6','all_amount']:\n",
    "    loan_train_first_final[col] = loan_train_first_final[col].astype('int64')\n",
    "# loan_train_first_final.info()\n",
    "\n",
    "\n",
    "loan_test_first_final.fillna(0, inplace=True)\n",
    "for col in ['lend_amount','amount4','amount5','amount6','all_amount']:\n",
    "    loan_test_first_final[col] = loan_test_first_final[col].astype('int64')\n",
    "# loan_test_first_final.info()\n",
    "\n",
    "\n",
    "\n",
    "loan_train_second_final.fillna(0, inplace=True)\n",
    "for col in ['lend_amount','amount4','amount5','amount6','all_amount','lend_amount_history']:\n",
    "    loan_train_second_final[col] = loan_train_second_final[col].astype('int64')\n",
    "# loan_train_second_final.info()\n",
    "\n",
    "\n",
    "\n",
    "loan_test_second_final.fillna(0, inplace=True)\n",
    "for col in ['lend_amount','amount4','amount5','amount6','all_amount','lend_amount_history']:\n",
    "    loan_test_second_final[col] = loan_test_second_final[col].astype('int64')\n",
    "# loan_test_second_final.info()"
   ]
  },
  {
   "cell_type": "markdown",
   "metadata": {},
   "source": [
    "总结\n",
    "- 1.loan_train_first_final \n",
    "- 2.loan_test_first_final\n",
    "    - merchant_id             967 non-null object\n",
    "    - industry_level1         967 non-null int64\n",
    "    - province                967 non-null int64\n",
    "    - apply_date              967 non-null int64\n",
    "    - lend_amount             967 non-null int64\n",
    "    - lend_period             967 non-null int64\n",
    "    - view_days               967 non-null int64\n",
    "    - view_no                 967 non-null int64\n",
    "    - 30days_overdue_times    967 non-null int64\n",
    "    - if_overdue              967 non-null int64\n",
    "    - amount4                 967 non-null int64\n",
    "    - amount5                 967 non-null int64\n",
    "    - amount6                 967 non-null int64\n",
    "    - all_amount              967 non-null int64\n",
    "    - discount_channel        967 non-null int64\n",
    "    - store_count             967 non-null int64\n",
    "    - alipay_huabei           967 non-null int64\n",
    "    - pay_way                 967 non-null float64\n",
    "    - sub_pay_way             967 non-null float64\n",
    "\n",
    "- 3.loan_train_second_final\n",
    "- 4.loan_test_second_final\n",
    "    - merchant_id                     239 non-null object\n",
    "    - industry_level1                 239 non-null int64\n",
    "    - province                        239 non-null int64\n",
    "    - apply_date                      239 non-null int64\n",
    "    - lend_amount                     239 non-null int64\n",
    "    - lend_period                     239 non-null int64\n",
    "    - view_days                       239 non-null int64\n",
    "    - view_no                         239 non-null int64\n",
    "    - 30days_overdue_times            239 non-null int64\n",
    "    - if_overdue                      239 non-null int64\n",
    "    - count_loan                      239 non-null int64\n",
    "    - amount4                         239 non-null int64\n",
    "    - amount5                         239 non-null int64\n",
    "    - amount6                         239 non-null int64\n",
    "    - all_amount                      239 non-null int64\n",
    "    - discount_channel                239 non-null int64\n",
    "    - store_count                     239 non-null int64\n",
    "    - alipay_huabei                   239 non-null int64\n",
    "    - pay_way                         239 non-null float64\n",
    "    - sub_pay_way                     239 non-null float64\n",
    "    - apply_date_history              239 non-null int64\n",
    "    - lend_amount_history             239 non-null int64\n",
    "    - lend_period_history             239 non-null int64\n",
    "    - notional_settle_date            239 non-null int64\n",
    "    - real_settle_date                239 non-null int64\n",
    "    - 30days_overdue_times_history    239 non-null int64\n",
    "    - 60days_overdue_times            239 non-null int64\n",
    "    - interval_settle                 239 non-null int64"
   ]
  },
  {
   "cell_type": "code",
   "execution_count": null,
   "metadata": {},
   "outputs": [],
   "source": [
    "train1 = loan_train_first_final\n",
    "test1 = loan_test_first_final\n",
    "\n",
    "train2 = loan_train_second_final\n",
    "test2 = loan_test_second_final"
   ]
  },
  {
   "cell_type": "code",
   "execution_count": null,
   "metadata": {},
   "outputs": [],
   "source": [
    "train1.head()"
   ]
  },
  {
   "cell_type": "markdown",
   "metadata": {},
   "source": [
    "# 可视化"
   ]
  },
  {
   "cell_type": "markdown",
   "metadata": {
    "heading_collapsed": true
   },
   "source": [
    "## 根据地区和行业看营业额和收款情况"
   ]
  },
  {
   "cell_type": "code",
   "execution_count": null,
   "metadata": {
    "hidden": true
   },
   "outputs": [],
   "source": [
    "# amount_merchant.info()\n",
    "# amount_merchant.head()\n",
    "\n",
    "amount_merchant = t_feature2.fillna(0).join(table_datamining_merchant.set_index('merchant_id'),on='merchant_id',how='left').reset_index(drop=True)\n",
    "\n",
    "amount_distri = amount_merchant.groupby(['province','industry_level1']).sum().reset_index()\n",
    "amount_distri[['amount4','amount5','amount6','all_amount']] = amount_distri[['amount4','amount5','amount6','all_amount']].astype('int64')\n",
    "amount_distri"
   ]
  },
  {
   "cell_type": "code",
   "execution_count": null,
   "metadata": {
    "hidden": true
   },
   "outputs": [],
   "source": [
    "x = np.array([1,2,3])\n",
    "y = np.array([1,2,3])\n",
    "data = pd.DataFrame(np.array(amount_distri['all_amount']).reshape((3,3)))"
   ]
  },
  {
   "cell_type": "code",
   "execution_count": null,
   "metadata": {
    "hidden": true,
    "scrolled": false
   },
   "outputs": [],
   "source": [
    "import plotly.graph_objects as go\n",
    "from plotly.subplots import make_subplots\n",
    "import pandas as pd\n",
    "\n",
    "fig = make_subplots(\n",
    "    rows=2, cols=2,\n",
    "    column_widths=[7, 5],\n",
    "    row_heights=[4,4],\n",
    "    specs=[[{\"type\": \"surface\",\"rowspan\":2}, {\"type\": \"bar\"}],\n",
    "           [   None ,                        {\"type\": \"pie\"}]\n",
    "          ])\n",
    "\n",
    "fig.add_trace(\n",
    "    go.Surface(x=x,y=y,z=data.values.tolist(),showscale=False,text=\"地区-行业-营业额\"),\n",
    "    row=1, col=1\n",
    ")\n",
    "\n",
    "fig.add_trace(\n",
    "    go.Bar(x=['province1','province2','province3'],y=amount_distri['amount4'],marker=dict(color=\"crimson\"),text=\"地区-营业额\",showlegend=False),\n",
    "    row=1, col=2\n",
    ")\n",
    "\n",
    "\n",
    "fig.add_trace(\n",
    "    go.Pie(labels=['industry1','industry2','industry3'],values=amount_distri['all_amount'].groupby(amount_distri['industry_level1']).sum(),text=(\"行业1\",\"行业2\",\"行业3\")),\n",
    "    row=2,col=2\n",
    ")\n",
    "\n",
    "fig.update_layout(\n",
    "    template=\"plotly_dark\",\n",
    "    margin=dict(r=10, t=25, b=40, l=40),\n",
    ")\n",
    "\n",
    "fig.show()\n",
    "\n",
    "# 由图中可以看出,在1地区和1行业的营业额是远超其他地区和行业的"
   ]
  },
  {
   "cell_type": "markdown",
   "metadata": {
    "heading_collapsed": true
   },
   "source": [
    "## 根据地区和行业看贷款周期和数目"
   ]
  },
  {
   "cell_type": "code",
   "execution_count": null,
   "metadata": {
    "hidden": true
   },
   "outputs": [],
   "source": [
    "my_data1 = history_loan_copy[['industry_level1','province','lend_amount','lend_period']]\n",
    "my_data2 = loan_train_copy[['industry_level1','province','lend_amount','lend_period']]\n",
    "my_data3 = loan_test_copy[['industry_level1','province','lend_amount','lend_period']]\n",
    "my_data = my_data1.append(my_data2).append(my_data3).reset_index(drop=True)\n",
    "# my_data\n",
    "\n",
    "\n",
    "data2 = my_data.groupby(['province','industry_level1']).sum().reset_index()\n",
    "x2 = np.array([1,2,3])\n",
    "y2 = np.array([1,2,3])\n",
    "data2 = pd.DataFrame(np.array(data2['lend_amount']).reshape((3,3)))\n",
    "\n",
    "# 截取前100个画子图\n",
    "data3 = my_data.iloc[0:100,]"
   ]
  },
  {
   "cell_type": "code",
   "execution_count": null,
   "metadata": {
    "hidden": true
   },
   "outputs": [],
   "source": [
    "fig2 = make_subplots(\n",
    "    rows = 1, cols = 2,\n",
    "    column_width=[5,6],\n",
    "    row_heights=[5],\n",
    "    specs=[[{\"type\":\"scatter\"},{\"type\":\"surface\"}],\n",
    "    ])\n",
    "\n",
    "fig2.add_trace(\n",
    "    go.Scatter(x=data3['lend_period'],y=data3['lend_amount'],text=\"借款周期-借款数目\"),\n",
    "    row=1,col=1\n",
    ")\n",
    "\n",
    "\n",
    "fig2.add_trace(\n",
    "    go.Surface(x=x2,y=y2,z=data2.values.tolist(),text=\"地区-行业-贷款金额\"),\n",
    "    row=1,col=2\n",
    ")\n",
    "\n",
    "fig2.update_layout(\n",
    "    template=\"plotly_dark\",\n",
    "    margin=dict(r=10, t=25, b=40, l=40),\n",
    ")\n",
    "\n",
    "fig2.show()"
   ]
  },
  {
   "cell_type": "code",
   "execution_count": null,
   "metadata": {
    "hidden": true,
    "scrolled": false
   },
   "outputs": [],
   "source": [
    "# 借款周期和借款金额分布\n",
    "import plotly.express as px\n",
    "fig3 = px.scatter(x=my_data['lend_period'],y=my_data['lend_amount'], size=my_data['lend_amount'],color=my_data['lend_period'])\n",
    "fig3.show()"
   ]
  },
  {
   "cell_type": "markdown",
   "metadata": {
    "heading_collapsed": true
   },
   "source": [
    "## 支付方式"
   ]
  },
  {
   "cell_type": "code",
   "execution_count": null,
   "metadata": {
    "hidden": true
   },
   "outputs": [],
   "source": [
    "# 分地区和行业看pay_way和sub_pay_way\n",
    "pay = lend_transaction[['merchant_id','pay_way','sub_pay_way']].join(table_datamining_merchant.set_index('merchant_id'),on='merchant_id',how='inner').reset_index(drop=True)\n",
    "pay.drop(['merchant_id'],axis=1, inplace=True)\n",
    "# pay.head()\n",
    "\n",
    "data_1 = pay.groupby(['province','industry_level1','pay_way']).count().reset_index()\n",
    "data_2 = pay.groupby(['province','industry_level1','sub_pay_way']).count().reset_index()\n",
    "# data_2\n",
    "\n",
    "\n",
    "\n",
    "pay_2 = list(data_1[data_1['pay_way']==2]['sub_pay_way']) # 9个\n",
    "pay_3 = list(data_1[data_1['pay_way']==3]['sub_pay_way']) # 9个\n",
    "\n",
    "sub_pay_1 = list(data_2[data_2['sub_pay_way']==1]['pay_way']) # 9个\n",
    "sub_pay_3 = list(data_2[data_2['sub_pay_way']==3]['pay_way']) # 9个\n",
    "\n",
    "# 下面的支付方式数据记录比较少，不予以画图\n",
    "# pay_6 = list(data_1[data_1['pay_way']==6]['sub_pay_way']) # 9个\n",
    "# pay_17 = list(data_1[data_1['pay_way']==17]['sub_pay_way']) # 8个 手动填充p3i3为0\n",
    "# pay_18 = list(data_1[data_1['pay_way']==18]['sub_pay_way']) # 2个 #不进行统计\n",
    "# pay_17.append(0)\n",
    "# sub_pay_2 = list(data_2[data_2['sub_pay_way']==2]['pay_way']) # 8个 手动填充p3i3为0\n",
    "# sub_pay_2 = list(data_2[data_2['sub_pay_way']==2]['pay_way']).append(0) # 这样append不行\n",
    "# sub_pay_2.append(0)"
   ]
  },
  {
   "cell_type": "code",
   "execution_count": null,
   "metadata": {
    "hidden": true
   },
   "outputs": [],
   "source": [
    "# 3支付宝——2545014\n",
    "# 2微信——1040685\n",
    "# 6qq钱包——3725\n",
    "# 17银联二维码——633\n",
    "# 18翼支付——2\n",
    "\n",
    "# 3wap支付——2535627\n",
    "# 1条码支付——1053075\n",
    "# 2二维码支付——1357\n",
    "\n",
    "labels = ['p1i1','p1i2','p1i3','p2i1','p2i2','p2i3','p3i1','p3i2','p3i3']\n",
    "\n",
    "\n",
    "fig = go.Figure(data=[\n",
    "    go.Bar(name='微信支付',x=labels,y=pay_2),\n",
    "    go.Bar(name='支付宝支付',x=labels,y=pay_3),\n",
    "    go.Bar(name='条码支付',x=labels,y=sub_pay_1),\n",
    "    go.Bar(name='wap支付',x=labels,y=sub_pay_3)  \n",
    "])\n",
    "\n",
    "fig.update_layout(barmode='group')\n",
    "fig.show()"
   ]
  },
  {
   "cell_type": "markdown",
   "metadata": {},
   "source": [
    "## 测试集和训练集"
   ]
  },
  {
   "cell_type": "code",
   "execution_count": null,
   "metadata": {},
   "outputs": [],
   "source": [
    "# data = train1[np.logical_and(train1['amount4']!=0,train1['amount5']!=0,train1['amount6']!=0)][['amount4','amount5','amount6']] \\\n",
    "#     .append(train2[np.logical_and(train2['amount4']!=0,train2['amount5']!=0,train2['amount6']!=0)][['amount4','amount5','amount6']]) \\\n",
    "#     .append(test1[np.logical_and(test1['amount4']!=0,test1['amount5']!=0,test1['amount6']!=0)][['amount4','amount5','amount6']]) \\\n",
    "#     .append(test2[np.logical_and(test2['amount4']!=0,test2['amount5']!=0,test2['amount6']!=0)][['amount4','amount5','amount6']])\n",
    "# data.head()"
   ]
  },
  {
   "cell_type": "code",
   "execution_count": null,
   "metadata": {},
   "outputs": [],
   "source": [
    "# 4 5 6 月营收额\n",
    "import plotly.graph_objects as go\n",
    "\n",
    "fig = go.Figure()\n",
    "fig.add_trace(go.Box(y=data['amount4'],boxmean=\"sd\",name=\"amount4\"))\n",
    "fig.add_trace(go.Box(y=data['amount5'],boxmean=\"sd\",name=\"amount5\"))\n",
    "fig.add_trace(go.Box(y=data['amount6'],boxmean=\"sd\",name=\"amount6\"))\n",
    "\n",
    "fig.show()"
   ]
  },
  {
   "cell_type": "code",
   "execution_count": null,
   "metadata": {},
   "outputs": [],
   "source": []
  },
  {
   "cell_type": "code",
   "execution_count": null,
   "metadata": {},
   "outputs": [],
   "source": []
  },
  {
   "cell_type": "code",
   "execution_count": null,
   "metadata": {},
   "outputs": [],
   "source": []
  },
  {
   "cell_type": "markdown",
   "metadata": {
    "heading_collapsed": true
   },
   "source": [
    "## 一键生成数据分析"
   ]
  },
  {
   "cell_type": "code",
   "execution_count": null,
   "metadata": {
    "hidden": true
   },
   "outputs": [],
   "source": [
    "import pandas_profiling\n",
    "\n",
    "pfr1 = pandas_profiling.ProfileReport(train1)\n",
    "pfr2 = pandas_profiling.ProfileReport(test1)\n",
    "pfr3 = pandas_profiling.ProfileReport(train2)\n",
    "pfr4 = pandas_profiling.ProfileReport(test2)\n",
    "pfr1\n",
    "# pfr2\n",
    "# pfr3\n",
    "# pfr4"
   ]
  },
  {
   "cell_type": "markdown",
   "metadata": {},
   "source": [
    "# 训练预测"
   ]
  },
  {
   "attachments": {
    "image.png": {
     "image/png": "[encoded data removed]"
    }
   },
   "cell_type": "markdown",
   "metadata": {},
   "source": [
    "![image.png](attachment:image.png)"
   ]
  },
  {
   "cell_type": "markdown",
   "metadata": {},
   "source": [
    "## 随机森林"
   ]
  },
  {
   "cell_type": "code",
   "execution_count": null,
   "metadata": {},
   "outputs": [],
   "source": [
    "train1.columns\n",
    "test1.columns"
   ]
  },
  {
   "cell_type": "code",
   "execution_count": null,
   "metadata": {},
   "outputs": [],
   "source": [
    "X_train1 = train1[['industry_level1', 'province', 'apply_date',\n",
    "       'lend_amount', 'view_days', 'view_no', 'amount4', 'amount5', 'amount6',\n",
    "       'all_amount', 'discount_channel', 'store_count', 'alipay_huabei']]\n",
    "y_train1 = train1[['if_overdue']]\n",
    "\n",
    "X_test1 = test1[['industry_level1', 'province', 'apply_date',\n",
    "       'lend_amount', 'view_days', 'view_no', 'amount4','amount5', 'amount6', \n",
    "       'all_amount', 'discount_channel', 'store_count','alipay_huabei']]"
   ]
  },
  {
   "cell_type": "code",
   "execution_count": null,
   "metadata": {},
   "outputs": [],
   "source": [
    "from sklearn.ensemble import RandomForestClassifier\n",
    "from sklearn.ensemble import VotingClassifier\n",
    "\n",
    "\n",
    "rfc = RandomForestClassifier(n_estimators=10, random_state=42)\n",
    "\n",
    "voting_clf = VotingClassifier(\n",
    "    estimators=[('rf', rfc)],\n",
    "    voting='hard')\n",
    "\n",
    "voting_clf.fit(X_train1, y_train1)"
   ]
  },
  {
   "cell_type": "code",
   "execution_count": null,
   "metadata": {},
   "outputs": [],
   "source": [
    "voting_clf.predict(X_test1)"
   ]
  },
  {
   "cell_type": "code",
   "execution_count": null,
   "metadata": {},
   "outputs": [],
   "source": [
    "y_train1['if_overdue'].value_counts()"
   ]
  },
  {
   "cell_type": "code",
   "execution_count": null,
   "metadata": {},
   "outputs": [],
   "source": [
    "pd.Series(voting_clf.predict(X_test1)).value_counts()"
   ]
  },
  {
   "cell_type": "markdown",
   "metadata": {},
   "source": [
    "## 决策树——复贷预测"
   ]
  },
  {
   "cell_type": "code",
   "execution_count": null,
   "metadata": {},
   "outputs": [],
   "source": []
  },
  {
   "cell_type": "code",
   "execution_count": null,
   "metadata": {},
   "outputs": [],
   "source": []
  }
 ],
 "metadata": {
  "kernelspec": {
   "display_name": "Python 3",
   "language": "python",
   "name": "python3"
  },
  "language_info": {
   "codemirror_mode": {
    "name": "ipython",
    "version": 3
   },
   "file_extension": ".py",
   "mimetype": "text/x-python",
   "name": "python",
   "nbconvert_exporter": "python",
   "pygments_lexer": "ipython3",
   "version": "3.7.0"
  },
  "latex_envs": {
   "LaTeX_envs_menu_present": true,
   "autoclose": false,
   "autocomplete": true,
   "bibliofile": "biblio.bib",
   "cite_by": "apalike",
   "current_citInitial": 1,
   "eqLabelWithNumbers": true,
   "eqNumInitial": 1,
   "hotkeys": {
    "equation": "Ctrl-E",
    "itemize": "Ctrl-I"
   },
   "labels_anchors": false,
   "latex_user_defs": false,
   "report_style_numbering": false,
   "user_envs_cfg": false
  },
  "nbTranslate": {
   "displayLangs": [
    "*"
   ],
   "hotkey": "alt-t",
   "langInMainMenu": true,
   "sourceLang": "en",
   "targetLang": "fr",
   "useGoogleTranslate": true
  },
  "toc": {
   "base_numbering": 1,
   "nav_menu": {},
   "number_sections": true,
   "sideBar": true,
   "skip_h1_title": false,
   "title_cell": "Table of Contents",
   "title_sidebar": "Contents",
   "toc_cell": false,
   "toc_position": {
    "height": "calc(100% - 180px)",
    "left": "10px",
    "top": "150px",
    "width": "289px"
   },
   "toc_section_display": true,
   "toc_window_display": true
  },
  "varInspector": {
   "cols": {
    "lenName": 16,
    "lenType": 16,
    "lenVar": 40
   },
   "kernels_config": {
    "python": {
     "delete_cmd_postfix": "",
     "delete_cmd_prefix": "del ",
     "library": "var_list.py",
     "varRefreshCmd": "print(var_dic_list())"
    },
    "r": {
     "delete_cmd_postfix": ") ",
     "delete_cmd_prefix": "rm(",
     "library": "var_list.r",
     "varRefreshCmd": "cat(var_dic_list()) "
    }
   },
   "types_to_exclude": [
    "module",
    "function",
    "builtin_function_or_method",
    "instance",
    "_Feature"
   ],
   "window_display": false
  }
 },
 "nbformat": 4,
 "nbformat_minor": 2
}
