{
 "cells": [
  {
   "cell_type": "code",
   "execution_count": null,
   "metadata": {
    "ExecuteTime": {
     "start_time": "2020-04-26T09:27:12.084Z"
    }
   },
   "outputs": [
    {
     "name": "stdout",
     "output_type": "stream",
     "text": [
      "请输入上学吧题目所对应的网址\n",
      "如：https://www.shangxueba.com/ask/8952241.html\n",
      "输入exit结束本程序：https://www.shangxueba.com/ask/8952241.html\n",
      "输入验证码:10\n",
      "0\n",
      "\n",
      "===========================================\n",
      "\n",
      "\n",
      "\n",
      "\n",
      "答案在该程序同一个目录生成的的ans.html中\n",
      "\n",
      "\n",
      "\n",
      "\n",
      "\n",
      "\n",
      "\n",
      "===========================================\n"
     ]
    }
   ],
   "source": [
    "import requests\n",
    "import random\n",
    "import os\n",
    "from PIL import Image\n",
    "# from config import *\n",
    "import urllib3\n",
    "urllib3.disable_warnings()\n",
    "def get_Verifynum(url):\n",
    "\tglobal session\n",
    "\tr= session.get(\"https://www.shangxueba.com/ask/VerifyCode2.aspx\",verify=False)\n",
    "\twith open('temp.jpg','wb+') as f:\n",
    "\t\tf.write(r.content)\n",
    "\timage=Image.open('temp.jpg')\n",
    "\timage.show()\n",
    "\tVerifynum=input(\"输入验证码:\")\n",
    "\timage.close()\n",
    "\tos.remove(\"temp.jpg\")\n",
    "\treturn Verifynum\n",
    "def verifyfirst(Verifynum):\n",
    "\tglobal session\n",
    "\tdata={\n",
    "\t\t\t\"Verify\": Verifynum,\n",
    "\t\t\t\"action\": \"CheckVerify\",\n",
    "\t\t}\n",
    "\tsession.post(\"https://www.shangxueba.com/ask/ajax/GetZuiJia.aspx\",data=data)\n",
    "def get_ans_html(Verifynum,dataid):\n",
    "\tglobal session\n",
    "\tdata={\n",
    "\t\t\"phone\":\"\",\n",
    "\t\t\"dataid\": dataid,\n",
    "\t\t\"action\": \"submitVerify\",\n",
    "\t\t\"siteid\": \"1001\",\n",
    "\t\t\"Verify\": Verifynum,\n",
    "\t}\n",
    "\tr=session.post(\"https://www.shangxueba.com/ask/ajax/GetZuiJia.aspx\",data=data)\n",
    "\treturn r.text\n",
    "def write(html_data):\n",
    "\thtml=\"\"\"\n",
    "\t<html>\n",
    "\t<head>\n",
    "\t</head>\n",
    "\t<body>\n",
    "\t<hr>\n",
    "\t<div style=\"width:600px;margin:0 auto\">\n",
    "\t%s\n",
    "\t</div>\n",
    "\t\n",
    "\t</body>\n",
    "\t</html>\n",
    "\n",
    "\t\"\"\"%(html_data)\n",
    "\twith open(\"ans.html\",\"w+\",encoding=\"ANSI\") as f:\n",
    "\t\tf.write(html)\n",
    "\n",
    "if __name__ == '__main__':\n",
    "\tglobal session\n",
    "\twhile True:\n",
    "\t\tsession = requests.session()\n",
    "\t\tsession.headers.update({\"X-Forwarded-For\":\"%d.%d.%d.%d\"%(random.randint(120,125),random.randint(1,200),random.randint(1,200),random.randint(1,200))})\n",
    "\t\turl = input(\"请输入上学吧题目所对应的网址\\n如：https://www.shangxueba.com/ask/8952241.html\\n输入exit结束本程序：\")\n",
    "\t\turl = url.strip()\n",
    "\t\tif \"exit\"in url :\n",
    "\t\t\tbreak\n",
    "\t\tif \"html\" not in url or \"https\" not in url:\n",
    "\t\t\tprint(\"url 格式不对\")\n",
    "\t\t\tcontinue\n",
    "\t\tdataid=url.split(\"/\")[-1].replace(r\".html\",\"\")\n",
    "\t\tverifynum = get_Verifynum(url)\n",
    "\t\tverifyfirst(verifynum)\n",
    "\t\thtml=get_ans_html(verifynum,dataid)\n",
    "\t\tprint(html)\n",
    "\t\twrite(html)\n",
    "\t\tprint(\"===========================================\\n\\n\\n\\n\\n答案在该程序同一个目录生成的的ans.html中\\n\\n\\n\\n\\n\\n\\n\\n===========================================\")"
   ]
  }
 ],
 "metadata": {
  "kernelspec": {
   "display_name": "Python [conda env:root] *",
   "language": "python",
   "name": "conda-root-py"
  },
  "language_info": {
   "codemirror_mode": {
    "name": "ipython",
    "version": 3
   },
   "file_extension": ".py",
   "mimetype": "text/x-python",
   "name": "python",
   "nbconvert_exporter": "python",
   "pygments_lexer": "ipython3",
   "version": "3.7.0"
  },
  "latex_envs": {
   "LaTeX_envs_menu_present": true,
   "autoclose": false,
   "autocomplete": true,
   "bibliofile": "biblio.bib",
   "cite_by": "apalike",
   "current_citInitial": 1,
   "eqLabelWithNumbers": true,
   "eqNumInitial": 1,
   "hotkeys": {
    "equation": "Ctrl-E",
    "itemize": "Ctrl-I"
   },
   "labels_anchors": false,
   "latex_user_defs": false,
   "report_style_numbering": false,
   "user_envs_cfg": false
  },
  "nbTranslate": {
   "displayLangs": [
    "*"
   ],
   "hotkey": "alt-t",
   "langInMainMenu": true,
   "sourceLang": "en",
   "targetLang": "fr",
   "useGoogleTranslate": true
  },
  "toc": {
   "base_numbering": 1,
   "nav_menu": {},
   "number_sections": true,
   "sideBar": true,
   "skip_h1_title": false,
   "title_cell": "Table of Contents",
   "title_sidebar": "Contents",
   "toc_cell": false,
   "toc_position": {},
   "toc_section_display": true,
   "toc_window_display": false
  },
  "varInspector": {
   "cols": {
    "lenName": 16,
    "lenType": 16,
    "lenVar": 40
   },
   "kernels_config": {
    "python": {
     "delete_cmd_postfix": "",
     "delete_cmd_prefix": "del ",
     "library": "var_list.py",
     "varRefreshCmd": "print(var_dic_list())"
    },
    "r": {
     "delete_cmd_postfix": ") ",
     "delete_cmd_prefix": "rm(",
     "library": "var_list.r",
     "varRefreshCmd": "cat(var_dic_list()) "
    }
   },
   "types_to_exclude": [
    "module",
    "function",
    "builtin_function_or_method",
    "instance",
    "_Feature"
   ],
   "window_display": false
  }
 },
 "nbformat": 4,
 "nbformat_minor": 2
}
